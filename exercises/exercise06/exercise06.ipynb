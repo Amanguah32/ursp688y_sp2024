{
 "cells": [
  {
   "cell_type": "markdown",
   "id": "64cfc94b-7f4c-44d0-a738-dcf75ca56307",
   "metadata": {},
   "source": [
    "Urban Data Science & Smart Cities <br>\n",
    "URSP688Y <br>\n",
    "Instructor: Chester Harvey <br>\n",
    "Urban Studies & Planning <br>\n",
    "National Center for Smart Growth <br>\n",
    "University of Maryland"
   ]
  },
  {
   "cell_type": "markdown",
   "id": "40140710-dbbb-4249-99bb-bb317297a1cd",
   "metadata": {},
   "source": [
    "[<img src=\"https://colab.research.google.com/assets/colab-badge.svg\">](https://colab.research.google.com/github/ncsg/ursp688y_sp2024/blob/main/exercises/exercise05/exercise05.ipynb)"
   ]
  },
  {
   "cell_type": "markdown",
   "id": "4dbe22dc-a58d-4a1b-a106-dd923f988e5b",
   "metadata": {},
   "source": [
    "# Exercise 6\n",
    "\n",
    "## Problem\n",
    "\n",
    "In class this week we saw how to access real-time data about Capital Bikeshare from the internet using their API. We also dealt with the challenge of wrangling those data. We needed to parse a JSON file into a table, and we considered how we might retrieve, store, and combine many JSONs in order to understand how bike availability changed over time.\n",
    "\n",
    "These real-time data can help us answer questions about how well Captial Bikeshare is being utilized.\n",
    "\n",
    "See if you can use data from the API (I have already stored and combined it--see below) answer these questions:\n",
    "- How many bikes were available within the system during each hour over a 24 hour period?\n",
    "    - Can you graph this over time?\n",
    "    - Which hour of the day were bikes most available? Least available?\n",
    "\n",
    "**Bonus:** Can you write a function to estimate how many bikes are <ins>currently being used</ins>, whenever you call the function? This will require loading real-time data from the API and comparing it to stored data.\n",
    "\n",
    "## Data\n",
    "\n",
    "I wrote a script, which you can see [here](https://github.com/ncsg/ursp688y_sp2024/blob/main/demos/demo06/cabi_data/get_cabi_free_bikes.py), to retrieve and store JSON data from the `free_bike_status` table in [Capital Bikeshare's](https://capitalbikeshare.com/system-data) GBFS feed every 5 minutes. I ran this script on my computer for a bit more than 24 hours. ([Here's a tutorial](https://realpython.com/run-python-scripts/) on running scripts on the command line, if you're curious.) All of those JSONS are available for you to use. They're stored at [`ursp688y_sp2024/demos/demo06/cabi_data`](https://github.com/ncsg/ursp688y_sp2024/tree/main/demos/demo06/cabi_data).\n",
    "\n",
    "## Building Off of the Demo\n",
    "\n",
    "The in-class demo gave us a starting point for how to access real-time JSON data from the API, load saved JSON data, and parse JSON data into a DataFrame.\n",
    "\n",
    "I have copied what we did in class below and added onto it to develop a single tidy dataframe with records from all the saved JSONs, plus timestamps. This should be all the data you need for the questions above (except the bonus).\n",
    "\n",
    "See if you can follow my code, then build onto it.\n",
    "\n",
    "As usual, please wrap the code for your solution in a function, and put that function into a module (you can add to my module, or make a new one if you prefer). Then load your main function from the module and call it in the notebook to demonstrate your solution.\n"
   ]
  },
  {
   "cell_type": "code",
   "execution_count": 1,
   "id": "270729b1-57eb-429e-92e4-2320838f2415",
   "metadata": {},
   "outputs": [],
   "source": [
    "# Import your module\n",
    "\n",
    "# Call your main function"
   ]
  }
 ],
 "metadata": {
  "kernelspec": {
   "display_name": "Python 3 (ipykernel)",
   "language": "python",
   "name": "python3"
  },
  "language_info": {
   "codemirror_mode": {
    "name": "ipython",
    "version": 3
   },
   "file_extension": ".py",
   "mimetype": "text/x-python",
   "name": "python",
   "nbconvert_exporter": "python",
   "pygments_lexer": "ipython3",
   "version": "3.10.12"
  }
 },
 "nbformat": 4,
 "nbformat_minor": 5
}
