#Create a dictionary for Population by Ward for the second question
Pop_data = [{'Ward 1':82404 , 'Ward 2':83925 , 'Ward 3':82450 , 'Ward 4':86085 , 'Ward 5':89082 , 'Ward 6':79161 , 'Ward 7':91997, 'Ward 8':88050 }]

#Create data-frame
df = pd.DataFrame(data)
df

#Filter data that is only under construction or development pipeline
filtered_df = df[(df["STATUS_PUBLIC"].str.contains("Under Construction")) | (df["STATUS_PUBLIC"].str.contains("Pipeline"))]
filtered_df["STATUS_PUBLIC"].value_counts()

#Filter data from the already filtered data, so that it contains the different Affordable units numbers that are up to 60% AMI
ward_units = filtered_df.groupby("MAR_WARD")["AFFORDABLE_UNITS_AT_0_30_AMI", "AFFORDABLE_UNITS_AT_31_50_AMI", "AFFORDABLE_UNITS_AT_51_60_AMI"].sum()
ward_units

#Calculate the sum by Ward
ward_units["TOTAL_AFFORDABLE_UNITS_UP_TO_60%_AMI"] = ward_units.sum(axis=1)
ward_units

#Sort and present sum values descending

ward_units[["TOTAL_AFFORDABLE_UNITS_UP_TO_60%_AMI"]].sort_values("TOTAL_AFFORDABLE_UNITS_UP_TO_60%_AMI", ascending=False)

#Find the ward that has the maximum units value
Most_units = ward_units[["TOTAL_AFFORDABLE_UNITS_UP_TO_60%_AMI"]].sort_values("TOTAL_AFFORDABLE_UNITS_UP_TO_60%_AMI", ascending=False).idxmax()
Most_units

#Find the ward that has the least units value
Least_units = ward_units[["TOTAL_AFFORDABLE_UNITS_UP_TO_60%_AMI"]].sort_values("TOTAL_AFFORDABLE_UNITS_UP_TO_60%_AMI", ascending=False).idxmin()
Least_units

#Create a data frame for population
df = pd.DataFrame(Pop_data)
df

import pandas as pd
df = pd.DataFrame(Pop_data)


#Calculate Unit per capita
df_ward["Unit per capita"] = df_ward["TOTAL_AFFORDABLE_UNITS_UP_TO_60%_AMI"]/df_ward["Pop_data"]
df_ward
