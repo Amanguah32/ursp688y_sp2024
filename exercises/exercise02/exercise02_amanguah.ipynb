# Question 1
# pseudocode
# First off I will surf through using a for loop to get the service type requested
# create a list of the service requests made
# use a simple count to determine the number of service requested

request_made = []
# request_made.append(service_requests)[request_type]["Request Type"]

from collections import Counter

# using for loop to select request type made from the dictionary poll
for request_type in service_requests:
  #print(service_requests[request_type]["Request Type"])
# Adding the created or extracted requests type to the empty request_made list created
  request_made.append(service_requests[request_type]["Request Type"])

# using a count to determing the number of each requests type made
ebenezer = Counter(request_made)
ebenezer


# Question 2
# Pseudocode
# use of for loop to extract the request made by cities from the dictionary
# print out request made by cities by creating a list for them based on location
# use count to extsblish the number of request made by each city


from collections import Counter
# creating a list of request made by cities
location_list = []

# using for loop to select requests made by cities from the dictionary
for city_request in service_requests:
# print(service_requests[city_request]["City"])
# Adding the the created or extracted requests made by cities to the empty location_list created
 location_list.append(service_requests[city_request]["City"])

# using a count to determing the number of requests made by each of the cities
city_request_made = Counter(location_list)
print(city_request_made)
