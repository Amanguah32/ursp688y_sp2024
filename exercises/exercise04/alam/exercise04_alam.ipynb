{
  "cells": [
    {
      "cell_type": "markdown",
      "id": "64cfc94b-7f4c-44d0-a738-dcf75ca56307",
      "metadata": {
        "id": "64cfc94b-7f4c-44d0-a738-dcf75ca56307"
      },
      "source": [
        "Urban Data Science & Smart Cities <br>\n",
        "URSP688Y <br>\n",
        "Instructor: Chester Harvey <br>\n",
        "Urban Studies & Planning <br>\n",
        "National Center for Smart Growth <br>\n",
        "University of Maryland"
      ]
    },
    {
      "cell_type": "markdown",
      "id": "40140710-dbbb-4249-99bb-bb317297a1cd",
      "metadata": {
        "id": "40140710-dbbb-4249-99bb-bb317297a1cd"
      },
      "source": [
        "[<img src=\"https://colab.research.google.com/assets/colab-badge.svg\">](https://colab.research.google.com/github/ncsg/ursp688y_sp2024/blob/main/exercises/exercise04/exercise04.ipynb)"
      ]
    },
    {
      "cell_type": "markdown",
      "id": "4dbe22dc-a58d-4a1b-a106-dd923f988e5b",
      "metadata": {
        "id": "4dbe22dc-a58d-4a1b-a106-dd923f988e5b"
      },
      "source": [
        "# Exercise 4 (in Two Parts)\n",
        "\n",
        "# The Data Viz Part\n",
        "\n",
        "Next week is Data Visualization week. This is one of my favorite topics, in part because we get to look at lots of pictures, and in part because it provides an excuse for some very lighthearted competition.\n",
        "\n",
        "In prep for next week, part of your exercise is to find an example of either an _excellent_ or _terrible_ data visualization. We will vote on the best (and worst) in each category, and the winner gets a small (tasty) prize.\n",
        "\n",
        "Please find an example of a data visualization that is either _very effective_ or _terribly ineffective_ in communicating an interesting finding from data. Here are a few ground rules:\n",
        "- One figure only: We should be able to see the whole thing at once on a projector screen.\n",
        "- Static images only: If you find something dynamic or interactive that you _must_ submit, please take a screenshot.\n",
        "- Do the reading first: Tufte will give you some ideas for what makes visualizations good or bad\n",
        "- No examples from Tufte. Gotta work a little bit.\n",
        "\n",
        "Please either paste a link to your image in the text cell below (can you figure out how to get markdown to display the image?) or add an image file to your PR.\n",
        "- Please label it clearly as \"good\" or \"bad\" so we know which race you're in.\n",
        "- Please write a couple bullets about why it's good or bad. This is your pitch (we can haggle about it in class, too.)"
      ]
    },
    {
      "cell_type": "markdown",
      "id": "0a728881-d6ad-43de-a173-9ef8724e0997",
      "metadata": {
        "id": "0a728881-d6ad-43de-a173-9ef8724e0997"
      },
      "source": [
        "## Good/Bad (please choose one and delete the other)\n",
        "- Why\n",
        "- Some more why\n",
        "- Any more?\n",
        "\n",
        "***** Put image link or insert image here *****"
      ]
    },
    {
      "cell_type": "markdown",
      "id": "c1181b6f-7d2f-4c59-98bf-6940085bc1e6",
      "metadata": {
        "id": "c1181b6f-7d2f-4c59-98bf-6940085bc1e6"
      },
      "source": [
        "# The Programming Part\n",
        "\n",
        "## Problem\n",
        "\n",
        "In [Exercise 3](https://github.com/ncsg/ursp688y_sp2024/blob/main/exercises/exercise03/exercise03.ipynb), you examined how many affordable housing units available to households up to 60% AMI were planned within each ward in Washington, D.C.\n",
        "\n",
        "The bonus problem was to calculate which wards were producing a _disproportionately_ large and small number of housing units given their populations.\n",
        "\n",
        "This week, please reproduce this analysis, <ins>including</ins> the bonus part, using some of your new data loading, joining, and module-building skills.\n",
        "\n",
        "Please write a program that:\n",
        "\n",
        "- Loads the affordable housing project data from `affordable_housing.csv`\n",
        "- Loads the ward populations from `wards_from_2022.csv`\n",
        "- Joins the population data to the affordable housing data\n",
        "- Calculates which wards are producing disproportionately large and small number of housing units given their populations\n",
        "- Completes all of this data loading and processing within a function (or a series of functions called by a single main function)\n",
        "- Stores that function (and any related functions) in a module\n",
        "- Calls the main function in the exercise notebook to return table or other summary or results\n",
        "\n",
        "## Data\n",
        "\n",
        "CSVs for both required data tables are included on GitHub at `exercises/exercise04`.\n",
        "\n",
        "Please consult the city's database of [affordable housing](https://opendata.dc.gov/datasets/DCGIS::affordable-housing/about) projects and [ward demographic](https://opendata.dc.gov/datasets/DCGIS::wards-from-2022/about) data.\n",
        "\n",
        "Bonus: find, download, and use more recent ward population data. (Remember to include it in your PR.) My cursory search found data as late as 2022.\n",
        "\n",
        "## New instructions for submitting a PR with multiple files\n",
        "\n",
        "Because you'll be working with multiple files, PRs become _slightly_ more complicated, so we're graduating to a new 'mini-repository' pattern:\n",
        "- Make a new folder in `exercises/exercise04` with your last name (just like the suffix for your notebook file)\n",
        "- Upload your notebook file, also appropriately named, into that folder\n",
        "- Upload any other files you make/use, including `.py` and `.csv` files, into that folder, so everything is together in the same place\n",
        "\n",
        "Ultimately, this will look a bit like this:\n",
        "```\n",
        "── exercises\n",
        "    ├── exercise04\n",
        "        ├── harvey\n",
        "            ├── exercise04_harvey.ipynb\n",
        "            ├── affordable_housing_calcs.py\n",
        "            ├── affordable_housing.csv\n",
        "            └── wards_from_2022.csv\n",
        "```\n",
        "\n",
        "**NOTE:** Yes, I realize this is a bit redundant because everyone will have copies of the same CSV files. This would never be a good idea for production coding--we would have one `data` directory, and everyone would draw from the same data. However, there are two reasons for all these copies in this case:\n",
        "1. It's good practice to build a repository with all the parts your code needs to run.\n",
        "    - In later weeks, when you  _don't_ all have the same data, it won't seem as redundant.\n",
        "3. Having everything in one folder will make it easy for me to run your code on my computer.\n",
        "\n",
        "## Hints\n",
        "- You may want to join the population data _after_ summarizing the affordable housing data (i.e., join populations to sums of units). However, I could also see an approach where you join at the beginning, then aggregate the population column with a method called `first`\n",
        "\n"
      ]
    },
    {
      "cell_type": "code",
      "execution_count": null,
      "id": "270729b1-57eb-429e-92e4-2320838f2415",
      "metadata": {
        "id": "270729b1-57eb-429e-92e4-2320838f2415"
      },
      "outputs": [],
      "source": [
        "# Import your module\n",
        "\n",
        "# Call your main function\n"
      ]
    },
    {
      "cell_type": "code",
      "source": [
        "from google.colab import drive\n",
        "drive.mount('/content/drive')"
      ],
      "metadata": {
        "id": "fhp5oZkQEXKn",
        "colab": {
          "base_uri": "https://localhost:8080/"
        },
        "outputId": "683fa10c-6a85-409d-b92f-cbde46ca111d"
      },
      "id": "fhp5oZkQEXKn",
      "execution_count": 98,
      "outputs": [
        {
          "output_type": "stream",
          "name": "stdout",
          "text": [
            "Drive already mounted at /content/drive; to attempt to forcibly remount, call drive.mount(\"/content/drive\", force_remount=True).\n"
          ]
        }
      ]
    },
    {
      "cell_type": "code",
      "source": [
        "import os\n",
        "\n",
        "os.getcwd()"
      ],
      "metadata": {
        "colab": {
          "base_uri": "https://localhost:8080/",
          "height": 36
        },
        "id": "r3JhOFh1E4FE",
        "outputId": "b0bd85d9-f7b0-4612-e1fc-a379d398b75c"
      },
      "id": "r3JhOFh1E4FE",
      "execution_count": 99,
      "outputs": [
        {
          "output_type": "execute_result",
          "data": {
            "text/plain": [
              "'/content/drive/My Drive/ursp688y_shared_data_Saiful'"
            ],
            "application/vnd.google.colaboratory.intrinsic+json": {
              "type": "string"
            }
          },
          "metadata": {},
          "execution_count": 99
        }
      ]
    },
    {
      "cell_type": "code",
      "source": [
        "# 3) Change working directory\n",
        "wd_path = '/content/drive/MyDrive/ursp688y_shared_data_Saiful'\n",
        "os.chdir(wd_path)\n",
        "\n",
        "print(f'cwd: {os.getcwd()}')\n",
        "\n",
        "os.path.isfile('affordable_housing.csv')\n",
        "os.path.isfile('Wards_from_2022.csv')"
      ],
      "metadata": {
        "colab": {
          "base_uri": "https://localhost:8080/"
        },
        "id": "15kjxLguFPru",
        "outputId": "81cade38-7bd9-4c56-8666-bc49970895e5"
      },
      "id": "15kjxLguFPru",
      "execution_count": 100,
      "outputs": [
        {
          "output_type": "stream",
          "name": "stdout",
          "text": [
            "cwd: /content/drive/MyDrive/ursp688y_shared_data_Saiful\n"
          ]
        },
        {
          "output_type": "execute_result",
          "data": {
            "text/plain": [
              "True"
            ]
          },
          "metadata": {},
          "execution_count": 100
        }
      ]
    },
    {
      "cell_type": "code",
      "source": [
        "import pandas as pd\n",
        "\n",
        "\n",
        "# Load affordable housing data\n",
        "affordable_housing = pd.read_csv(\"affordable_housing.csv\")\n",
        "# Filter the data for units under construction or in the development pipeline\n",
        "affordable_housing_filtered = affordable_housing[affordable_housing['STATUS_PUBLIC'].isin(['Under Construction', 'Pipeline'])]\n",
        "# Exclude rows where MAR_Ward equals 1\n",
        "affordable_housing_cln = affordable_housing_filtered.loc[affordable_housing_filtered['MAR_WARD'] != '1']\n",
        "affordable_housing_cln['MAR_WARD'].unique()\n"
      ],
      "metadata": {
        "colab": {
          "base_uri": "https://localhost:8080/"
        },
        "id": "YCg1wH4LUFdo",
        "outputId": "2b68d869-7b5e-462b-b042-3db0cafafd32"
      },
      "id": "YCg1wH4LUFdo",
      "execution_count": 101,
      "outputs": [
        {
          "output_type": "execute_result",
          "data": {
            "text/plain": [
              "array(['Ward 6', 'Ward 8', 'Ward 1', 'Ward 5', 'Ward 4', 'Ward 3',\n",
              "       'Ward 7', 'Ward 2'], dtype=object)"
            ]
          },
          "metadata": {},
          "execution_count": 101
        }
      ]
    },
    {
      "cell_type": "code",
      "source": [
        "# Group by ward and sum the affordable units\n",
        "\n",
        "# Group by ward and sum the affordable units\n",
        "ward_affordable_units = affordable_housing_cln.groupby('MAR_WARD')['AFFORDABLE_UNITS_AT_0_30_AMI', 'AFFORDABLE_UNITS_AT_31_50_AMI', 'AFFORDABLE_UNITS_AT_51_60_AMI'].sum().reset_index()\n",
        "ward_affordable_units['total_affordable_units'] = ward_affordable_units[['AFFORDABLE_UNITS_AT_0_30_AMI', 'AFFORDABLE_UNITS_AT_31_50_AMI', 'AFFORDABLE_UNITS_AT_51_60_AMI']].sum(axis=1)\n",
        "print(ward_affordable_units)"
      ],
      "metadata": {
        "colab": {
          "base_uri": "https://localhost:8080/"
        },
        "id": "wJftAa58Vr4N",
        "outputId": "e383c938-29f8-469c-fb8d-5a712a7511bd"
      },
      "id": "wJftAa58Vr4N",
      "execution_count": 102,
      "outputs": [
        {
          "output_type": "stream",
          "name": "stdout",
          "text": [
            "  MAR_WARD  AFFORDABLE_UNITS_AT_0_30_AMI  AFFORDABLE_UNITS_AT_31_50_AMI  \\\n",
            "0   Ward 1                           258                            411   \n",
            "1   Ward 2                            23                             17   \n",
            "2   Ward 3                            77                             87   \n",
            "3   Ward 4                           126                            229   \n",
            "4   Ward 5                           600                            683   \n",
            "5   Ward 6                           659                            575   \n",
            "6   Ward 7                           528                           1140   \n",
            "7   Ward 8                          1189                           1760   \n",
            "\n",
            "   AFFORDABLE_UNITS_AT_51_60_AMI  total_affordable_units  \n",
            "0                            785                    1454  \n",
            "1                            220                     260  \n",
            "2                            280                     444  \n",
            "3                            277                     632  \n",
            "4                            969                    2252  \n",
            "5                           1200                    2434  \n",
            "6                            642                    2310  \n",
            "7                           1343                    4292  \n"
          ]
        },
        {
          "output_type": "stream",
          "name": "stderr",
          "text": [
            "<ipython-input-102-3cd4f79f6730>:4: FutureWarning: Indexing with multiple keys (implicitly converted to a tuple of keys) will be deprecated, use a list instead.\n",
            "  ward_affordable_units = affordable_housing_cln.groupby('MAR_WARD')['AFFORDABLE_UNITS_AT_0_30_AMI', 'AFFORDABLE_UNITS_AT_31_50_AMI', 'AFFORDABLE_UNITS_AT_51_60_AMI'].sum().reset_index()\n"
          ]
        }
      ]
    },
    {
      "cell_type": "code",
      "source": [
        "# Find the ward with the most and fewest total affordable units\n",
        "most_affordable_ward = ward_affordable_units.loc[ward_affordable_units['total_affordable_units'].idxmax()]\n",
        "fewest_affordable_ward = ward_affordable_units.loc[ward_affordable_units['total_affordable_units'].idxmin()]"
      ],
      "metadata": {
        "id": "M9zT11FMbiSB"
      },
      "id": "M9zT11FMbiSB",
      "execution_count": 103,
      "outputs": []
    },
    {
      "cell_type": "code",
      "source": [
        "# Print the ward with the most and fewest total affordable units\n",
        "print(\"Ward with the most total affordable units:\")\n",
        "print(most_affordable_ward)\n",
        "print(\"\\nWard with the fewest total affordable units:\")\n",
        "print(fewest_affordable_ward)"
      ],
      "metadata": {
        "colab": {
          "base_uri": "https://localhost:8080/"
        },
        "id": "kf0dSEBgbzlW",
        "outputId": "0f4c558e-05e4-4ebd-b516-fb81c57fb1c4"
      },
      "id": "kf0dSEBgbzlW",
      "execution_count": 104,
      "outputs": [
        {
          "output_type": "stream",
          "name": "stdout",
          "text": [
            "Ward with the most total affordable units:\n",
            "MAR_WARD                         Ward 8\n",
            "AFFORDABLE_UNITS_AT_0_30_AMI       1189\n",
            "AFFORDABLE_UNITS_AT_31_50_AMI      1760\n",
            "AFFORDABLE_UNITS_AT_51_60_AMI      1343\n",
            "total_affordable_units             4292\n",
            "Name: 7, dtype: object\n",
            "\n",
            "Ward with the fewest total affordable units:\n",
            "MAR_WARD                         Ward 2\n",
            "AFFORDABLE_UNITS_AT_0_30_AMI         23\n",
            "AFFORDABLE_UNITS_AT_31_50_AMI        17\n",
            "AFFORDABLE_UNITS_AT_51_60_AMI       220\n",
            "total_affordable_units              260\n",
            "Name: 1, dtype: object\n"
          ]
        }
      ]
    },
    {
      "cell_type": "code",
      "source": [
        "import pandas as pd\n",
        "\n",
        "def analyze_housing_data():\n",
        "    # Load affordable housing project data\n",
        "    affordable_housing = pd.read_csv(\"affordable_housing.csv\")\n",
        "\n",
        "    # Load ward populations\n",
        "    ward_populations = pd.read_csv(\"Wards_from_2022.csv\")\n",
        "\n",
        "    # Join population data to affordable housing data\n",
        "    housing_with_population = pd.merge(affordable_housing, ward_populations[['NAME','POP100','HU100']], left_on='MAR_WARD', right_on='NAME')\n",
        "\n",
        "    # Calculate proportion of housing units per population\n",
        "    housing_with_population['prop_housing_units'] = housing_with_population['HU100'] / housing_with_population['POP100']\n",
        "    # Calculate the mean ratio for all wards\n",
        "    mean_ratio = housing_with_population['prop_housing_units'].mean()\n",
        "\n",
        "    # Identify wards with ratios significantly higher or lower than the mean\n",
        "    disproportionately_large = housing_with_population[housing_with_population['prop_housing_units'] > mean_ratio]\n",
        "    disproportionately_small = housing_with_population[housing_with_population['prop_housing_units'] < mean_ratio]\n",
        "\n",
        "    return mean_ratio, disproportionately_large, disproportionately_small\n",
        "\n"
      ],
      "metadata": {
        "id": "5i0sy-mufD8B"
      },
      "id": "5i0sy-mufD8B",
      "execution_count": 105,
      "outputs": []
    },
    {
      "cell_type": "code",
      "source": [
        "# Call the function and store the returned values\n",
        "mean_ratio, disproportionately_large, disproportionately_small = analyze_housing_data()\n",
        "\n",
        "# Print or further process the results as needed\n",
        "print(\"Mean Ratio:\", mean_ratio)\n",
        "print(\"\\nWards with disproportionately large housing units:\", disproportionately_large)\n",
        "print(\"\\nWards with disproportionately small housing units:\", disproportionately_small)"
      ],
      "metadata": {
        "colab": {
          "base_uri": "https://localhost:8080/"
        },
        "id": "7F4bQmu9fpB8",
        "outputId": "afa4bd3f-dcf7-4440-8618-e5e49d1ccf39"
      },
      "id": "7F4bQmu9fpB8",
      "execution_count": 106,
      "outputs": [
        {
          "output_type": "stream",
          "name": "stdout",
          "text": [
            "Mean Ratio: 0.4986376195955401\n",
            "\n",
            "Wards with disproportionately large housing units:              X          Y  OBJECTID MAR_WARD  \\\n",
            "0   -77.009383  38.910255     89281   Ward 6   \n",
            "1   -77.009436  38.906403     89282   Ward 6   \n",
            "2   -77.002499  38.877245     89296   Ward 6   \n",
            "3   -77.015444  38.902768     89300   Ward 6   \n",
            "4   -76.981976  38.879213     89308   Ward 6   \n",
            "..         ...        ...       ...      ...   \n",
            "872 -77.083052  38.956662     90023   Ward 3   \n",
            "873 -77.077740  38.939937     90035   Ward 3   \n",
            "874 -77.072940  38.932576     90059   Ward 3   \n",
            "875 -77.071928  38.959224     90086   Ward 3   \n",
            "876 -77.095042  38.945749     90138   Ward 3   \n",
            "\n",
            "                                               ADDRESS  \\\n",
            "0    1520 North Capitol Street Northwest, Washingto...   \n",
            "1    1200 North Capitol Street Northwest, Washingto...   \n",
            "2    1100 2nd Place Southeast, Washington, District...   \n",
            "3    307 K Street Northwest, Washington, District o...   \n",
            "4    1600 Pennsylvania Avenue Southeast, Washington...   \n",
            "..                                                 ...   \n",
            "872  5151 Wisconsin Avenue Northwest, Washington, D...   \n",
            "873  30 Ridge Square Northwest, Washington, Distric...   \n",
            "874  3218 Wisconsin Avenue Northwest, Washington, D...   \n",
            "875  5301 Connecticut Avenue Northwest, Washington,...   \n",
            "876  4330 48th Street Northwest, Washington, Distri...   \n",
            "\n",
            "                                     PROJECT_NAME           STATUS_PUBLIC  \\\n",
            "0                                     Cycle House      Under Construction   \n",
            "1                          Tyler House Apartments  Completed 2015 to Date   \n",
            "2                        The Harlow (Square 769N)  Completed 2015 to Date   \n",
            "3                                      Plaza West  Completed 2015 to Date   \n",
            "4                     1600 Pennsylvania Avenue SE  Completed 2015 to Date   \n",
            "..                                            ...                     ...   \n",
            "872          Fox 5 Redevelopment - 5151 Wisconsin                Pipeline   \n",
            "873       City Ridge (former Fannie Mae) - Pkg 03  Completed 2015 to Date   \n",
            "874                         3218 Wisconsin Ave NW  Completed 2015 to Date   \n",
            "875                  5301-5303 Connecticut Ave NW  Completed 2015 to Date   \n",
            "876  Spring Valley Shopping Center (The Ladybird)                Pipeline   \n",
            "\n",
            "         AGENCY_CALCULATED  TOTAL_AFFORDABLE_UNITS   LATITUDE  ...  CASE_ID  \\\n",
            "0               DMPED DHCD                      18  38.910248  ...      NaN   \n",
            "1                    DCHFA                     284  38.906396  ...      NaN   \n",
            "2                DCHA DHCD                      36  38.877362  ...      NaN   \n",
            "3    DMPED DCHA DCHFA DHCD                     223  38.902760  ...      NaN   \n",
            "4                     DHCD                       8  38.879206  ...      NaN   \n",
            "..                     ...                     ...        ...  ...      ...   \n",
            "872                   DHCD                      23  38.956654  ...      NaN   \n",
            "873                   DHCD                      19  38.939929  ...      NaN   \n",
            "874                   DHCD                      10  38.932568  ...      NaN   \n",
            "875                   DHCD                       2  38.959216  ...      NaN   \n",
            "876                     OP                      30  38.945742  ...    19-10   \n",
            "\n",
            "     MAR_ID     XCOORD     YCOORD                   FULLADDRESS  \\\n",
            "0    331764  399186.36  138042.91  1520 NORTH CAPITOL STREET NW   \n",
            "1    237128  399181.75  137615.28  1200 NORTH CAPITOL STREET NW   \n",
            "2    313921  399783.38  134378.41             1100 2ND PLACE SE   \n",
            "3    312744  398660.57  137211.83               307 K STREET NW   \n",
            "4    311021  401564.10  134597.12   1600 PENNSYLVANIA AVENUE SE   \n",
            "..      ...        ...        ...                           ...   \n",
            "872  266466  392801.69  143197.64      5151 WISCONSIN AVENUE NW   \n",
            "873  331635  393260.47  141340.66            30 RIDGE SQUARE NW   \n",
            "874  221525  393676.00  140523.18      3218 WISCONSIN AVENUE NW   \n",
            "875  264140  393766.10  143481.22    5301 CONNECTICUT AVENUE NW   \n",
            "876  269574  391761.15  141987.30           4330 48TH STREET NW   \n",
            "\n",
            "          GIS_LAST_MOD_DTTM    NAME  POP100  HU100  prop_housing_units  \n",
            "0    2024/02/05 05:00:27+00  Ward 6   84266  52768            0.626207  \n",
            "1    2024/02/05 05:00:27+00  Ward 6   84266  52768            0.626207  \n",
            "2    2024/02/05 05:00:27+00  Ward 6   84266  52768            0.626207  \n",
            "3    2024/02/05 05:00:27+00  Ward 6   84266  52768            0.626207  \n",
            "4    2024/02/05 05:00:27+00  Ward 6   84266  52768            0.626207  \n",
            "..                      ...     ...     ...    ...                 ...  \n",
            "872  2024/02/05 05:00:27+00  Ward 3   85301  44109            0.517098  \n",
            "873  2024/02/05 05:00:27+00  Ward 3   85301  44109            0.517098  \n",
            "874  2024/02/05 05:00:27+00  Ward 3   85301  44109            0.517098  \n",
            "875  2024/02/05 05:00:27+00  Ward 3   85301  44109            0.517098  \n",
            "876  2024/02/05 05:00:27+00  Ward 3   85301  44109            0.517098  \n",
            "\n",
            "[336 rows x 26 columns]\n",
            "\n",
            "Wards with disproportionately small housing units:              X          Y  OBJECTID MAR_WARD  \\\n",
            "145 -77.030061  38.962519     89283   Ward 4   \n",
            "146 -77.033056  38.967357     89285   Ward 4   \n",
            "147 -77.031141  38.973462     89295   Ward 4   \n",
            "148 -77.023214  38.957123     89301   Ward 4   \n",
            "149 -77.027032  38.966339     89305   Ward 4   \n",
            "..         ...        ...       ...      ...   \n",
            "844 -76.954584  38.884013     90089   Ward 7   \n",
            "845 -76.924181  38.904145     90111   Ward 7   \n",
            "846 -76.953192  38.890116     90112   Ward 7   \n",
            "847 -76.955889  38.884352     90113   Ward 7   \n",
            "848 -76.932190  38.884980     90155   Ward 7   \n",
            "\n",
            "                                               ADDRESS  \\\n",
            "145  5922 13th Street Northwest, Washington, Distri...   \n",
            "146  1388 Tuckerman Street Northwest, Washington, D...   \n",
            "147  1324 Main Drive Northwest, Washington, Distric...   \n",
            "148  734 Longfellow Street Northwest, Washington, D...   \n",
            "149  919 Sheridan Street, NW, Washington, District ...   \n",
            "..                                                 ...   \n",
            "844  3600 Ely Place Southeast, Washington, District...   \n",
            "845  1100 Eastern Avenue Northeast, Washington, Dis...   \n",
            "846  3534 East Capitol Street Northeast, Washington...   \n",
            "847  401 Anacostia Road Southeast, Washington, Dist...   \n",
            "848  4922 Call Place Southeast, Washington, Distric...   \n",
            "\n",
            "                                      PROJECT_NAME           STATUS_PUBLIC  \\\n",
            "145                            Valencia Apartments  Completed 2015 to Date   \n",
            "146                             Vizcaya Apartments  Completed 2015 to Date   \n",
            "147                 Walter Reed - HELP Walter Reed  Completed 2015 to Date   \n",
            "148                     Manna Brightwood TOPA Pool  Completed 2015 to Date   \n",
            "149                               919 Sheridan LLC  Completed 2015 to Date   \n",
            "..                                             ...                     ...   \n",
            "844                   Anacostia Gardens Apartments  Completed 2015 to Date   \n",
            "845                            1100 Eastern Ave NE  Completed 2015 to Date   \n",
            "846  3500 East Capitol Street NE Solstice Phase II  Completed 2015 to Date   \n",
            "847                                   Mary's House      Under Construction   \n",
            "848                                 Amber Overlook  Completed 2015 to Date   \n",
            "\n",
            "    AGENCY_CALCULATED  TOTAL_AFFORDABLE_UNITS   LATITUDE  ...  CASE_ID  \\\n",
            "145              DHCD                      29  38.962511  ...      NaN   \n",
            "146              DHCD                      17  38.967349  ...      NaN   \n",
            "147   DMPED DCHA DHCD                      77  38.973454  ...      NaN   \n",
            "148              DHCD                      60  38.957116  ...      NaN   \n",
            "149              DHCD                       2  38.966351  ...      NaN   \n",
            "..                ...                     ...        ...  ...      ...   \n",
            "844        DCHFA DHCD                     100  38.884005  ...      NaN   \n",
            "845   DCHA DCHFA DHCD                      63  38.904188  ...      NaN   \n",
            "846         DCHA DHCD                      95  38.890110  ...      NaN   \n",
            "847         DCHA DHCD                      15  38.884360  ...      NaN   \n",
            "848              DHCD                      32  38.884973  ...      NaN   \n",
            "\n",
            "     MAR_ID     XCOORD     YCOORD                  FULLADDRESS  \\\n",
            "145  243483  397394.87  143845.04          5922 13TH STREET NW   \n",
            "146  257527  397135.52  144382.12     1388 TUCKERMAN STREET NW   \n",
            "147  316865  397301.69  145059.79           1324 MAIN DRIVE NW   \n",
            "148  250300  397988.17  143245.85     734 LONGFELLOW STREET NW   \n",
            "149  254163  397657.48  144268.98       919 SHERIDAN STREET NW   \n",
            "..      ...        ...        ...                          ...   \n",
            "844   33069  403940.68  135130.68            3600 ELY PLACE SE   \n",
            "845   74597  406576.64  137367.32       1100 EASTERN AVENUE NE   \n",
            "846  287970  404061.06  135808.24  3534 EAST CAPITOL STREET NE   \n",
            "847   28142  403827.38  135168.32        401 ANACOSTIA ROAD SE   \n",
            "848  145732  405883.52  135239.33           4922 CALL PLACE SE   \n",
            "\n",
            "          GIS_LAST_MOD_DTTM    NAME  POP100  HU100  prop_housing_units  \n",
            "145  2024/02/05 05:00:27+00  Ward 4   84660  34650            0.409284  \n",
            "146  2024/02/05 05:00:27+00  Ward 4   84660  34650            0.409284  \n",
            "147  2024/02/05 05:00:27+00  Ward 4   84660  34650            0.409284  \n",
            "148  2024/02/05 05:00:27+00  Ward 4   84660  34650            0.409284  \n",
            "149  2024/02/05 05:00:27+00  Ward 4   84660  34650            0.409284  \n",
            "..                      ...     ...     ...    ...                 ...  \n",
            "844  2024/02/05 05:00:27+00  Ward 7   85685  38968            0.454782  \n",
            "845  2024/02/05 05:00:27+00  Ward 7   85685  38968            0.454782  \n",
            "846  2024/02/05 05:00:27+00  Ward 7   85685  38968            0.454782  \n",
            "847  2024/02/05 05:00:27+00  Ward 7   85685  38968            0.454782  \n",
            "848  2024/02/05 05:00:27+00  Ward 7   85685  38968            0.454782  \n",
            "\n",
            "[541 rows x 26 columns]\n"
          ]
        }
      ]
    }
  ],
  "metadata": {
    "kernelspec": {
      "display_name": "Python 3 (ipykernel)",
      "language": "python",
      "name": "python3"
    },
    "language_info": {
      "codemirror_mode": {
        "name": "ipython",
        "version": 3
      },
      "file_extension": ".py",
      "mimetype": "text/x-python",
      "name": "python",
      "nbconvert_exporter": "python",
      "pygments_lexer": "ipython3",
      "version": "3.10.12"
    },
    "colab": {
      "provenance": []
    }
  },
  "nbformat": 4,
  "nbformat_minor": 5
}