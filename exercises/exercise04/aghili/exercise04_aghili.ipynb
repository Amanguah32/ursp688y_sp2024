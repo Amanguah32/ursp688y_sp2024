{
 "cells": [
  {
   "cell_type": "markdown",
   "id": "64cfc94b-7f4c-44d0-a738-dcf75ca56307",
   "metadata": {
    "id": "64cfc94b-7f4c-44d0-a738-dcf75ca56307"
   },
   "source": [
    "Urban Data Science & Smart Cities <br>\n",
    "URSP688Y <br>\n",
    "Instructor: Chester Harvey <br>\n",
    "Urban Studies & Planning <br>\n",
    "National Center for Smart Growth <br>\n",
    "University of Maryland"
   ]
  },
  {
   "cell_type": "markdown",
   "id": "40140710-dbbb-4249-99bb-bb317297a1cd",
   "metadata": {
    "id": "40140710-dbbb-4249-99bb-bb317297a1cd"
   },
   "source": [
    "[<img src=\"https://colab.research.google.com/assets/colab-badge.svg\">](https://colab.research.google.com/github/ncsg/ursp688y_sp2024/blob/main/exercises/exercise04/exercise04.ipynb)"
   ]
  },
  {
   "cell_type": "markdown",
   "id": "4dbe22dc-a58d-4a1b-a106-dd923f988e5b",
   "metadata": {
    "id": "4dbe22dc-a58d-4a1b-a106-dd923f988e5b"
   },
   "source": [
    "# Exercise 4 (in Two Parts)\n",
    "\n",
    "# The Data Viz Part\n",
    "\n",
    "Next week is Data Visualization week. This is one of my favorite topics, in part because we get to look at lots of pictures, and in part because it provides an excuse for some very lighthearted competition.\n",
    "\n",
    "In prep for next week, part of your exercise is to find an example of either an _excellent_ or _terrible_ data visualization. We will vote on the best (and worst) in each category, and the winner gets a small (tasty) prize.\n",
    "\n",
    "Please find an example of a data visualization that is either _very effective_ or _terribly ineffective_ in communicating an interesting finding from data. Here are a few ground rules:\n",
    "- One figure only: We should be able to see the whole thing at once on a projector screen.\n",
    "- Static images only: If you find something dynamic or interactive that you _must_ submit, please take a screenshot.\n",
    "- Do the reading first: Tufte will give you some ideas for what makes visualizations good or bad\n",
    "- No examples from Tufte. Gotta work a little bit.\n",
    "\n",
    "Please either paste a link to your image in the text cell below (can you figure out how to get markdown to display the image?) or add an image file to your PR.\n",
    "- Please label it clearly as \"good\" or \"bad\" so we know which race you're in.\n",
    "- Please write a couple bullets about why it's good or bad. This is your pitch (we can haggle about it in class, too.)"
   ]
  },
  {
   "cell_type": "markdown",
   "id": "0a728881-d6ad-43de-a173-9ef8724e0997",
   "metadata": {
    "id": "0a728881-d6ad-43de-a173-9ef8724e0997"
   },
   "source": [
    "## Good/Bad (please choose one and delete the other)\n",
    "Bad https://www.colorado.edu/geography/sites/default/files/styles/medium/public/article-image/capture1.png?itok=PzfEgLIn\n",
    "- Why\n",
    "It has too many labels\n",
    "\n",
    "***** Put image link or insert image here *****"
   ]
  },
  {
   "cell_type": "markdown",
   "id": "c1181b6f-7d2f-4c59-98bf-6940085bc1e6",
   "metadata": {
    "id": "c1181b6f-7d2f-4c59-98bf-6940085bc1e6"
   },
   "source": [
    "# The Programming Part\n",
    "\n",
    "## Problem\n",
    "\n",
    "In [Exercise 3](https://github.com/ncsg/ursp688y_sp2024/blob/main/exercises/exercise03/exercise03.ipynb), you examined how many affordable housing units available to households up to 60% AMI were planned within each ward in Washington, D.C.\n",
    "\n",
    "The bonus problem was to calculate which wards were producing a _disproportionately_ large and small number of housing units given their populations.\n",
    "\n",
    "This week, please reproduce this analysis, <ins>including</ins> the bonus part, using some of your new data loading, joining, and module-building skills.\n",
    "\n",
    "Please write a program that:\n",
    "\n",
    "- Loads the affordable housing project data from `affordable_housing.csv`\n",
    "- Loads the ward populations from `wards_from_2022.csv`\n",
    "- Joins the population data to the affordable housing data\n",
    "- Calculates which wards are producing disproportionately large and small number of housing units given their populations\n",
    "- Completes all of this data loading and processing within a function (or a series of functions called by a single main function)\n",
    "- Stores that function (and any related functions) in a module\n",
    "- Calls the main function in the exercise notebook to return table or other summary or results\n",
    "\n",
    "## Data\n",
    "\n",
    "CSVs for both required data tables are included on GitHub at `exercises/exercise04`.\n",
    "\n",
    "Please consult the city's database of [affordable housing](https://opendata.dc.gov/datasets/DCGIS::affordable-housing/about) projects and [ward demographic](https://opendata.dc.gov/datasets/DCGIS::wards-from-2022/about) data.\n",
    "\n",
    "Bonus: find, download, and use more recent ward population data. (Remember to include it in your PR.) My cursory search found data as late as 2022.\n",
    "\n",
    "## New instructions for submitting a PR with multiple files\n",
    "\n",
    "Because you'll be working with multiple files, PRs become _slightly_ more complicated, so we're graduating to a new 'mini-repository' pattern:\n",
    "- Make a new folder in `exercises/exercise04` with your last name (just like the suffix for your notebook file)\n",
    "- Upload your notebook file, also appropriately named, into that folder\n",
    "- Upload any other files you make/use, including `.py` and `.csv` files, into that folder, so everything is together in the same place\n",
    "\n",
    "Ultimately, this will look a bit like this:\n",
    "```\n",
    "── exercises\n",
    "    ├── exercise04\n",
    "        ├── harvey\n",
    "            ├── exercise04_harvey.ipynb\n",
    "            ├── affordable_housing_calcs.py\n",
    "            ├── affordable_housing.csv\n",
    "            └── wards_from_2022.csv\n",
    "```\n",
    "\n",
    "**NOTE:** Yes, I realize this is a bit redundant because everyone will have copies of the same CSV files. This would never be a good idea for production coding--we would have one `data` directory, and everyone would draw from the same data. However, there are two reasons for all these copies in this case:\n",
    "1. It's good practice to build a repository with all the parts your code needs to run.\n",
    "    - In later weeks, when you  _don't_ all have the same data, it won't seem as redundant.\n",
    "3. Having everything in one folder will make it easy for me to run your code on my computer.\n",
    "\n",
    "## Hints\n",
    "- You may want to join the population data _after_ summarizing the affordable housing data (i.e., join populations to sums of units). However, I could also see an approach where you join at the beginning, then aggregate the population column with a method called `first`\n",
    "\n"
   ]
  },
  {
   "cell_type": "code",
   "execution_count": 27,
   "id": "270729b1-57eb-429e-92e4-2320838f2415",
   "metadata": {
    "id": "270729b1-57eb-429e-92e4-2320838f2415"
   },
   "outputs": [],
   "source": [
    "# Import your module\n",
    "\n",
    "# Call your main function"
   ]
  },
  {
   "cell_type": "code",
   "execution_count": 28,
   "id": "FF5zteqN8oon",
   "metadata": {
    "colab": {
     "base_uri": "https://localhost:8080/"
    },
    "id": "FF5zteqN8oon",
    "outputId": "b6acffe6-2449-4587-f1a9-f53310277fc3"
   },
   "outputs": [
    {
     "name": "stdout",
     "output_type": "stream",
     "text": [
      "Drive already mounted at /content/drive; to attempt to forcibly remount, call drive.mount(\"/content/drive\", force_remount=True).\n"
     ]
    },
    {
     "data": {
      "text/plain": [
       "True"
      ]
     },
     "execution_count": 28,
     "metadata": {},
     "output_type": "execute_result"
    }
   ],
   "source": [
    "from google.colab import drive\n",
    "drive.mount('/content/drive')\n",
    "\n",
    "import os\n",
    "os.getcwd()\n",
    "\n",
    "ex_4_path = '/content/drive/MyDrive/aghili'\n",
    "os.chdir(ex_4_path)\n",
    "\n",
    "os.path.isfile('affordable_housing.csv')"
   ]
  },
  {
   "cell_type": "code",
   "execution_count": 1,
   "id": "iO_FFgI0dAUs",
   "metadata": {
    "id": "iO_FFgI0dAUs"
   },
   "outputs": [],
   "source": [
    "# # Define a function for all the operations and calculations\n",
    "# def housing_analysis(ex_4_path):\n",
    "\n",
    "\n",
    "#     # Import panda and numpy\n",
    "#     import pandas as pd\n",
    "#     # import numpy as np\n",
    "\n",
    "#     # Import the .csv files\n",
    "#     df = pd.read_csv('affordable_housing.csv')\n",
    "\n",
    "#     # Filter rows with units only in\n",
    "#     # Developement Pipeline or Under Construction\n",
    "#     df = df[df['STATUS_PUBLIC'] == ('Pipeline' or 'Under Construction')]\n",
    "\n",
    "#     # Add a column titled AFFORDABLE_UNITS_UP_TO_60_AMI whose values\n",
    "#     # are the total of units up to 60 AMI\n",
    "#     df['AFFORDABLE_UNITS_UP_TO_60_AMI'] = df[[\n",
    "#         'AFFORDABLE_UNITS_AT_0_30_AMI',\n",
    "#         'AFFORDABLE_UNITS_AT_31_50_AMI',\n",
    "#         'AFFORDABLE_UNITS_AT_51_60_AMI']].sum(axis=1)\n",
    "\n",
    "#     # Select relevant columns\n",
    "#     relevant_cols = ['MAR_WARD',\n",
    "#         'STATUS_PUBLIC',\n",
    "#         'AFFORDABLE_UNITS_UP_TO_60_AMI',\n",
    "#         'TOTAL_AFFORDABLE_UNITS']\n",
    "\n",
    "#     df = df[relevant_cols]\n",
    "\n",
    "#     # Group by MAR_WARD\n",
    "#     grouped_df = df.groupby('MAR_WARD')[[\n",
    "#         'AFFORDABLE_UNITS_UP_TO_60_AMI',\n",
    "#         'TOTAL_AFFORDABLE_UNITS']].sum().reset_index()\n",
    "\n",
    "#     # Import the population file\n",
    "#     df_pop_2024 = pd.read_csv('wards_from_2024.csv')\n",
    "\n",
    "#     # Joining two tables with the keys\n",
    "#     # MAR_WARD in first and DP05_0001E in second\n",
    "#     housing_projects_with_pops = pd.merge(grouped_df, df_pop_2024,\n",
    "#         left_on='MAR_WARD', right_on='NAMELSAD')\n",
    "\n",
    "#     housing_projects_with_pops = pd.merge(\n",
    "#         grouped_df,\n",
    "#         df_pop_2024[['NAMELSAD','POP_2024']],\n",
    "#         left_on='MAR_WARD',\n",
    "#         right_on='NAMELSAD')\n",
    "\n",
    "#     # Adding a column whose values are the result of\n",
    "#     # devision between population and the\n",
    "#     housing_projects_with_pops['HOUSING_DISTRIBUTION_RATE'] = grouped_df[\n",
    "#         'TOTAL_AFFORDABLE_UNITS'] / df_pop_2024['POP_2024']\n",
    "\n",
    "#     # Saving the .csv file\n",
    "#     housing_projects_with_pops.to_csv(\n",
    "#         'affordable_housing_with_ward_pops.csv')\n",
    "\n",
    "#     # Loading the created file\n",
    "#     final_answer_full = pd.read_csv(\n",
    "#         'affordable_housing_with_ward_pops.csv')\n",
    "\n",
    "#     # Filtering selected columns\n",
    "#     final_select = final_answer_full.filter([\n",
    "#         'MAR_WARD',\n",
    "#         'AFFORDABLE_UNITS_UP_TO_60_AMI',\n",
    "#         'TOTAL_AFFORDABLE_UNITS',\n",
    "#         'POP_2024',\n",
    "#         'HOUSING_DISTRIBUTION_RATE'])\n",
    "\n",
    "#     # Coloring Min and Max\n",
    "#     color_grouped_df = final_select.style.highlight_max(\n",
    "#         color=\"green\", axis=0).highlight_min(color=\"red\", axis=0)\n",
    "\n",
    "#     # Returning the colored data\n",
    "#     return color_grouped_df"
   ]
  },
  {
   "cell_type": "code",
   "execution_count": 6,
   "id": "7c0e31ea-9e98-4fd5-9261-cc78c44f13d1",
   "metadata": {},
   "outputs": [],
   "source": [
    "import exercise04_aghili"
   ]
  },
  {
   "cell_type": "code",
   "execution_count": 7,
   "id": "T5trsjhk216B",
   "metadata": {
    "colab": {
     "base_uri": "https://localhost:8080/",
     "height": 300
    },
    "id": "T5trsjhk216B",
    "outputId": "821c374f-ec34-4c90-aec3-c300a51a41e7"
   },
   "outputs": [
    {
     "data": {
      "text/html": [
       "<style type=\"text/css\">\n",
       "#T_040bc_row0_col0, #T_040bc_row2_col1, #T_040bc_row2_col2, #T_040bc_row2_col4, #T_040bc_row5_col3 {\n",
       "  background-color: red;\n",
       "}\n",
       "#T_040bc_row6_col2, #T_040bc_row6_col3, #T_040bc_row7_col0, #T_040bc_row7_col1, #T_040bc_row7_col4 {\n",
       "  background-color: green;\n",
       "}\n",
       "</style>\n",
       "<table id=\"T_040bc\">\n",
       "  <thead>\n",
       "    <tr>\n",
       "      <th class=\"blank level0\" >&nbsp;</th>\n",
       "      <th id=\"T_040bc_level0_col0\" class=\"col_heading level0 col0\" >MAR_WARD</th>\n",
       "      <th id=\"T_040bc_level0_col1\" class=\"col_heading level0 col1\" >AFFORDABLE_UNITS_UP_TO_60_AMI</th>\n",
       "      <th id=\"T_040bc_level0_col2\" class=\"col_heading level0 col2\" >TOTAL_AFFORDABLE_UNITS</th>\n",
       "      <th id=\"T_040bc_level0_col3\" class=\"col_heading level0 col3\" >POP_2024</th>\n",
       "      <th id=\"T_040bc_level0_col4\" class=\"col_heading level0 col4\" >HOUSING_DISTRIBUTION_RATE</th>\n",
       "    </tr>\n",
       "  </thead>\n",
       "  <tbody>\n",
       "    <tr>\n",
       "      <th id=\"T_040bc_level0_row0\" class=\"row_heading level0 row0\" >0</th>\n",
       "      <td id=\"T_040bc_row0_col0\" class=\"data row0 col0\" >Ward 1</td>\n",
       "      <td id=\"T_040bc_row0_col1\" class=\"data row0 col1\" >851</td>\n",
       "      <td id=\"T_040bc_row0_col2\" class=\"data row0 col2\" >888</td>\n",
       "      <td id=\"T_040bc_row0_col3\" class=\"data row0 col3\" >82404</td>\n",
       "      <td id=\"T_040bc_row0_col4\" class=\"data row0 col4\" >0.010776</td>\n",
       "    </tr>\n",
       "    <tr>\n",
       "      <th id=\"T_040bc_level0_row1\" class=\"row_heading level0 row1\" >1</th>\n",
       "      <td id=\"T_040bc_row1_col0\" class=\"data row1 col0\" >Ward 2</td>\n",
       "      <td id=\"T_040bc_row1_col1\" class=\"data row1 col1\" >234</td>\n",
       "      <td id=\"T_040bc_row1_col2\" class=\"data row1 col2\" >411</td>\n",
       "      <td id=\"T_040bc_row1_col3\" class=\"data row1 col3\" >83925</td>\n",
       "      <td id=\"T_040bc_row1_col4\" class=\"data row1 col4\" >0.004897</td>\n",
       "    </tr>\n",
       "    <tr>\n",
       "      <th id=\"T_040bc_level0_row2\" class=\"row_heading level0 row2\" >2</th>\n",
       "      <td id=\"T_040bc_row2_col0\" class=\"data row2 col0\" >Ward 3</td>\n",
       "      <td id=\"T_040bc_row2_col1\" class=\"data row2 col1\" >118</td>\n",
       "      <td id=\"T_040bc_row2_col2\" class=\"data row2 col2\" >151</td>\n",
       "      <td id=\"T_040bc_row2_col3\" class=\"data row2 col3\" >82450</td>\n",
       "      <td id=\"T_040bc_row2_col4\" class=\"data row2 col4\" >0.001831</td>\n",
       "    </tr>\n",
       "    <tr>\n",
       "      <th id=\"T_040bc_level0_row3\" class=\"row_heading level0 row3\" >3</th>\n",
       "      <td id=\"T_040bc_row3_col0\" class=\"data row3 col0\" >Ward 4</td>\n",
       "      <td id=\"T_040bc_row3_col1\" class=\"data row3 col1\" >376</td>\n",
       "      <td id=\"T_040bc_row3_col2\" class=\"data row3 col2\" >505</td>\n",
       "      <td id=\"T_040bc_row3_col3\" class=\"data row3 col3\" >86085</td>\n",
       "      <td id=\"T_040bc_row3_col4\" class=\"data row3 col4\" >0.005866</td>\n",
       "    </tr>\n",
       "    <tr>\n",
       "      <th id=\"T_040bc_level0_row4\" class=\"row_heading level0 row4\" >4</th>\n",
       "      <td id=\"T_040bc_row4_col0\" class=\"data row4 col0\" >Ward 5</td>\n",
       "      <td id=\"T_040bc_row4_col1\" class=\"data row4 col1\" >1771</td>\n",
       "      <td id=\"T_040bc_row4_col2\" class=\"data row4 col2\" >2070</td>\n",
       "      <td id=\"T_040bc_row4_col3\" class=\"data row4 col3\" >89082</td>\n",
       "      <td id=\"T_040bc_row4_col4\" class=\"data row4 col4\" >0.023237</td>\n",
       "    </tr>\n",
       "    <tr>\n",
       "      <th id=\"T_040bc_level0_row5\" class=\"row_heading level0 row5\" >5</th>\n",
       "      <td id=\"T_040bc_row5_col0\" class=\"data row5 col0\" >Ward 6</td>\n",
       "      <td id=\"T_040bc_row5_col1\" class=\"data row5 col1\" >1542</td>\n",
       "      <td id=\"T_040bc_row5_col2\" class=\"data row5 col2\" >1713</td>\n",
       "      <td id=\"T_040bc_row5_col3\" class=\"data row5 col3\" >79161</td>\n",
       "      <td id=\"T_040bc_row5_col4\" class=\"data row5 col4\" >0.021639</td>\n",
       "    </tr>\n",
       "    <tr>\n",
       "      <th id=\"T_040bc_level0_row6\" class=\"row_heading level0 row6\" >6</th>\n",
       "      <td id=\"T_040bc_row6_col0\" class=\"data row6 col0\" >Ward 7</td>\n",
       "      <td id=\"T_040bc_row6_col1\" class=\"data row6 col1\" >1804</td>\n",
       "      <td id=\"T_040bc_row6_col2\" class=\"data row6 col2\" >2570</td>\n",
       "      <td id=\"T_040bc_row6_col3\" class=\"data row6 col3\" >91997</td>\n",
       "      <td id=\"T_040bc_row6_col4\" class=\"data row6 col4\" >0.027936</td>\n",
       "    </tr>\n",
       "    <tr>\n",
       "      <th id=\"T_040bc_level0_row7\" class=\"row_heading level0 row7\" >7</th>\n",
       "      <td id=\"T_040bc_row7_col0\" class=\"data row7 col0\" >Ward 8</td>\n",
       "      <td id=\"T_040bc_row7_col1\" class=\"data row7 col1\" >2156</td>\n",
       "      <td id=\"T_040bc_row7_col2\" class=\"data row7 col2\" >2557</td>\n",
       "      <td id=\"T_040bc_row7_col3\" class=\"data row7 col3\" >88050</td>\n",
       "      <td id=\"T_040bc_row7_col4\" class=\"data row7 col4\" >0.029040</td>\n",
       "    </tr>\n",
       "  </tbody>\n",
       "</table>\n"
      ],
      "text/plain": [
       "<pandas.io.formats.style.Styler at 0x175b19db0>"
      ]
     },
     "execution_count": 7,
     "metadata": {},
     "output_type": "execute_result"
    }
   ],
   "source": [
    "exercise04_aghili.housing_analysis(ex_4_path)"
   ]
  },
  {
   "cell_type": "code",
   "execution_count": null,
   "id": "7fe23d92-a603-4c6b-b963-9b35be2eaec2",
   "metadata": {},
   "outputs": [],
   "source": []
  }
 ],
 "metadata": {
  "colab": {
   "provenance": []
  },
  "kernelspec": {
   "display_name": "Python 3 (ipykernel)",
   "language": "python",
   "name": "python3"
  },
  "language_info": {
   "codemirror_mode": {
    "name": "ipython",
    "version": 3
   },
   "file_extension": ".py",
   "mimetype": "text/x-python",
   "name": "python",
   "nbconvert_exporter": "python",
   "pygments_lexer": "ipython3",
   "version": "3.10.12"
  }
 },
 "nbformat": 4,
 "nbformat_minor": 5
}
