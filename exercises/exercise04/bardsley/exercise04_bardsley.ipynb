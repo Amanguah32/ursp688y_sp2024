{
 "cells": [
  {
   "cell_type": "markdown",
   "id": "64cfc94b-7f4c-44d0-a738-dcf75ca56307",
   "metadata": {
    "id": "64cfc94b-7f4c-44d0-a738-dcf75ca56307"
   },
   "source": [
    "Urban Data Science & Smart Cities <br>\n",
    "URSP688Y <br>\n",
    "Instructor: Chester Harvey <br>\n",
    "Urban Studies & Planning <br>\n",
    "National Center for Smart Growth <br>\n",
    "University of Maryland"
   ]
  },
  {
   "cell_type": "markdown",
   "id": "40140710-dbbb-4249-99bb-bb317297a1cd",
   "metadata": {
    "id": "40140710-dbbb-4249-99bb-bb317297a1cd"
   },
   "source": [
    "[<img src=\"https://colab.research.google.com/assets/colab-badge.svg\">](https://colab.research.google.com/github/ncsg/ursp688y_sp2024/blob/main/exercises/exercise04/exercise04.ipynb)"
   ]
  },
  {
   "cell_type": "markdown",
   "id": "4dbe22dc-a58d-4a1b-a106-dd923f988e5b",
   "metadata": {
    "id": "4dbe22dc-a58d-4a1b-a106-dd923f988e5b"
   },
   "source": [
    "# Exercise 4 (in Two Parts)\n",
    "\n",
    "# The Data Viz Part\n",
    "\n",
    "Next week is Data Visualization week. This is one of my favorite topics, in part because we get to look at lots of pictures, and in part because it provides an excuse for some very lighthearted competition.\n",
    "\n",
    "In prep for next week, part of your exercise is to find an example of either an _excellent_ or _terrible_ data visualization. We will vote on the best (and worst) in each category, and the winner gets a small (tasty) prize.\n",
    "\n",
    "Please find an example of a data visualization that is either _very effective_ or _terribly ineffective_ in communicating an interesting finding from data. Here are a few ground rules:\n",
    "- One figure only: We should be able to see the whole thing at once on a projector screen.\n",
    "- Static images only: If you find something dynamic or interactive that you _must_ submit, please take a screenshot.\n",
    "- Do the reading first: Tufte will give you some ideas for what makes visualizations good or bad\n",
    "- No examples from Tufte. Gotta work a little bit.\n",
    "\n",
    "Please either paste a link to your image in the text cell below (can you figure out how to get markdown to display the image?) or add an image file to your PR.\n",
    "- Please label it clearly as \"good\" or \"bad\" so we know which race you're in.\n",
    "- Please write a couple bullets about why it's good or bad. This is your pitch (we can haggle about it in class, too.)"
   ]
  },
  {
   "cell_type": "markdown",
   "id": "0a728881-d6ad-43de-a173-9ef8724e0997",
   "metadata": {
    "id": "0a728881-d6ad-43de-a173-9ef8724e0997"
   },
   "source": [
    "## Good/Bad (please choose one and delete the other)\n",
    "- Why\n",
    "- Some more why\n",
    "- Any more?\n",
    "\n",
    "***** Put image link or insert image here *****"
   ]
  },
  {
   "cell_type": "markdown",
   "id": "c1181b6f-7d2f-4c59-98bf-6940085bc1e6",
   "metadata": {
    "id": "c1181b6f-7d2f-4c59-98bf-6940085bc1e6"
   },
   "source": [
    "# The Programming Part\n",
    "\n",
    "## Problem\n",
    "\n",
    "In [Exercise 3](https://github.com/ncsg/ursp688y_sp2024/blob/main/exercises/exercise03/exercise03.ipynb), you examined how many affordable housing units available to households up to 60% AMI were planned within each ward in Washington, D.C.\n",
    "\n",
    "The bonus problem was to calculate which wards were producing a _disproportionately_ large and small number of housing units given their populations.\n",
    "\n",
    "This week, please reproduce this analysis, <ins>including</ins> the bonus part, using some of your new data loading, joining, and module-building skills.\n",
    "\n",
    "Please write a program that:\n",
    "\n",
    "- Loads the affordable housing project data from `affordable_housing.csv`\n",
    "- Loads the ward populations from `wards_from_2022.csv`\n",
    "- Joins the population data to the affordable housing data\n",
    "- Calculates which wards are producing disproportionately large and small number of housing units given their populations\n",
    "- Completes all of this data loading and processing within a function (or a series of functions called by a single main function)\n",
    "- Stores that function (and any related functions) in a module\n",
    "- Calls the main function in the exercise notebook to return table or other summary or results\n",
    "\n",
    "## Data\n",
    "\n",
    "CSVs for both required data tables are included on GitHub at `exercises/exercise04`.\n",
    "\n",
    "Please consult the city's database of [affordable housing](https://opendata.dc.gov/datasets/DCGIS::affordable-housing/about) projects and [ward demographic](https://opendata.dc.gov/datasets/DCGIS::wards-from-2022/about) data.\n",
    "\n",
    "Bonus: find, download, and use more recent ward population data. (Remember to include it in your PR.) My cursory search found data as late as 2022.\n",
    "\n",
    "## New instructions for submitting a PR with multiple files\n",
    "\n",
    "Because you'll be working with multiple files, PRs become _slightly_ more complicated, so we're graduating to a new 'mini-repository' pattern:\n",
    "- Make a new folder in `exercises/exercise04` with your last name (just like the suffix for your notebook file)\n",
    "- Upload your notebook file, also appropriately named, into that folder\n",
    "- Upload any other files you make/use, including `.py` and `.csv` files, into that folder, so everything is together in the same place\n",
    "\n",
    "Ultimately, this will look a bit like this:\n",
    "```\n",
    "── exercises\n",
    "    ├── exercise04\n",
    "        ├── harvey\n",
    "            ├── exercise04_harvey.ipynb\n",
    "            ├── affordable_housing_calcs.py\n",
    "            ├── affordable_housing.csv\n",
    "            └── wards_from_2022.csv\n",
    "```\n",
    "\n",
    "**NOTE:** Yes, I realize this is a bit redundant because everyone will have copies of the same CSV files. This would never be a good idea for production coding--we would have one `data` directory, and everyone would draw from the same data. However, there are two reasons for all these copies in this case:\n",
    "1. It's good practice to build a repository with all the parts your code needs to run.\n",
    "    - In later weeks, when you  _don't_ all have the same data, it won't seem as redundant.\n",
    "3. Having everything in one folder will make it easy for me to run your code on my computer.\n",
    "\n",
    "## Hints\n",
    "- You may want to join the population data _after_ summarizing the affordable housing data (i.e., join populations to sums of units). However, I could also see an approach where you join at the beginning, then aggregate the population column with a method called `first`\n",
    "\n"
   ]
  },
  {
   "cell_type": "code",
   "execution_count": 1,
   "id": "Mfc7yDDcgv0h",
   "metadata": {
    "colab": {
     "base_uri": "https://localhost:8080/"
    },
    "executionInfo": {
     "elapsed": 742,
     "status": "ok",
     "timestamp": 1708988456242,
     "user": {
      "displayName": "Jesse Bardsley",
      "userId": "12341686144957632472"
     },
     "user_tz": 300
    },
    "id": "Mfc7yDDcgv0h",
    "outputId": "f00ce4ce-96e2-4cba-f225-13692bfb1a03"
   },
   "outputs": [
    {
     "name": "stdout",
     "output_type": "stream",
     "text": [
      "Drive already mounted at /content/drive; to attempt to forcibly remount, call drive.mount(\"/content/drive\", force_remount=True).\n"
     ]
    }
   ],
   "source": [
    "from google.colab import drive\n",
    "drive.mount('/content/drive')"
   ]
  },
  {
   "cell_type": "code",
   "execution_count": 2,
   "id": "HRq-QXNtkd9C",
   "metadata": {
    "colab": {
     "base_uri": "https://localhost:8080/",
     "height": 35
    },
    "executionInfo": {
     "elapsed": 127,
     "status": "ok",
     "timestamp": 1708988647676,
     "user": {
      "displayName": "Jesse Bardsley",
      "userId": "12341686144957632472"
     },
     "user_tz": 300
    },
    "id": "HRq-QXNtkd9C",
    "outputId": "4b5e2530-b6d9-4a69-8eff-72b58462d375"
   },
   "outputs": [
    {
     "data": {
      "application/vnd.google.colaboratory.intrinsic+json": {
       "type": "string"
      },
      "text/plain": [
       "'/content/drive/.shortcut-targets-by-id/1m3vxo9-OfgjN1ZSn2umVu3lB4xG0HKiQ/ursp688y_shared_data'"
      ]
     },
     "execution_count": 2,
     "metadata": {},
     "output_type": "execute_result"
    }
   ],
   "source": [
    "import os\n",
    "wd_path = '/content/drive/MyDrive/ursp688y_shared_data'\n",
    "os.chdir(wd_path)\n",
    "os.getcwd()"
   ]
  },
  {
   "cell_type": "code",
   "execution_count": 1,
   "id": "Xpm-tfO2RKSg",
   "metadata": {
    "colab": {
     "base_uri": "https://localhost:8080/",
     "height": 330
    },
    "executionInfo": {
     "elapsed": 823,
     "status": "ok",
     "timestamp": 1708988650801,
     "user": {
      "displayName": "Jesse Bardsley",
      "userId": "12341686144957632472"
     },
     "user_tz": 300
    },
    "id": "Xpm-tfO2RKSg",
    "outputId": "ea39afd8-2a40-47c2-98be-acd7e34bafb4"
   },
   "outputs": [
    {
     "name": "stderr",
     "output_type": "stream",
     "text": [
      "/Users/cwharvey/github/ursp688y_sp2024/exercises/exercise04/bardsley/bardsleycalc3.py:12: SettingWithCopyWarning: \n",
      "A value is trying to be set on a copy of a slice from a DataFrame.\n",
      "Try using .loc[row_indexer,col_indexer] = value instead\n",
      "\n",
      "See the caveats in the documentation: https://pandas.pydata.org/pandas-docs/stable/user_guide/indexing.html#returning-a-view-versus-a-copy\n",
      "  df_mask['ColumnSum'] = df_mask[[column1,column2,column3]].sum(axis=1)\n"
     ]
    },
    {
     "data": {
      "text/html": [
       "<div>\n",
       "<style scoped>\n",
       "    .dataframe tbody tr th:only-of-type {\n",
       "        vertical-align: middle;\n",
       "    }\n",
       "\n",
       "    .dataframe tbody tr th {\n",
       "        vertical-align: top;\n",
       "    }\n",
       "\n",
       "    .dataframe thead th {\n",
       "        text-align: right;\n",
       "    }\n",
       "</style>\n",
       "<table border=\"1\" class=\"dataframe\">\n",
       "  <thead>\n",
       "    <tr style=\"text-align: right;\">\n",
       "      <th></th>\n",
       "      <th>Ward</th>\n",
       "      <th>Pop</th>\n",
       "      <th>HousingPerPop</th>\n",
       "    </tr>\n",
       "  </thead>\n",
       "  <tbody>\n",
       "    <tr>\n",
       "      <th>0</th>\n",
       "      <td>Ward 2</td>\n",
       "      <td>260</td>\n",
       "      <td>0.003049</td>\n",
       "    </tr>\n",
       "    <tr>\n",
       "      <th>1</th>\n",
       "      <td>Ward 3</td>\n",
       "      <td>444</td>\n",
       "      <td>0.005206</td>\n",
       "    </tr>\n",
       "    <tr>\n",
       "      <th>2</th>\n",
       "      <td>Ward 4</td>\n",
       "      <td>632</td>\n",
       "      <td>0.007410</td>\n",
       "    </tr>\n",
       "    <tr>\n",
       "      <th>3</th>\n",
       "      <td>Ward 1</td>\n",
       "      <td>1457</td>\n",
       "      <td>0.017084</td>\n",
       "    </tr>\n",
       "    <tr>\n",
       "      <th>4</th>\n",
       "      <td>Ward 5</td>\n",
       "      <td>2252</td>\n",
       "      <td>0.026406</td>\n",
       "    </tr>\n",
       "    <tr>\n",
       "      <th>5</th>\n",
       "      <td>Ward 7</td>\n",
       "      <td>2310</td>\n",
       "      <td>0.027086</td>\n",
       "    </tr>\n",
       "    <tr>\n",
       "      <th>6</th>\n",
       "      <td>Ward 6</td>\n",
       "      <td>2434</td>\n",
       "      <td>0.028540</td>\n",
       "    </tr>\n",
       "    <tr>\n",
       "      <th>7</th>\n",
       "      <td>Ward 8</td>\n",
       "      <td>4292</td>\n",
       "      <td>0.050325</td>\n",
       "    </tr>\n",
       "  </tbody>\n",
       "</table>\n",
       "</div>"
      ],
      "text/plain": [
       "     Ward   Pop  HousingPerPop\n",
       "0  Ward 2   260       0.003049\n",
       "1  Ward 3   444       0.005206\n",
       "2  Ward 4   632       0.007410\n",
       "3  Ward 1  1457       0.017084\n",
       "4  Ward 5  2252       0.026406\n",
       "5  Ward 7  2310       0.027086\n",
       "6  Ward 6  2434       0.028540\n",
       "7  Ward 8  4292       0.050325"
      ]
     },
     "execution_count": 1,
     "metadata": {},
     "output_type": "execute_result"
    }
   ],
   "source": [
    "import bardsleycalc3\n",
    "df2 = bardsleycalc3.WardPipelineSum('AFFORDABLE_UNITS_AT_0_30_AMI','AFFORDABLE_UNITS_AT_31_50_AMI','AFFORDABLE_UNITS_AT_51_60_AMI')\n",
    "df2#.head()"
   ]
  }
 ],
 "metadata": {
  "colab": {
   "provenance": [
    {
     "file_id": "https://github.com/ncsg/ursp688y_sp2024/blob/main/exercises/exercise04/exercise04.ipynb",
     "timestamp": 1708968160676
    }
   ]
  },
  "kernelspec": {
   "display_name": "Python 3 (ipykernel)",
   "language": "python",
   "name": "python3"
  },
  "language_info": {
   "codemirror_mode": {
    "name": "ipython",
    "version": 3
   },
   "file_extension": ".py",
   "mimetype": "text/x-python",
   "name": "python",
   "nbconvert_exporter": "python",
   "pygments_lexer": "ipython3",
   "version": "3.10.12"
  }
 },
 "nbformat": 4,
 "nbformat_minor": 5
}
