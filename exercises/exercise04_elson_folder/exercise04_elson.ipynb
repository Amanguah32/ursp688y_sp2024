{
  "cells": [
    {
      "cell_type": "markdown",
      "id": "64cfc94b-7f4c-44d0-a738-dcf75ca56307",
      "metadata": {
        "id": "64cfc94b-7f4c-44d0-a738-dcf75ca56307"
      },
      "source": [
        "Urban Data Science & Smart Cities <br>\n",
        "URSP688Y <br>\n",
        "Instructor: Chester Harvey <br>\n",
        "Urban Studies & Planning <br>\n",
        "National Center for Smart Growth <br>\n",
        "University of Maryland"
      ]
    },
    {
      "cell_type": "markdown",
      "id": "40140710-dbbb-4249-99bb-bb317297a1cd",
      "metadata": {
        "id": "40140710-dbbb-4249-99bb-bb317297a1cd"
      },
      "source": [
        "[<img src=\"https://colab.research.google.com/assets/colab-badge.svg\">](https://colab.research.google.com/github/ncsg/ursp688y_sp2024/blob/main/exercises/exercise04/exercise04.ipynb)"
      ]
    },
    {
      "cell_type": "markdown",
      "id": "4dbe22dc-a58d-4a1b-a106-dd923f988e5b",
      "metadata": {
        "id": "4dbe22dc-a58d-4a1b-a106-dd923f988e5b"
      },
      "source": [
        "# Exercise 4 (in Two Parts)\n",
        "\n",
        "# The Data Viz Part\n",
        "\n",
        "Next week is Data Visualization week. This is one of my favorite topics, in part because we get to look at lots of pictures, and in part because it provides an excuse for some very lighthearted competition.\n",
        "\n",
        "In prep for next week, part of your exercise is to find an example of either an _excellent_ or _terrible_ data visualization. We will vote on the best (and worst) in each category, and the winner gets a small (tasty) prize.\n",
        "\n",
        "Please find an example of a data visualization that is either _very effective_ or _terribly ineffective_ in communicating an interesting finding from data. Here are a few ground rules:\n",
        "- One figure only: We should be able to see the whole thing at once on a projector screen.\n",
        "- Static images only: If you find something dynamic or interactive that you _must_ submit, please take a screenshot.\n",
        "- Do the reading first: Tufte will give you some ideas for what makes visualizations good or bad\n",
        "- No examples from Tufte. Gotta work a little bit.\n",
        "\n",
        "Please either paste a link to your image in the text cell below (can you figure out how to get markdown to display the image?) or add an image file to your PR.\n",
        "- Please label it clearly as \"good\" or \"bad\" so we know which race you're in.\n",
        "- Please write a couple bullets about why it's good or bad. This is your pitch (we can haggle about it in class, too.)"
      ]
    },
    {
      "cell_type": "markdown",
      "id": "0a728881-d6ad-43de-a173-9ef8724e0997",
      "metadata": {
        "id": "0a728881-d6ad-43de-a173-9ef8724e0997"
      },
      "source": [
        "## Good/Bad (please choose one and delete the other)\n",
        "- Why\n",
        "- Some more why\n",
        "- Any more?\n",
        "\n",
        "***** Put image link or insert image here *****"
      ]
    },
    {
      "cell_type": "markdown",
      "id": "c1181b6f-7d2f-4c59-98bf-6940085bc1e6",
      "metadata": {
        "id": "c1181b6f-7d2f-4c59-98bf-6940085bc1e6"
      },
      "source": [
        "# The Programming Part\n",
        "\n",
        "## Problem\n",
        "\n",
        "In [Exercise 3](https://github.com/ncsg/ursp688y_sp2024/blob/main/exercises/exercise03/exercise03.ipynb), you examined how many affordable housing units available to households up to 60% AMI were planned within each ward in Washington, D.C.\n",
        "\n",
        "The bonus problem was to calculate which wards were producing a _disproportionately_ large and small number of housing units given their populations.\n",
        "\n",
        "This week, please reproduce this analysis, <ins>including</ins> the bonus part, using some of your new data loading, joining, and module-building skills.\n",
        "\n",
        "Please write a program that:\n",
        "\n",
        "- Loads the affordable housing project data from `affordable_housing.csv`\n",
        "- Loads the ward populations from `wards_from_2022.csv`\n",
        "- Joins the population data to the affordable housing data\n",
        "- Calculates which wards are producing disproportionately large and small number of housing units given their populations\n",
        "- Completes all of this data loading and processing within a function (or a series of functions called by a single main function)\n",
        "- Stores that function (and any related functions) in a module\n",
        "- Calls the main function in the exercise notebook to return table or other summary or results\n",
        "\n",
        "## Data\n",
        "\n",
        "CSVs for both required data tables are included on GitHub at `exercises/exercise04`.\n",
        "\n",
        "Please consult the city's database of [affordable housing](https://opendata.dc.gov/datasets/DCGIS::affordable-housing/about) projects and [ward demographic](https://opendata.dc.gov/datasets/DCGIS::wards-from-2022/about) data.\n",
        "\n",
        "Bonus: find, download, and use more recent ward population data. (Remember to include it in your PR.) My cursory search found data as late as 2022.\n",
        "\n",
        "## New instructions for submitting a PR with multiple files\n",
        "\n",
        "Because you'll be working with multiple files, PRs become _slightly_ more complicated, so we're graduating to a new 'mini-repository' pattern:\n",
        "- Make a new folder in `exercises/exercise04` with your last name (just like the suffix for your notebook file)\n",
        "- Upload your notebook file, also appropriately named, into that folder\n",
        "- Upload any other files you make/use, including `.py` and `.csv` files, into that folder, so everything is together in the same place\n",
        "\n",
        "Ultimately, this will look a bit like this:\n",
        "```\n",
        "── exercises\n",
        "    ├── exercise04\n",
        "        ├── harvey\n",
        "            ├── exercise04_harvey.ipynb\n",
        "            ├── affordable_housing_calcs.py\n",
        "            ├── affordable_housing.csv\n",
        "            └── wards_from_2022.csv\n",
        "```\n",
        "\n",
        "**NOTE:** Yes, I realize this is a bit redundant because everyone will have copies of the same CSV files. This would never be a good idea for production coding--we would have one `data` directory, and everyone would draw from the same data. However, there are two reasons for all these copies in this case:\n",
        "1. It's good practice to build a repository with all the parts your code needs to run.\n",
        "    - In later weeks, when you  _don't_ all have the same data, it won't seem as redundant.\n",
        "3. Having everything in one folder will make it easy for me to run your code on my computer.\n",
        "\n",
        "## Hints\n",
        "- You may want to join the population data _after_ summarizing the affordable housing data (i.e., join populations to sums of units). However, I could also see an approach where you join at the beginning, then aggregate the population column with a method called `first`\n",
        "\n"
      ]
    },
    {
      "cell_type": "code",
      "source": [
        "# Calls the main function in the exercise notebook to return table or other summary or results"
      ],
      "metadata": {
        "id": "OSZSCttV04Sy"
      },
      "id": "OSZSCttV04Sy",
      "execution_count": null,
      "outputs": []
    },
    {
      "cell_type": "code",
      "source": [
        "# mount google drive (even though i did this in the function?)\n",
        "from google.colab import drive\n",
        "drive.mount('/content/drive')\n",
        "\n",
        "#import stuff to set the directory\n",
        "import os\n",
        "\n",
        "wd_path = '/content/drive/MyDrive/Colab_Notebooks'\n",
        "os.getcwd()\n",
        "\n",
        "#import module\n",
        "import module_exercise04_elson\n",
        "\n",
        "#import function\n",
        "from module_exercise04_elson import affordable_units_by_ward\n",
        "\n",
        "# call the function\n",
        "result_df = affordable_units_by_ward(housing_projects_with_pops.copy())\n",
        "print(result_df)\n",
        "\n",
        "# this one was a doozy (again)\n",
        "# despite the google AI robot telling me my code looks ok and my function is defined, i cannot seem to import it\n",
        "# would love to know what i'm doing wrong! i came so close to getting it (i think)"
      ],
      "metadata": {
        "id": "eIWijuSNTUDD",
        "colab": {
          "base_uri": "https://localhost:8080/",
          "height": 401
        },
        "outputId": "63d0ad8f-60a2-4682-93f9-cdea6c563455"
      },
      "id": "eIWijuSNTUDD",
      "execution_count": null,
      "outputs": [
        {
          "output_type": "error",
          "ename": "ImportError",
          "evalue": "cannot import name 'affordable_units_by_ward' from 'module_exercise04_elson' (/content/drive/MyDrive/Colab Notebooks/module_exercise04_elson.py)",
          "traceback": [
            "\u001b[0;31m---------------------------------------------------------------------------\u001b[0m",
            "\u001b[0;31mImportError\u001b[0m                               Traceback (most recent call last)",
            "\u001b[0;32m<ipython-input-29-f8f926ee8277>\u001b[0m in \u001b[0;36m<cell line: 12>\u001b[0;34m()\u001b[0m\n\u001b[1;32m     10\u001b[0m \u001b[0;32mimport\u001b[0m \u001b[0mmodule_exercise04_elson\u001b[0m\u001b[0;34m\u001b[0m\u001b[0;34m\u001b[0m\u001b[0m\n\u001b[1;32m     11\u001b[0m \u001b[0;34m\u001b[0m\u001b[0m\n\u001b[0;32m---> 12\u001b[0;31m \u001b[0;32mfrom\u001b[0m \u001b[0mmodule_exercise04_elson\u001b[0m \u001b[0;32mimport\u001b[0m \u001b[0maffordable_units_by_ward\u001b[0m\u001b[0;34m\u001b[0m\u001b[0;34m\u001b[0m\u001b[0m\n\u001b[0m\u001b[1;32m     13\u001b[0m \u001b[0;34m\u001b[0m\u001b[0m\n\u001b[1;32m     14\u001b[0m \u001b[0;31m# Call the function:\u001b[0m\u001b[0;34m\u001b[0m\u001b[0;34m\u001b[0m\u001b[0m\n",
            "\u001b[0;31mImportError\u001b[0m: cannot import name 'affordable_units_by_ward' from 'module_exercise04_elson' (/content/drive/MyDrive/Colab Notebooks/module_exercise04_elson.py)",
            "",
            "\u001b[0;31m---------------------------------------------------------------------------\u001b[0;32m\nNOTE: If your import is failing due to a missing package, you can\nmanually install dependencies using either !pip or !apt.\n\nTo view examples of installing some common dependencies, click the\n\"Open Examples\" button below.\n\u001b[0;31m---------------------------------------------------------------------------\u001b[0m\n"
          ],
          "errorDetails": {
            "actions": [
              {
                "action": "open_url",
                "actionText": "Open Examples",
                "url": "/notebooks/snippets/importing_libraries.ipynb"
              }
            ]
          }
        }
      ]
    },
    {
      "cell_type": "code",
      "source": [
        "# Stores that function (and any related functions) in a module\n",
        "# Calls the main function in the exercise notebook to return table or other summary or results"
      ],
      "metadata": {
        "id": "5xXAj2bhafxN"
      },
      "id": "5xXAj2bhafxN",
      "execution_count": null,
      "outputs": []
    }
  ],
  "metadata": {
    "kernelspec": {
      "display_name": "Python 3 (ipykernel)",
      "language": "python",
      "name": "python3"
    },
    "language_info": {
      "codemirror_mode": {
        "name": "ipython",
        "version": 3
      },
      "file_extension": ".py",
      "mimetype": "text/x-python",
      "name": "python",
      "nbconvert_exporter": "python",
      "pygments_lexer": "ipython3",
      "version": "3.10.12"
    },
    "colab": {
      "provenance": []
    }
  },
  "nbformat": 4,
  "nbformat_minor": 5
}