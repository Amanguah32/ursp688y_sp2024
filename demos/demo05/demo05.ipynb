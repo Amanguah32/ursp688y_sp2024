{
 "cells": [
  {
   "cell_type": "markdown",
   "id": "13b62af4-9c03-46d7-805c-cebadd28185e",
   "metadata": {
    "editable": true,
    "id": "13b62af4-9c03-46d7-805c-cebadd28185e",
    "tags": []
   },
   "source": [
    "Urban Data Science & Smart Cities <br>\n",
    "URSP688Y <br>\n",
    "Instructor: Chester Harvey <br>\n",
    "Urban Studies & Planning <br>\n",
    "National Center for Smart Growth <br>\n",
    "University of Maryland"
   ]
  },
  {
   "cell_type": "markdown",
   "id": "c01d7dab-14e4-4222-b82b-8d400bce0e2c",
   "metadata": {
    "id": "c01d7dab-14e4-4222-b82b-8d400bce0e2c"
   },
   "source": [
    "[<img src=\"https://colab.research.google.com/assets/colab-badge.svg\"> Clean version](https://colab.research.google.com/github/ncsg/ursp688y_sp2024/blob/main/demos/demo04/demo04.ipynb)"
   ]
  },
  {
   "cell_type": "markdown",
   "id": "e7a0a5da-0108-408b-b306-58f59b895ad8",
   "metadata": {
    "id": "e7a0a5da-0108-408b-b306-58f59b895ad8"
   },
   "source": [
    "[<img src=\"https://colab.research.google.com/assets/colab-badge.svg\"> Modified in class](https://colab.research.google.com/drive/19CYqhrg5dt1HvG-eBEzpL-HF27e8K_av?usp=sharing)"
   ]
  },
  {
   "cell_type": "markdown",
   "id": "b7d7937e-5289-44bb-ac8b-1e0b03a74e0b",
   "metadata": {
    "id": "b7d7937e-5289-44bb-ac8b-1e0b03a74e0b"
   },
   "source": [
    "# Demo 5 - Basic Data Visualization\n",
    "\n",
    "- PR demo: from notebook to merge\n",
    "- Principles of graphic communication\n",
    "- Matplotlib\n",
    "- Pandas `plot` method\n",
    "- Seaborn\n",
    "- Export to Illustrator\n",
    "- Best and worst viz contest "
   ]
  },
  {
   "cell_type": "markdown",
   "id": "2f40b412-8b26-453f-9d6d-4e04106d8849",
   "metadata": {
    "id": "2f40b412-8b26-453f-9d6d-4e04106d8849"
   },
   "source": [
    "## PR demo: from notebook to merge"
   ]
  },
  {
   "cell_type": "markdown",
   "id": "61c36853-54ea-4868-a473-e891bd2e9669",
   "metadata": {},
   "source": [
    "## Principles of graphic communication\n",
    "\n",
    "### More is less\n",
    "Remove ink until the last thing you removed changes the meaning; add that back and quit.\n",
    "\n",
    "#### \"Chartjunk\" ([Tufte](https://www.edwardtufte.com/bboard/q-and-a-fetch-msg?msg_id=00040Z))\n",
    "\n",
    "<img src=\"https://www.edwardtufte.com/bboard/images/00040Z-22525/BEp175.jpg\" alt=\"chartjunk\"/>\n",
    "\n",
    "([Source: Edward Tufte](https://www.edwardtufte.com/bboard/q-and-a-fetch-msg?msg_id=00040Z))\n",
    "\n",
    "#### An editing sequence\n",
    "\n",
    "<img src=\"https://www.qimacros.com/free-excel-tips/graphical-excellence/bar-chartjunk1.png\" alt=\"excel graph\"/>\n",
    "\n",
    "- Legend is redundant with title\n",
    "- X-axis labels are redundant (\"Project\")\n",
    "- Gridlines are unnecessary\n",
    "- Frame around the plot (neat line) doesn't have meaning\n",
    "- Bar style (with outline) is unnecessarily complicated\n",
    "\n",
    "<img src=\"https://www.qimacros.com/free-excel-tips/graphical-excellence/bar-chartjunk2.png\" alt=\"better graph\"/>\n",
    "\n",
    "Better to order values?\n",
    "\n",
    "<img src=\"https://www.qimacros.com/free-excel-tips/graphical-excellence/bar-chartjunk3.png\" alt=\"even better graph\"/>\n",
    "\n",
    "([Source: qimacros.com](https://www.qimacros.com/free-excel-tips/graphical-excellence/))\n",
    "\n",
    "Can we make it even better?\n",
    "\n",
    "<img src=\"https://github.com/ncsg/ursp688y_sp2024/blob/main/demos/demo05/error_rate_graph.png?raw=true\" alt=\"can we make it even better?\" width=\"600\"/>"
   ]
  },
  {
   "cell_type": "markdown",
   "id": "1410b0ee-e4cc-4e50-af1d-6309df58eb7d",
   "metadata": {},
   "source": [
    "### Visual hierarchy (figure-ground)\n",
    "\n",
    "The most important information should stand out. \n",
    "\n",
    "Visual variables at your disposal for communicating hierarchy:\n",
    "- Size\n",
    "- Order\n",
    "- Spacing\n",
    "- Color saturation/value/contrast\n",
    "- Texture\n",
    "\n",
    "<img src=\"https://www.graphicdesignforum.com/uploads/default/original/2X/d/d9cf78fffdcf72b0179dcb26efc14cdbd39854ff.jpeg\" alt=\"graphic design has rules\" width=\"300\"/>\n",
    "\n",
    "([Source: graphicdesignforum.com](https://www.graphicdesignforum.com/t/you-will-read-this-first/13726))"
   ]
  },
  {
   "attachments": {},
   "cell_type": "markdown",
   "id": "f3d6658b-7bf6-4d8a-917d-80735c640f2d",
   "metadata": {},
   "source": [
    "#### Good figure-ground\n",
    "\n",
    "\"Color and brightness contrast let the land come forward from the ocean, and things like the river come forward from the land.\" ([Axis Maps](https://www.axismaps.com/guide/visual-hierarchy))\n",
    "\n",
    "<img src=\"https://uploads-ssl.webflow.com/5f6a4786fa53db61032919f9/5fa4480f73455816dc71ace1_figure_ground_good.jpeg\" alt=\"bad figure-ground\"/>\n",
    "\n",
    "#### Less good figure-ground\n",
    "\n",
    "\"Low contrasts make it harder and slower to pick out any salient elements.\" ([Axis Maps](https://www.axismaps.com/guide/visual-hierarchy))\n",
    "\n",
    "<img src=\"https://uploads-ssl.webflow.com/5f6a4786fa53db61032919f9/5fa4480f6854b572eb93b9a1_figure_ground_bad.jpeg\" alt=\"less good figure-ground\"/>\n",
    "\n",
    "([Source: Axis Maps](https://www.axismaps.com/guide/visual-hierarchy))"
   ]
  },
  {
   "attachments": {},
   "cell_type": "markdown",
   "id": "9a470b30-38ad-42a9-ab5d-d49812ce6d51",
   "metadata": {},
   "source": [
    "### Alignment and consistency\n",
    "\n",
    "Messiness looks like sloppiness looks like ineptitude.\n",
    "\n",
    "<img src=\"https://visme.co/blog/wp-content/uploads/2015/12/alignment.jpg\" alt=\"bad alignment\" width=\"500\"/>\n",
    "\n",
    "<img src=\"https://visme.co/blog/wp-content/uploads/2015/12/fixed3.jpg\" alt=\"2-3 fonts, different weights of same typeface\" width=\"500\"/>\n",
    "\n",
    "([Source: visme.co](https://visme.co/blog/graphic-design-rules/))\n",
    "\n",
    "[Examples of bad maps.](https://storymaps.arcgis.com/stories/6b168cb3aeb44c84b3ce04ca7fe5222e)"
   ]
  },
  {
   "cell_type": "markdown",
   "id": "39e2db81-bf81-40c4-804e-34c79489b992",
   "metadata": {},
   "source": [
    "### Gestalt principles\n",
    "\n",
    "<img src=\"https://assets-global.website-files.com/5b69a01ba2e409501de055d1/642188a15110ca0a392afaab_Gestalt%20Principles.png\" alt=\"gestalt principles\"/>\n",
    "\n",
    "([Source: Structural Learning](https://www.structural-learning.com/post/gestalt-psychology))"
   ]
  },
  {
   "cell_type": "markdown",
   "id": "3891b838-86e7-4c72-9feb-ed95e9b1075a",
   "metadata": {},
   "source": [
    "### Visual variables\n",
    "\n",
    "<img src=\"https://uploads-ssl.webflow.com/5f6a4786fa53db61032919f9/5fa44835ab735150a7e18135_visual_variables.png\" alt=\"bertin's visual variables\" width=\"800\"/>\n",
    "\n",
    "([Source: Axis Maps](https://www.axismaps.com/guide/visual-variables))"
   ]
  },
  {
   "cell_type": "markdown",
   "id": "6c8a8784-6e58-4b82-b073-c5a366e17473",
   "metadata": {},
   "source": [
    "## [Matplotlib](https://matplotlib.org/)\n",
    "\n",
    "Matplotlib is the package behind the scenes for nearly all plotting in Python.\n",
    "\n",
    "It's very flexible/capable/customizable, but also very clunky and non-intuitive.\n",
    "\n",
    "It often feels like it requires an inordinate amount of code to produce a chart.\n",
    "\n",
    "Nonetheless, you will run into it as a way to customize plots from other packages."
   ]
  },
  {
   "cell_type": "code",
   "execution_count": 1,
   "id": "3591046b-047d-4c18-8aec-e2329d18dddc",
   "metadata": {},
   "outputs": [],
   "source": [
    "import pandas as pd\n",
    "import matplotlib.pyplot as plt"
   ]
  },
  {
   "cell_type": "code",
   "execution_count": 3,
   "id": "f65fe2cb-61e1-4d90-b7f5-f17a3ac97a13",
   "metadata": {},
   "outputs": [],
   "source": [
    "# from google.colab import drive\n",
    "# drive.mount('/content/drive')\n",
    "# os.chdir('/content/drive/MyDrive/ursp688y_shared_data')"
   ]
  },
  {
   "cell_type": "code",
   "execution_count": 4,
   "id": "fb707b76-696c-4b70-b388-76eaf2a35356",
   "metadata": {},
   "outputs": [
    {
     "data": {
      "text/html": [
       "<div>\n",
       "<style scoped>\n",
       "    .dataframe tbody tr th:only-of-type {\n",
       "        vertical-align: middle;\n",
       "    }\n",
       "\n",
       "    .dataframe tbody tr th {\n",
       "        vertical-align: top;\n",
       "    }\n",
       "\n",
       "    .dataframe thead th {\n",
       "        text-align: right;\n",
       "    }\n",
       "</style>\n",
       "<table border=\"1\" class=\"dataframe\">\n",
       "  <thead>\n",
       "    <tr style=\"text-align: right;\">\n",
       "      <th></th>\n",
       "      <th>X</th>\n",
       "      <th>Y</th>\n",
       "      <th>OBJECTID</th>\n",
       "      <th>MAR_WARD</th>\n",
       "      <th>ADDRESS</th>\n",
       "      <th>PROJECT_NAME</th>\n",
       "      <th>STATUS_PUBLIC</th>\n",
       "      <th>AGENCY_CALCULATED</th>\n",
       "      <th>TOTAL_AFFORDABLE_UNITS</th>\n",
       "      <th>LATITUDE</th>\n",
       "      <th>...</th>\n",
       "      <th>AFFORDABLE_UNITS_AT_31_50_AMI</th>\n",
       "      <th>AFFORDABLE_UNITS_AT_51_60_AMI</th>\n",
       "      <th>AFFORDABLE_UNITS_AT_61_80_AMI</th>\n",
       "      <th>AFFORDABLE_UNITS_AT_81_AMI</th>\n",
       "      <th>CASE_ID</th>\n",
       "      <th>MAR_ID</th>\n",
       "      <th>XCOORD</th>\n",
       "      <th>YCOORD</th>\n",
       "      <th>FULLADDRESS</th>\n",
       "      <th>GIS_LAST_MOD_DTTM</th>\n",
       "    </tr>\n",
       "  </thead>\n",
       "  <tbody>\n",
       "    <tr>\n",
       "      <th>0</th>\n",
       "      <td>-77.009383</td>\n",
       "      <td>38.910255</td>\n",
       "      <td>89281</td>\n",
       "      <td>Ward 6</td>\n",
       "      <td>1520 North Capitol Street Northwest, Washingto...</td>\n",
       "      <td>Cycle House</td>\n",
       "      <td>Under Construction</td>\n",
       "      <td>DMPED DHCD</td>\n",
       "      <td>18</td>\n",
       "      <td>38.910248</td>\n",
       "      <td>...</td>\n",
       "      <td>4</td>\n",
       "      <td>12</td>\n",
       "      <td>0</td>\n",
       "      <td>0</td>\n",
       "      <td>NaN</td>\n",
       "      <td>331764</td>\n",
       "      <td>399186.36</td>\n",
       "      <td>138042.91</td>\n",
       "      <td>1520 NORTH CAPITOL STREET NW</td>\n",
       "      <td>2024/02/05 05:00:27+00</td>\n",
       "    </tr>\n",
       "    <tr>\n",
       "      <th>1</th>\n",
       "      <td>-77.009436</td>\n",
       "      <td>38.906403</td>\n",
       "      <td>89282</td>\n",
       "      <td>Ward 6</td>\n",
       "      <td>1200 North Capitol Street Northwest, Washingto...</td>\n",
       "      <td>Tyler House Apartments</td>\n",
       "      <td>Completed 2015 to Date</td>\n",
       "      <td>DCHFA</td>\n",
       "      <td>284</td>\n",
       "      <td>38.906396</td>\n",
       "      <td>...</td>\n",
       "      <td>0</td>\n",
       "      <td>284</td>\n",
       "      <td>0</td>\n",
       "      <td>0</td>\n",
       "      <td>NaN</td>\n",
       "      <td>237128</td>\n",
       "      <td>399181.75</td>\n",
       "      <td>137615.28</td>\n",
       "      <td>1200 NORTH CAPITOL STREET NW</td>\n",
       "      <td>2024/02/05 05:00:27+00</td>\n",
       "    </tr>\n",
       "    <tr>\n",
       "      <th>2</th>\n",
       "      <td>-77.030061</td>\n",
       "      <td>38.962519</td>\n",
       "      <td>89283</td>\n",
       "      <td>Ward 4</td>\n",
       "      <td>5922 13th Street Northwest, Washington, Distri...</td>\n",
       "      <td>Valencia Apartments</td>\n",
       "      <td>Completed 2015 to Date</td>\n",
       "      <td>DHCD</td>\n",
       "      <td>29</td>\n",
       "      <td>38.962511</td>\n",
       "      <td>...</td>\n",
       "      <td>0</td>\n",
       "      <td>29</td>\n",
       "      <td>0</td>\n",
       "      <td>0</td>\n",
       "      <td>NaN</td>\n",
       "      <td>243483</td>\n",
       "      <td>397394.87</td>\n",
       "      <td>143845.04</td>\n",
       "      <td>5922 13TH STREET NW</td>\n",
       "      <td>2024/02/05 05:00:27+00</td>\n",
       "    </tr>\n",
       "    <tr>\n",
       "      <th>3</th>\n",
       "      <td>-76.950868</td>\n",
       "      <td>38.922332</td>\n",
       "      <td>89284</td>\n",
       "      <td>Ward 5</td>\n",
       "      <td>3814 Fort Lincoln Drive Northeast, Washington,...</td>\n",
       "      <td>Villages at Dakota Crossing Phase III</td>\n",
       "      <td>Completed 2015 to Date</td>\n",
       "      <td>DMPED</td>\n",
       "      <td>24</td>\n",
       "      <td>38.922333</td>\n",
       "      <td>...</td>\n",
       "      <td>0</td>\n",
       "      <td>0</td>\n",
       "      <td>24</td>\n",
       "      <td>0</td>\n",
       "      <td>NaN</td>\n",
       "      <td>310077</td>\n",
       "      <td>404260.75</td>\n",
       "      <td>139384.60</td>\n",
       "      <td>3814 FORT LINCOLN DRIVE NE</td>\n",
       "      <td>2024/02/05 05:00:27+00</td>\n",
       "    </tr>\n",
       "    <tr>\n",
       "      <th>4</th>\n",
       "      <td>-77.033056</td>\n",
       "      <td>38.967357</td>\n",
       "      <td>89285</td>\n",
       "      <td>Ward 4</td>\n",
       "      <td>1388 Tuckerman Street Northwest, Washington, D...</td>\n",
       "      <td>Vizcaya Apartments</td>\n",
       "      <td>Completed 2015 to Date</td>\n",
       "      <td>DHCD</td>\n",
       "      <td>17</td>\n",
       "      <td>38.967349</td>\n",
       "      <td>...</td>\n",
       "      <td>0</td>\n",
       "      <td>17</td>\n",
       "      <td>0</td>\n",
       "      <td>0</td>\n",
       "      <td>NaN</td>\n",
       "      <td>257527</td>\n",
       "      <td>397135.52</td>\n",
       "      <td>144382.12</td>\n",
       "      <td>1388 TUCKERMAN STREET NW</td>\n",
       "      <td>2024/02/05 05:00:27+00</td>\n",
       "    </tr>\n",
       "  </tbody>\n",
       "</table>\n",
       "<p>5 rows × 22 columns</p>\n",
       "</div>"
      ],
      "text/plain": [
       "           X          Y  OBJECTID MAR_WARD  \\\n",
       "0 -77.009383  38.910255     89281   Ward 6   \n",
       "1 -77.009436  38.906403     89282   Ward 6   \n",
       "2 -77.030061  38.962519     89283   Ward 4   \n",
       "3 -76.950868  38.922332     89284   Ward 5   \n",
       "4 -77.033056  38.967357     89285   Ward 4   \n",
       "\n",
       "                                             ADDRESS  \\\n",
       "0  1520 North Capitol Street Northwest, Washingto...   \n",
       "1  1200 North Capitol Street Northwest, Washingto...   \n",
       "2  5922 13th Street Northwest, Washington, Distri...   \n",
       "3  3814 Fort Lincoln Drive Northeast, Washington,...   \n",
       "4  1388 Tuckerman Street Northwest, Washington, D...   \n",
       "\n",
       "                            PROJECT_NAME           STATUS_PUBLIC  \\\n",
       "0                            Cycle House      Under Construction   \n",
       "1                 Tyler House Apartments  Completed 2015 to Date   \n",
       "2                    Valencia Apartments  Completed 2015 to Date   \n",
       "3  Villages at Dakota Crossing Phase III  Completed 2015 to Date   \n",
       "4                     Vizcaya Apartments  Completed 2015 to Date   \n",
       "\n",
       "  AGENCY_CALCULATED  TOTAL_AFFORDABLE_UNITS   LATITUDE  ...  \\\n",
       "0        DMPED DHCD                      18  38.910248  ...   \n",
       "1             DCHFA                     284  38.906396  ...   \n",
       "2              DHCD                      29  38.962511  ...   \n",
       "3             DMPED                      24  38.922333  ...   \n",
       "4              DHCD                      17  38.967349  ...   \n",
       "\n",
       "   AFFORDABLE_UNITS_AT_31_50_AMI  AFFORDABLE_UNITS_AT_51_60_AMI  \\\n",
       "0                              4                             12   \n",
       "1                              0                            284   \n",
       "2                              0                             29   \n",
       "3                              0                              0   \n",
       "4                              0                             17   \n",
       "\n",
       "   AFFORDABLE_UNITS_AT_61_80_AMI  AFFORDABLE_UNITS_AT_81_AMI  CASE_ID  MAR_ID  \\\n",
       "0                              0                           0      NaN  331764   \n",
       "1                              0                           0      NaN  237128   \n",
       "2                              0                           0      NaN  243483   \n",
       "3                             24                           0      NaN  310077   \n",
       "4                              0                           0      NaN  257527   \n",
       "\n",
       "      XCOORD     YCOORD                   FULLADDRESS       GIS_LAST_MOD_DTTM  \n",
       "0  399186.36  138042.91  1520 NORTH CAPITOL STREET NW  2024/02/05 05:00:27+00  \n",
       "1  399181.75  137615.28  1200 NORTH CAPITOL STREET NW  2024/02/05 05:00:27+00  \n",
       "2  397394.87  143845.04           5922 13TH STREET NW  2024/02/05 05:00:27+00  \n",
       "3  404260.75  139384.60    3814 FORT LINCOLN DRIVE NE  2024/02/05 05:00:27+00  \n",
       "4  397135.52  144382.12      1388 TUCKERMAN STREET NW  2024/02/05 05:00:27+00  \n",
       "\n",
       "[5 rows x 22 columns]"
      ]
     },
     "execution_count": 4,
     "metadata": {},
     "output_type": "execute_result"
    }
   ],
   "source": [
    "df = pd.read_csv('affordable_housing.csv')\n",
    "df.head()"
   ]
  },
  {
   "cell_type": "code",
   "execution_count": 5,
   "id": "e39b5db5-153d-40f9-90f8-70ed19e6ee05",
   "metadata": {},
   "outputs": [
    {
     "data": {
      "text/plain": [
       "MAR_WARD\n",
       "Ward 5    181\n",
       "Ward 4    149\n",
       "Ward 6    145\n",
       "Ward 8    123\n",
       "Ward 1    116\n",
       "Ward 7     88\n",
       "Ward 2     47\n",
       "Ward 3     28\n",
       "1           1\n",
       "Name: count, dtype: int64"
      ]
     },
     "execution_count": 5,
     "metadata": {},
     "output_type": "execute_result"
    }
   ],
   "source": [
    "# Let's make a bar chart showing the number of projects in each ward\n",
    "ward_counts = df['MAR_WARD'].value_counts()\n",
    "ward_counts"
   ]
  },
  {
   "cell_type": "code",
   "execution_count": 6,
   "id": "ddca6726-2bdd-410d-9580-8909ab5af52f",
   "metadata": {},
   "outputs": [
    {
     "name": "stdout",
     "output_type": "stream",
     "text": [
      "inconsistent ward label is at index 220\n"
     ]
    },
    {
     "data": {
      "text/plain": [
       "MAR_WARD\n",
       "Ward 5    181\n",
       "Ward 4    149\n",
       "Ward 6    145\n",
       "Ward 8    123\n",
       "Ward 1    117\n",
       "Ward 7     88\n",
       "Ward 2     47\n",
       "Ward 3     28\n",
       "Name: count, dtype: int64"
      ]
     },
     "execution_count": 6,
     "metadata": {},
     "output_type": "execute_result"
    }
   ],
   "source": [
    "# Let's manually adjust the inconsistent data\n",
    "\n",
    "# Find its location in the dataframe\n",
    "idx = df[df['MAR_WARD'] == '1'].index[0]\n",
    "print(f'inconsistent ward label is at index {idx}')\n",
    "\n",
    "# Assign that cell a more consistently formatted value\n",
    "df.at[220, 'MAR_WARD'] = 'Ward 1'\n",
    "\n",
    "# Check that it's not longer inconsistent\n",
    "ward_counts = df['MAR_WARD'].value_counts()\n",
    "ward_counts"
   ]
  },
  {
   "cell_type": "code",
   "execution_count": 7,
   "id": "439edc2c-f3df-42a5-bf7a-859ca16d0333",
   "metadata": {},
   "outputs": [],
   "source": [
    "names = ward_counts.index\n",
    "counts = ward_counts.values"
   ]
  },
  {
   "cell_type": "code",
   "execution_count": 8,
   "id": "868a0ff1-3190-4acb-b584-e580e5485b12",
   "metadata": {},
   "outputs": [],
   "source": [
    "# Can we make the names simpler?\n",
    "\n",
    "# This is a \"list comprehension.\" It's a mini for loop.\n",
    "\n",
    "# names = [name.split()[1] for name in names]\n",
    "# names"
   ]
  },
  {
   "cell_type": "code",
   "execution_count": 9,
   "id": "5af2cbd9-56b1-4248-ad0c-6d4fd3dcc88f",
   "metadata": {},
   "outputs": [
    {
     "data": {
      "image/png": "[encoded data removed]",
      "text/plain": [
       "<Figure size 640x480 with 1 Axes>"
      ]
     },
     "metadata": {},
     "output_type": "display_data"
    }
   ],
   "source": [
    "# Define the figure object (like a piece of paper)\n",
    "fig = plt.figure()\n",
    "# Define an axis within the figure (coordinate space) \n",
    "ax = fig.add_subplot(111) # an axis on a 1x1 grid in first position\n",
    "# Draw a bar chart within the axis\n",
    "ax.bar(names, counts)\n",
    "\n",
    "# Customize the plot\n",
    "# # Remove frames on right and top\n",
    "# ax.spines['right'].set_visible(False)\n",
    "# ax.spines['top'].set_visible(False)\n",
    "# # Define fonts\n",
    "# font = {'fontname': 'Arial'}\n",
    "# title_font = {**font, **{'fontweight':'bold'}} # {**dict1, **dict2} combines two dictionaries\n",
    "# # Set font for ticks\n",
    "# plt.yticks(**font) # **dict in a function call expands the dictionary keys into keyword arguments\n",
    "# plt.xticks(**font)\n",
    "# # Set title and axis labels\n",
    "# plt.title('Projects by Ward', title_font)\n",
    "# plt.xlabel('Ward', title_font) \n",
    "# plt.ylabel('Projects', title_font)\n",
    "\n",
    "# Show the completed plot\n",
    "plt.show()"
   ]
  },
  {
   "cell_type": "markdown",
   "id": "bf7e7d83-a7a9-472e-a476-13a9c2e9b055",
   "metadata": {},
   "source": [
    "## Pandas `plot` method"
   ]
  },
  {
   "cell_type": "code",
   "execution_count": 10,
   "id": "94e6df1d-ea9e-480b-9323-1ddc7f6c0ef2",
   "metadata": {},
   "outputs": [
    {
     "data": {
      "text/plain": [
       "MAR_WARD\n",
       "Ward 5    181\n",
       "Ward 4    149\n",
       "Ward 6    145\n",
       "Ward 8    123\n",
       "Ward 1    117\n",
       "Ward 7     88\n",
       "Ward 2     47\n",
       "Ward 3     28\n",
       "Name: count, dtype: int64"
      ]
     },
     "execution_count": 10,
     "metadata": {},
     "output_type": "execute_result"
    }
   ],
   "source": [
    "ward_counts"
   ]
  },
  {
   "cell_type": "code",
   "execution_count": 11,
   "id": "772704b0-557f-4fd7-a6a0-47153c60ea6f",
   "metadata": {},
   "outputs": [
    {
     "data": {
      "image/png": "[encoded data removed]",
      "text/plain": [
       "<Figure size 640x480 with 1 Axes>"
      ]
     },
     "metadata": {},
     "output_type": "display_data"
    }
   ],
   "source": [
    "# Plotting a series\n",
    "ax = ward_counts.plot.bar()\n",
    "\n",
    "# You can still customize with Matplotlib\n",
    "# ax.spines['right'].set_visible(False)\n",
    "# ax.spines['top'].set_visible(False)\n",
    "\n",
    "plt.show() # This just avoids a text output"
   ]
  },
  {
   "cell_type": "markdown",
   "id": "09bef8e1-7ef0-4119-8d73-f4e29e072836",
   "metadata": {},
   "source": [
    "## [Seaborn](https://seaborn.pydata.org/)\n",
    "\n",
    "Better visual defaults and smart aggregation with statistics\n",
    "\n",
    "[Examples](https://seaborn.pydata.org/examples/index.html)"
   ]
  },
  {
   "cell_type": "code",
   "execution_count": 20,
   "id": "baccf11b-dbd9-4be6-aba5-e1184e9c2413",
   "metadata": {},
   "outputs": [],
   "source": [
    "import seaborn as sns\n",
    "sns.set_style('ticks')"
   ]
  },
  {
   "cell_type": "markdown",
   "id": "3e8dffb4-8d9f-4032-b06e-e8be07765d55",
   "metadata": {},
   "source": [
    "[`countplot` function](https://seaborn.pydata.org/generated/seaborn.countplot.html)"
   ]
  },
  {
   "cell_type": "code",
   "execution_count": 29,
   "id": "ad4e8723-85b1-461e-be3d-f88c2b3e8602",
   "metadata": {},
   "outputs": [
    {
     "data": {
      "image/png": "[encoded data removed]",
      "text/plain": [
       "<Figure size 640x480 with 1 Axes>"
      ]
     },
     "metadata": {},
     "output_type": "display_data"
    }
   ],
   "source": [
    "sns.countplot(df, x='MAR_WARD')\n",
    "sns.despine()"
   ]
  },
  {
   "cell_type": "code",
   "execution_count": 32,
   "id": "e944b271-3d61-452f-82d5-23a7b44f3200",
   "metadata": {},
   "outputs": [
    {
     "data": {
      "image/png": "[encoded data removed]",
      "text/plain": [
       "<Figure size 640x480 with 1 Axes>"
      ]
     },
     "metadata": {},
     "output_type": "display_data"
    }
   ],
   "source": [
    "ax = sns.countplot(df, x='MAR_WARD')\n",
    "ax.set(\n",
    "    xlabel=None, \n",
    "    ylabel='Average Affordable Units per Project'\n",
    ")\n",
    "sns.despine()"
   ]
  },
  {
   "cell_type": "markdown",
   "id": "38bb448c-0ff2-4629-b3bd-f67dfec2d37d",
   "metadata": {},
   "source": [
    "[`barplot` Function](https://seaborn.pydata.org/generated/seaborn.barplot.html)"
   ]
  },
  {
   "cell_type": "code",
   "execution_count": 61,
   "id": "a3eed279-1bb4-4410-a640-41d6e5844c6d",
   "metadata": {},
   "outputs": [
    {
     "data": {
      "image/png": "[encoded data removed]",
      "text/plain": [
       "<Figure size 640x480 with 1 Axes>"
      ]
     },
     "metadata": {},
     "output_type": "display_data"
    }
   ],
   "source": [
    "# fig = plt.figure() # Not entirely necessary, but helpful for ensuring you're starting with a blank canvas\n",
    "ax = sns.barplot(df, x='MAR_WARD', y='TOTAL_AFFORDABLE_UNITS', hue=\"STATUS_PUBLIC\")\n",
    "ax.set(\n",
    "    xlabel=None, \n",
    "    ylabel='Average Affordable Units per Project'\n",
    ")\n",
    "plt.legend(title=None, frameon=False)\n",
    "sns.despine()"
   ]
  },
  {
   "cell_type": "markdown",
   "id": "819d7dbb-d3cc-43bd-8e4c-efcfe16a3238",
   "metadata": {},
   "source": [
    "## Exporting to Illustrator"
   ]
  },
  {
   "cell_type": "code",
   "execution_count": 54,
   "id": "62be534e-2a9e-49e8-9e8d-4fbec4d7eb55",
   "metadata": {},
   "outputs": [
    {
     "data": {
      "image/png": "[encoded data removed]",
      "text/plain": [
       "<Figure size 640x480 with 1 Axes>"
      ]
     },
     "execution_count": 54,
     "metadata": {},
     "output_type": "execute_result"
    }
   ],
   "source": [
    "# Let's check what's stored in the `fig` variable\n",
    "fig"
   ]
  },
  {
   "cell_type": "code",
   "execution_count": 55,
   "id": "7ad6aca5-fab5-40c7-a09c-7a0a9690114e",
   "metadata": {},
   "outputs": [],
   "source": [
    "fig.savefig('plot.eps', format='eps')"
   ]
  },
  {
   "cell_type": "code",
   "execution_count": 57,
   "id": "db098a1b-27bf-41bf-8fa9-c4b6d8dd2e47",
   "metadata": {},
   "outputs": [],
   "source": [
    "fig.savefig('plot.png', format='png', dpi=300)"
   ]
  }
 ],
 "metadata": {
  "colab": {
   "provenance": []
  },
  "kernelspec": {
   "display_name": "Python 3 (ipykernel)",
   "language": "python",
   "name": "python3"
  },
  "language_info": {
   "codemirror_mode": {
    "name": "ipython",
    "version": 3
   },
   "file_extension": ".py",
   "mimetype": "text/x-python",
   "name": "python",
   "nbconvert_exporter": "python",
   "pygments_lexer": "ipython3",
   "version": "3.10.12"
  }
 },
 "nbformat": 4,
 "nbformat_minor": 5
}
