{
 "cells": [
  {
   "cell_type": "markdown",
   "id": "13b62af4-9c03-46d7-805c-cebadd28185e",
   "metadata": {
    "editable": true,
    "id": "13b62af4-9c03-46d7-805c-cebadd28185e",
    "tags": []
   },
   "source": [
    "Urban Data Science & Smart Cities <br>\n",
    "URSP688Y <br>\n",
    "Instructor: Chester Harvey <br>\n",
    "Urban Studies & Planning <br>\n",
    "National Center for Smart Growth <br>\n",
    "University of Maryland"
   ]
  },
  {
   "cell_type": "markdown",
   "id": "c01d7dab-14e4-4222-b82b-8d400bce0e2c",
   "metadata": {
    "id": "c01d7dab-14e4-4222-b82b-8d400bce0e2c"
   },
   "source": [
    "[<img src=\"https://colab.research.google.com/assets/colab-badge.svg\"> Clean version](https://colab.research.google.com/github/ncsg/ursp688y_sp2024/blob/main/demos/demo04/demo04.ipynb)"
   ]
  },
  {
   "cell_type": "markdown",
   "id": "e7a0a5da-0108-408b-b306-58f59b895ad8",
   "metadata": {
    "id": "e7a0a5da-0108-408b-b306-58f59b895ad8"
   },
   "source": [
    "[<img src=\"https://colab.research.google.com/assets/colab-badge.svg\"> Modified in class](https://colab.research.google.com/drive/19CYqhrg5dt1HvG-eBEzpL-HF27e8K_av?usp=sharing)"
   ]
  },
  {
   "cell_type": "markdown",
   "id": "b7d7937e-5289-44bb-ac8b-1e0b03a74e0b",
   "metadata": {
    "id": "b7d7937e-5289-44bb-ac8b-1e0b03a74e0b"
   },
   "source": [
    "# Demo 5 - Basic Data Visualization\n",
    "\n",
    "- PR demo: from notebook to merge\n",
    "- Principles of graphic communication\n",
    "- Matplotlib\n",
    "- Seaborn\n",
    "- Export to Illustrator\n",
    "- Best and worst viz contest "
   ]
  },
  {
   "cell_type": "markdown",
   "id": "2f40b412-8b26-453f-9d6d-4e04106d8849",
   "metadata": {
    "id": "2f40b412-8b26-453f-9d6d-4e04106d8849"
   },
   "source": [
    "## PR demo: from notebook to merge"
   ]
  },
  {
   "cell_type": "markdown",
   "id": "61c36853-54ea-4868-a473-e891bd2e9669",
   "metadata": {},
   "source": [
    "## Principles of graphic communication\n",
    "\n",
    "### More is less\n",
    "Remove ink until the last thing you removed changes the meaning; add that back and quit.\n",
    "\n",
    "#### \"Chartjunk\" ([Tufte](https://www.edwardtufte.com/bboard/q-and-a-fetch-msg?msg_id=00040Z))\n",
    "\n",
    "<img src=\"https://www.edwardtufte.com/bboard/images/00040Z-22525/BEp175.jpg\" alt=\"chartjunk\"/>"
   ]
  },
  {
   "cell_type": "markdown",
   "id": "1410b0ee-e4cc-4e50-af1d-6309df58eb7d",
   "metadata": {},
   "source": [
    "### Visual hierarchy (figure-ground)\n",
    "\n",
    "The most important information should stand out. \n",
    "\n",
    "Visual variables at your disposal for communicating hierarchy:\n",
    "- Size\n",
    "- Order\n",
    "- Spacing\n",
    "- Color saturation/value/contrast\n",
    "- Texture\n",
    "\n",
    "<img src=\"https://www.graphicdesignforum.com/uploads/default/original/2X/d/d9cf78fffdcf72b0179dcb26efc14cdbd39854ff.jpeg\" alt=\"graphic design has rules\" width=\"300\"/>"
   ]
  },
  {
   "cell_type": "markdown",
   "id": "7ed994d2-e29e-404f-8c34-8081e0f67b81",
   "metadata": {},
   "source": [
    "#### Good figure-ground\n",
    "\n",
    "\"Color and brightness contrast let the land come forward from the ocean, and things like the river come forward from the land.\" ([Axis Maps](https://www.axismaps.com/guide/visual-hierarchy))\n",
    "\n",
    "<img src=\"https://uploads-ssl.webflow.com/5f6a4786fa53db61032919f9/5fa4480f73455816dc71ace1_figure_ground_good.jpeg\" alt=\"bad figure-ground\"/>"
   ]
  },
  {
   "cell_type": "markdown",
   "id": "33438984-a954-4df9-a7a7-8cd7ad597d82",
   "metadata": {},
   "source": [
    "#### Less good figure-ground\n",
    "\n",
    "\"Low contrasts make it harder and slower to pick out any salient elements.\" ([Axis Maps](https://www.axismaps.com/guide/visual-hierarchy))\n",
    "\n",
    "<img src=\"https://uploads-ssl.webflow.com/5f6a4786fa53db61032919f9/5fa4480f6854b572eb93b9a1_figure_ground_bad.jpeg\" alt=\"less good figure-ground\"/>"
   ]
  },
  {
   "attachments": {},
   "cell_type": "markdown",
   "id": "9a470b30-38ad-42a9-ab5d-d49812ce6d51",
   "metadata": {},
   "source": [
    "### Alignment and consistency\n",
    "\n",
    "Messiness looks like sloppiness looks like ineptitude.\n",
    "\n",
    "<img src=\"https://visme.co/blog/wp-content/uploads/2015/12/alignment.jpg\" alt=\"bad alignment\" width=\"500\"/>\n",
    "\n",
    "<img src=\"https://visme.co/blog/wp-content/uploads/2015/12/fixed3.jpg\" alt=\"2-3 fonts, different weights of same typeface\" width=\"500\"/>\n",
    "\n",
    "([Source](https://visme.co/blog/graphic-design-rules/))\n",
    "\n",
    "[Examples of bad maps.](https://storymaps.arcgis.com/stories/6b168cb3aeb44c84b3ce04ca7fe5222e)"
   ]
  },
  {
   "cell_type": "markdown",
   "id": "39e2db81-bf81-40c4-804e-34c79489b992",
   "metadata": {},
   "source": [
    "### Gestalt principles\n",
    "\n",
    "<img src=\"https://assets-global.website-files.com/5b69a01ba2e409501de055d1/642188a15110ca0a392afaab_Gestalt%20Principles.png\" alt=\"gestalt principles\"/>\n",
    "\n",
    "([Source](https://www.structural-learning.com/post/gestalt-psychology))"
   ]
  },
  {
   "cell_type": "markdown",
   "id": "3891b838-86e7-4c72-9feb-ed95e9b1075a",
   "metadata": {},
   "source": [
    "### Visual variables\n",
    "\n",
    "<img src=\"https://uploads-ssl.webflow.com/5f6a4786fa53db61032919f9/5fa44835ab735150a7e18135_visual_variables.png\" alt=\"bertin's visual variables\" width=\"800\"/>\n",
    "\n",
    "([Source](https://www.axismaps.com/guide/visual-variables))\n",
    "\n",
    "- Hue (color)\n",
    "- Saturation (greyness)\n",
    "- Value (brightness)\n",
    "- Size/width\n",
    "- "
   ]
  },
  {
   "cell_type": "code",
   "execution_count": null,
   "id": "d82f282b-1fd7-425b-aeef-1280793d0444",
   "metadata": {},
   "outputs": [],
   "source": []
  }
 ],
 "metadata": {
  "colab": {
   "provenance": []
  },
  "kernelspec": {
   "display_name": "Python 3 (ipykernel)",
   "language": "python",
   "name": "python3"
  },
  "language_info": {
   "codemirror_mode": {
    "name": "ipython",
    "version": 3
   },
   "file_extension": ".py",
   "mimetype": "text/x-python",
   "name": "python",
   "nbconvert_exporter": "python",
   "pygments_lexer": "ipython3",
   "version": "3.10.12"
  }
 },
 "nbformat": 4,
 "nbformat_minor": 5
}
