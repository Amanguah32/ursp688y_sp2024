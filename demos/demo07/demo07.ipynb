{
 "cells": [
  {
   "cell_type": "markdown",
   "id": "13b62af4-9c03-46d7-805c-cebadd28185e",
   "metadata": {
    "editable": true,
    "id": "13b62af4-9c03-46d7-805c-cebadd28185e",
    "tags": []
   },
   "source": [
    "Urban Data Science & Smart Cities <br>\n",
    "URSP688Y <br>\n",
    "Instructor: Chester Harvey <br>\n",
    "Urban Studies & Planning <br>\n",
    "National Center for Smart Growth <br>\n",
    "University of Maryland"
   ]
  },
  {
   "cell_type": "markdown",
   "id": "c01d7dab-14e4-4222-b82b-8d400bce0e2c",
   "metadata": {
    "id": "c01d7dab-14e4-4222-b82b-8d400bce0e2c"
   },
   "source": [
    "[<img src=\"https://colab.research.google.com/assets/colab-badge.svg\"> Clean version](https://colab.research.google.com/github/ncsg/ursp688y_sp2024/blob/main/demos/demo06/demo06.ipynb)"
   ]
  },
  {
   "cell_type": "markdown",
   "id": "e7a0a5da-0108-408b-b306-58f59b895ad8",
   "metadata": {
    "id": "e7a0a5da-0108-408b-b306-58f59b895ad8"
   },
   "source": [
    "[<img src=\"https://colab.research.google.com/assets/colab-badge.svg\"> Modified in class](https://colab.research.google.com/drive/1L1NnD_7iw4DPpZYt2pvlY8QQc2E-SjqJ?usp=sharing)"
   ]
  },
  {
   "cell_type": "markdown",
   "id": "b7d7937e-5289-44bb-ac8b-1e0b03a74e0b",
   "metadata": {
    "id": "b7d7937e-5289-44bb-ac8b-1e0b03a74e0b"
   },
   "source": [
    "# Demo 7 - Geospatial Data\n",
    "\n",
    "- Coordinate systems\n",
    "- Points from XY\n",
    "- Loading shapefiles and geojsons\n",
    "- Proximity analysis\n",
    "    - Measuring distance\n",
    "    - Buffering\n",
    "- Overlay analysis\n",
    "- Spatial joining"
   ]
  },
  {
   "cell_type": "code",
   "execution_count": null,
   "id": "c6803f96-73af-497a-bd12-d3dec85df8b6",
   "metadata": {},
   "outputs": [],
   "source": [
    "import os\n",
    "\n",
    "# Mount Google Drive\n",
    "from google.colab import drive\n",
    "drive.mount('/content/drive')\n",
    "\n",
    "# Set the working directory\n",
    "# You will need to change this to your own folder on Google Drive\n",
    "os.chdir('/content/drive/MyDrive/Teaching/URSP688Y Spring 2024/demos/week07')\n",
    "\n",
    "# Import demo module\n",
    "import demo06"
   ]
  },
  {
   "cell_type": "markdown",
   "id": "57edb1da-320c-4de9-9b67-6dc50af18ada",
   "metadata": {},
   "source": [
    "## Geospatial data are everywhere"
   ]
  },
  {
   "cell_type": "code",
   "execution_count": null,
   "id": "43fe573e-dcb0-4f67-9dd0-0e9a2f9df920",
   "metadata": {},
   "outputs": [],
   "source": []
  }
 ],
 "metadata": {
  "colab": {
   "provenance": []
  },
  "kernelspec": {
   "display_name": "Python 3 (ipykernel)",
   "language": "python",
   "name": "python3"
  },
  "language_info": {
   "codemirror_mode": {
    "name": "ipython",
    "version": 3
   },
   "file_extension": ".py",
   "mimetype": "text/x-python",
   "name": "python",
   "nbconvert_exporter": "python",
   "pygments_lexer": "ipython3",
   "version": "3.10.12"
  }
 },
 "nbformat": 4,
 "nbformat_minor": 5
}
