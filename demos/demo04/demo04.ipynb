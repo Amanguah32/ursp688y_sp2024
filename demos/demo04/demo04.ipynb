{
 "cells": [
  {
   "cell_type": "markdown",
   "id": "13b62af4-9c03-46d7-805c-cebadd28185e",
   "metadata": {
    "editable": true,
    "slideshow": {
     "slide_type": ""
    },
    "tags": []
   },
   "source": [
    "Urban Data Science & Smart Cities <br>\n",
    "URSP688Y <br>\n",
    "Instructor: Chester Harvey <br>\n",
    "Urban Studies & Planning <br>\n",
    "National Center for Smart Growth <br>\n",
    "University of Maryland"
   ]
  },
  {
   "cell_type": "markdown",
   "id": "c01d7dab-14e4-4222-b82b-8d400bce0e2c",
   "metadata": {},
   "source": [
    "[<img src=\"https://colab.research.google.com/assets/colab-badge.svg\"> Clean version](https://colab.research.google.com/github/ncsg/ursp688y_sp2024/blob/main/demos/demo04/demo04.ipynb)"
   ]
  },
  {
   "cell_type": "markdown",
   "id": "e7a0a5da-0108-408b-b306-58f59b895ad8",
   "metadata": {},
   "source": [
    "[<img src=\"https://colab.research.google.com/assets/colab-badge.svg\"> Modified in class](https://colab.research.google.com/drive/11bvlfaXuamFZ__Bb97a2IGYom05Mtj5z?usp=sharing) #### UPDATE ####"
   ]
  },
  {
   "attachments": {},
   "cell_type": "markdown",
   "id": "b7d7937e-5289-44bb-ac8b-1e0b03a74e0b",
   "metadata": {},
   "source": [
    "# Demo 4 - Loading Data\n",
    "\n",
    "- Using a debugger (and installing packages with `pip`)\n",
    "- Connecting to Google Drive in Colab\n",
    "- Loading data from files\n",
    "    - CSV\n",
    "    - Excel\n",
    "    - JSON\n",
    "- Repository structure\n",
    "- Introducing the final project"
   ]
  },
  {
   "cell_type": "markdown",
   "id": "2f40b412-8b26-453f-9d6d-4e04106d8849",
   "metadata": {},
   "source": [
    "## Using a debugger (and installing packages with `pip`)\n",
    "\n",
    "Sometimes things just really don't work and it's hard to figure out why. This can be especially true when there is a lot of nesting with names accessible only inside functions or loops.\n",
    "\n",
    "There are special tools for debugging that can help step through code one line at a time, stop in specific places, and understand the values stored in variables at specific points in the program.\n",
    "\n",
    "A good way to [implement this in a Jupyter notebook](https://zohaib.me/debugging-in-google-collab-notebook/), including CoLab, is with a package called `ipdb`. Unfortunately, ipdb does not come pre-installed with CoLab, so we'll need to install it before we can import it.\n",
    "\n",
    "This is as easy as using a special character (`!`) to ask CoLab to run a command as if it was on the computer's command line, not with the Python interpreter.\n",
    "\n",
    "We're using a program called `pip`, which goes to its internet repositories, downloads ipdb, and installs it.\n",
    "\n",
    "With CoLab, you need to do this every time you use it because it wipes your virtual computer clean when your session times out."
   ]
  },
  {
   "cell_type": "code",
   "execution_count": 33,
   "id": "c4fd33f4-c225-45bd-a0eb-586b54b8269b",
   "metadata": {},
   "outputs": [],
   "source": [
    "!pip install -Uqq ipdb # This version will run 'quietly'\n",
    "\n",
    "# !pip install ipdb # This version will show log outputs"
   ]
  },
  {
   "cell_type": "markdown",
   "id": "0f326c21-8af1-4229-be9e-43cf3d05a7b9",
   "metadata": {},
   "source": [
    "Now that we have ipdb, we can import it and start debugging."
   ]
  },
  {
   "cell_type": "code",
   "execution_count": 34,
   "id": "328ba1ad-e699-4dfa-9ca7-9b6c4eb27d86",
   "metadata": {},
   "outputs": [],
   "source": [
    "import ipdb"
   ]
  },
  {
   "cell_type": "markdown",
   "id": "8abc56a2-16e4-459f-8607-efcab6b31772",
   "metadata": {},
   "source": [
    "Here's a loop with a logic error (this may look familiar from last week):"
   ]
  },
  {
   "cell_type": "code",
   "execution_count": 35,
   "id": "e4bd9d8f-da40-46a0-91f2-560ac03cf1b4",
   "metadata": {},
   "outputs": [
    {
     "name": "stdout",
     "output_type": "stream",
     "text": [
      "Daniela is a child\n",
      "Rowen is a child\n",
      "Zoe is a child\n",
      "Jude is a child\n",
      "Austin is a child\n"
     ]
    }
   ],
   "source": [
    "people = {'Daniela': 5, 'Rowen': 65, 'Zoe': 10, 'Jude': 81, 'Austin': 45}\n",
    "\n",
    "for name, age in people.items():\n",
    "    if age < 18:\n",
    "        age_desc = 'a child'\n",
    "    else:\n",
    "        age_des = 'an adult'\n",
    "    # ipdb.set_trace() # Here is the breakpoint where we'll inspect\n",
    "    print(f'{name} is {age_desc}')"
   ]
  },
  {
   "cell_type": "markdown",
   "id": "3780a8b5-4ba6-471c-90cc-bfd5c2d230b4",
   "metadata": {},
   "source": [
    "Let's use ipdb to dig into why every person is being listed as a child rather than an adult.\n",
    "\n",
    "First, we have to turn the debugger on. We use a shortcut called a 'magic command,' which is only valid within a notebook. It isn't technically Python."
   ]
  },
  {
   "cell_type": "code",
   "execution_count": 36,
   "id": "c7fb0713-e1e4-46fb-8dbf-6d4920828e3e",
   "metadata": {},
   "outputs": [
    {
     "name": "stdout",
     "output_type": "stream",
     "text": [
      "Automatic pdb calling has been turned ON\n"
     ]
    }
   ],
   "source": [
    "%pdb on\n",
    "\n",
    "# %pdb off # Turn it off"
   ]
  },
  {
   "cell_type": "markdown",
   "id": "cbe95c50-9ff8-4993-a8fb-35b4a4cabfa2",
   "metadata": {},
   "source": [
    "### Breakpoints\n",
    "\n",
    "Add `ipdb.set_trace()` anywhere in program to stop it for inspection.\n",
    "\n",
    "Then use commands to continue flow as needed.\n",
    "\n",
    "|Command|Description|\n",
    "|--- |--- |\n",
    "|h(elp)|Show various commands supported by ipdb|\n",
    "|h(elp) COMMAND|Show description of the COMMAND specificed|\n",
    "|c(ontinue)|Continue executing till it hits another breakpoint|\n",
    "|n(ext)|Execute till next line in the same code frame. So if there is a function it wouldn't step into that function but execute it.|\n",
    "|s(tep)|Step to next code, so if its a function, it will step into the function.|\n",
    "|r(eturn)|Execute code till it returns from the current function or hits another breakpoint.|\n",
    "|l(ist)|Show more of the source code surrounding the  line.|\n",
    "|w(here)|Shows the stacktrace i.e. the chain of functions that made it reach the current function|\n",
    "|a(rguments)|List of arguments passed and its values to the function|\n",
    "|q(uit)|Immediately stop execution and quit the debugger|"
   ]
  },
  {
   "cell_type": "markdown",
   "id": "d7863336-d1cd-4de6-b87a-8c8da367a913",
   "metadata": {},
   "source": [
    "### \"Cheap\" debugging\n",
    "- `print`\n",
    "- `break`\n",
    "- `pass`\n",
    "- early returns from functions\n",
    "- `try` and `except` (lazy evaluation)"
   ]
  },
  {
   "cell_type": "markdown",
   "id": "8b5cf4b9-af9b-4ee4-89e8-46b243ea5574",
   "metadata": {},
   "source": [
    "## Connecting to Google Drive in Colab"
   ]
  },
  {
   "cell_type": "code",
   "execution_count": 2,
   "id": "3105743d-bf93-42c2-980f-d4e84e0f2dc3",
   "metadata": {},
   "outputs": [],
   "source": [
    "from google.colab import drive\n",
    "drive.mount('/content/drive')"
   ]
  },
  {
   "cell_type": "markdown",
   "id": "0205819c-a1b5-4861-b5f3-731c3a802db4",
   "metadata": {},
   "source": [
    "### Working directory"
   ]
  },
  {
   "cell_type": "code",
   "execution_count": 3,
   "id": "cdcdbc83-d1d6-4db5-b9dc-ae4150841b04",
   "metadata": {},
   "outputs": [],
   "source": [
    "import os"
   ]
  },
  {
   "cell_type": "code",
   "execution_count": 4,
   "id": "540c3ef2-63c0-46f8-aa25-2634fe6b1182",
   "metadata": {},
   "outputs": [
    {
     "data": {
      "text/plain": [
       "'/Users/cwharvey/github/ursp688y_sp2024_dev/demos/demo04'"
      ]
     },
     "execution_count": 4,
     "metadata": {},
     "output_type": "execute_result"
    }
   ],
   "source": [
    "os.getcwd()"
   ]
  },
  {
   "cell_type": "code",
   "execution_count": 6,
   "id": "c33f32c3-0c27-4b67-b848-4ac16c9e38e7",
   "metadata": {},
   "outputs": [
    {
     "name": "stdout",
     "output_type": "stream",
     "text": [
      "demo04.ipynb\n"
     ]
    }
   ],
   "source": [
    "!ls"
   ]
  },
  {
   "cell_type": "code",
   "execution_count": 7,
   "id": "65abef31-a039-4201-b0a0-904a856a69a2",
   "metadata": {},
   "outputs": [
    {
     "ename": "FileNotFoundError",
     "evalue": "[Errno 2] No such file or directory: '/content/drive/MyDrive/Teaching/URSP688Y Spring 2024/Modified Demo Notebooks'",
     "output_type": "error",
     "traceback": [
      "\u001b[0;31m---------------------------------------------------------------------------\u001b[0m",
      "\u001b[0;31mFileNotFoundError\u001b[0m                         Traceback (most recent call last)",
      "Cell \u001b[0;32mIn[7], line 1\u001b[0m\n\u001b[0;32m----> 1\u001b[0m \u001b[43mos\u001b[49m\u001b[38;5;241;43m.\u001b[39;49m\u001b[43mchdir\u001b[49m\u001b[43m(\u001b[49m\u001b[38;5;124;43m'\u001b[39;49m\u001b[38;5;124;43m/content/drive/MyDrive/Teaching/URSP688Y Spring 2024/Modified Demo Notebooks\u001b[39;49m\u001b[38;5;124;43m'\u001b[39;49m\u001b[43m)\u001b[49m\n",
      "\u001b[0;31mFileNotFoundError\u001b[0m: [Errno 2] No such file or directory: '/content/drive/MyDrive/Teaching/URSP688Y Spring 2024/Modified Demo Notebooks'"
     ]
    }
   ],
   "source": [
    "os.chdir('/content/drive/MyDrive/Teaching/URSP688Y Spring 2024/Modified Demo Notebooks')"
   ]
  },
  {
   "cell_type": "markdown",
   "id": "95c8336b-29d6-497c-918e-0c7be32bb1bd",
   "metadata": {},
   "source": [
    "## Loading files"
   ]
  },
  {
   "cell_type": "code",
   "execution_count": null,
   "id": "b7063339-94b1-4651-bb8b-5086efded3a4",
   "metadata": {},
   "outputs": [],
   "source": []
  },
  {
   "cell_type": "markdown",
   "id": "e65afe70-d1ea-4948-9a46-291964abde3d",
   "metadata": {},
   "source": [
    "## Repository structure"
   ]
  },
  {
   "cell_type": "markdown",
   "id": "a8170a3c-7dfc-468d-8924-09997dea678e",
   "metadata": {},
   "source": [
    "## Introducing the final project"
   ]
  },
  {
   "cell_type": "code",
   "execution_count": null,
   "id": "0aadf04e-f4b3-433a-98e8-4a6baaee2130",
   "metadata": {},
   "outputs": [],
   "source": []
  }
 ],
 "metadata": {
  "kernelspec": {
   "display_name": "Python 3 (ipykernel)",
   "language": "python",
   "name": "python3"
  },
  "language_info": {
   "codemirror_mode": {
    "name": "ipython",
    "version": 3
   },
   "file_extension": ".py",
   "mimetype": "text/x-python",
   "name": "python",
   "nbconvert_exporter": "python",
   "pygments_lexer": "ipython3",
   "version": "3.10.12"
  }
 },
 "nbformat": 4,
 "nbformat_minor": 5
}
