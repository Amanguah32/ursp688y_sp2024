{
 "cells": [
  {
   "cell_type": "markdown",
   "id": "13b62af4-9c03-46d7-805c-cebadd28185e",
   "metadata": {
    "editable": true,
    "id": "13b62af4-9c03-46d7-805c-cebadd28185e",
    "tags": []
   },
   "source": [
    "Urban Data Science & Smart Cities <br>\n",
    "URSP688Y <br>\n",
    "Instructor: Chester Harvey <br>\n",
    "Urban Studies & Planning <br>\n",
    "National Center for Smart Growth <br>\n",
    "University of Maryland"
   ]
  },
  {
   "cell_type": "markdown",
   "id": "c01d7dab-14e4-4222-b82b-8d400bce0e2c",
   "metadata": {
    "id": "c01d7dab-14e4-4222-b82b-8d400bce0e2c"
   },
   "source": [
    "[<img src=\"https://colab.research.google.com/assets/colab-badge.svg\"> Clean version](https://colab.research.google.com/github/ncsg/ursp688y_sp2024/blob/main/demos/demo04/demo04.ipynb)"
   ]
  },
  {
   "cell_type": "markdown",
   "id": "e7a0a5da-0108-408b-b306-58f59b895ad8",
   "metadata": {
    "id": "e7a0a5da-0108-408b-b306-58f59b895ad8"
   },
   "source": [
    "[<img src=\"https://colab.research.google.com/assets/colab-badge.svg\"> Modified in class](https://colab.research.google.com/drive/1CwS-IAQvpbFWPlYMa_VFSZPwiKVNt1kb?usp=sharing)"
   ]
  },
  {
   "cell_type": "markdown",
   "id": "b7d7937e-5289-44bb-ac8b-1e0b03a74e0b",
   "metadata": {
    "id": "b7d7937e-5289-44bb-ac8b-1e0b03a74e0b"
   },
   "source": [
    "# Demo 4 - Debugging and Working with Files\n",
    "\n",
    "- Using a debugger (and installing packages with `pip`)\n",
    "- Connecting to Google Drive in Colab\n",
    "- Loading data from a file\n",
    "- Saving data to a file\n",
    "- Loading code from a file (modules)\n",
    "- Repository structure\n",
    "- Introducing the final project"
   ]
  },
  {
   "cell_type": "markdown",
   "id": "2f40b412-8b26-453f-9d6d-4e04106d8849",
   "metadata": {
    "id": "2f40b412-8b26-453f-9d6d-4e04106d8849"
   },
   "source": [
    "## Using a debugger (and installing packages with `pip`)\n",
    "\n",
    "Sometimes things just really don't work and it's hard to figure out why. This can be especially true when there is a lot of nesting with names accessible only inside functions or loops.\n",
    "\n",
    "There are special tools for debugging that can help step through code one line at a time, stop in specific places, and understand the values stored in variables at specific points in the program.\n",
    "\n",
    "A good way to [implement this in a Jupyter notebook](https://zohaib.me/debugging-in-google-collab-notebook/), including Colab, is with a package called `ipdb`. Unfortunately, ipdb does not come pre-installed with Colab, so we'll need to install it before we can import it.\n",
    "\n",
    "This is as easy as using a special character (`!`) to ask CoLab to run a command as if it was on the computer's command line, not with the Python interpreter.\n",
    "\n",
    "We're using a program called `pip`, which goes to its internet repositories, downloads ipdb, and installs it.\n",
    "\n",
    "With CoLab, you need to do this every time you use it because it wipes your virtual computer clean when your session times out."
   ]
  },
  {
   "cell_type": "code",
   "execution_count": 1,
   "id": "c4fd33f4-c225-45bd-a0eb-586b54b8269b",
   "metadata": {
    "colab": {
     "base_uri": "https://localhost:8080/"
    },
    "id": "c4fd33f4-c225-45bd-a0eb-586b54b8269b",
    "outputId": "8caf4976-588c-4801-dcc2-bf74a2abacc5"
   },
   "outputs": [
    {
     "name": "stdout",
     "output_type": "stream",
     "text": [
      "\u001b[?25l     \u001b[90m━━━━━━━━━━━━━━━━━━━━━━━━━━━━━━━━━━━━━━━━\u001b[0m \u001b[32m0.0/1.6 MB\u001b[0m \u001b[31m?\u001b[0m eta \u001b[36m-:--:--\u001b[0m\r",
      "\u001b[2K     \u001b[91m━\u001b[0m\u001b[91m╸\u001b[0m\u001b[90m━━━━━━━━━━━━━━━━━━━━━━━━━━━━━━━━━━━━━━\u001b[0m \u001b[32m0.1/1.6 MB\u001b[0m \u001b[31m2.3 MB/s\u001b[0m eta \u001b[36m0:00:01\u001b[0m\r",
      "\u001b[2K     \u001b[91m━━━━━━━━━━━━━━━━━━━\u001b[0m\u001b[90m╺\u001b[0m\u001b[90m━━━━━━━━━━━━━━━━━━━━\u001b[0m \u001b[32m0.8/1.6 MB\u001b[0m \u001b[31m10.6 MB/s\u001b[0m eta \u001b[36m0:00:01\u001b[0m\r",
      "\u001b[2K     \u001b[91m━━━━━━━━━━━━━━━━━━━━━━━━━━━━━━━━━━━━━━━\u001b[0m\u001b[91m╸\u001b[0m \u001b[32m1.6/1.6 MB\u001b[0m \u001b[31m17.3 MB/s\u001b[0m eta \u001b[36m0:00:01\u001b[0m\r",
      "\u001b[2K     \u001b[90m━━━━━━━━━━━━━━━━━━━━━━━━━━━━━━━━━━━━━━━━\u001b[0m \u001b[32m1.6/1.6 MB\u001b[0m \u001b[31m12.7 MB/s\u001b[0m eta \u001b[36m0:00:00\u001b[0m\n",
      "\u001b[?25h"
     ]
    }
   ],
   "source": [
    "# This version will run 'quietly'\n",
    "!pip install -Uqq ipdb\n",
    "\n",
    "# This version will show log outputs\n",
    "# !pip install ipdb"
   ]
  },
  {
   "cell_type": "markdown",
   "id": "0f326c21-8af1-4229-be9e-43cf3d05a7b9",
   "metadata": {
    "id": "0f326c21-8af1-4229-be9e-43cf3d05a7b9"
   },
   "source": [
    "Now that we have ipdb, we can import it and start debugging."
   ]
  },
  {
   "cell_type": "code",
   "execution_count": 2,
   "id": "328ba1ad-e699-4dfa-9ca7-9b6c4eb27d86",
   "metadata": {
    "id": "328ba1ad-e699-4dfa-9ca7-9b6c4eb27d86"
   },
   "outputs": [],
   "source": [
    "import ipdb"
   ]
  },
  {
   "cell_type": "markdown",
   "id": "8abc56a2-16e4-459f-8607-efcab6b31772",
   "metadata": {
    "id": "8abc56a2-16e4-459f-8607-efcab6b31772"
   },
   "source": [
    "Here's a loop with a logic error (this may look familiar from last week):"
   ]
  },
  {
   "cell_type": "code",
   "execution_count": 3,
   "id": "e4bd9d8f-da40-46a0-91f2-560ac03cf1b4",
   "metadata": {
    "colab": {
     "base_uri": "https://localhost:8080/"
    },
    "id": "e4bd9d8f-da40-46a0-91f2-560ac03cf1b4",
    "outputId": "89fa3c14-5258-4dc5-dfae-eef6dce428b7"
   },
   "outputs": [
    {
     "name": "stdout",
     "output_type": "stream",
     "text": [
      "Daniela is a child\n",
      "Rowen is a child\n",
      "Zoe is a child\n",
      "Jude is a child\n",
      "Austin is a child\n"
     ]
    }
   ],
   "source": [
    "people = {'Daniela': 5, 'Rowen': 65, 'Zoe': 10, 'Jude': 81, 'Austin': 45}\n",
    "\n",
    "for name, age in people.items():\n",
    "    if age < 18:\n",
    "        age_desc = 'a child'\n",
    "    else:\n",
    "        age_des = 'an adult'\n",
    "    # ipdb.set_trace() # Here is the breakpoint where we'll inspect\n",
    "    print(f'{name} is {age_desc}')"
   ]
  },
  {
   "cell_type": "markdown",
   "id": "3780a8b5-4ba6-471c-90cc-bfd5c2d230b4",
   "metadata": {
    "id": "3780a8b5-4ba6-471c-90cc-bfd5c2d230b4"
   },
   "source": [
    "Let's use ipdb to dig into why every person is being listed as a child rather than an adult.\n",
    "\n",
    "First, we have to turn the debugger on. We use a shortcut called a 'magic command,' which is only valid within a notebook. It isn't technically Python."
   ]
  },
  {
   "cell_type": "code",
   "execution_count": 24,
   "id": "c7fb0713-e1e4-46fb-8dbf-6d4920828e3e",
   "metadata": {
    "colab": {
     "base_uri": "https://localhost:8080/"
    },
    "id": "c7fb0713-e1e4-46fb-8dbf-6d4920828e3e",
    "outputId": "6a304699-5a96-4bcc-e292-a8ee3584eed4"
   },
   "outputs": [
    {
     "name": "stdout",
     "output_type": "stream",
     "text": [
      "Automatic pdb calling has been turned OFF\n"
     ]
    }
   ],
   "source": [
    "%pdb on\n",
    "\n",
    "# %pdb off"
   ]
  },
  {
   "cell_type": "markdown",
   "id": "cbe95c50-9ff8-4993-a8fb-35b4a4cabfa2",
   "metadata": {
    "id": "cbe95c50-9ff8-4993-a8fb-35b4a4cabfa2"
   },
   "source": [
    "### Breakpoints\n",
    "\n",
    "Add `ipdb.set_trace()` anywhere in program to stop it for inspection.\n",
    "\n",
    "Then use commands to continue flow as needed.\n",
    "\n",
    "|Command|Description|\n",
    "|--- |--- |\n",
    "|h(elp)|Show various commands supported by ipdb|\n",
    "|h(elp) COMMAND|Show description of the COMMAND specificed|\n",
    "|c(ontinue)|Continue executing till it hits another breakpoint|\n",
    "|n(ext)|Execute till next line in the same code frame. So if there is a function it wouldn't step into that function but execute it.|\n",
    "|s(tep)|Step to next code, so if its a function, it will step into the function.|\n",
    "|r(eturn)|Execute code till it returns from the current function or hits another breakpoint.|\n",
    "|l(ist)|Show more of the source code surrounding the  line.|\n",
    "|w(here)|Shows the stacktrace i.e. the chain of functions that made it reach the current function|\n",
    "|a(rguments)|List of arguments passed and its values to the function|\n",
    "|q(uit)|Immediately stop execution and quit the debugger|"
   ]
  },
  {
   "cell_type": "markdown",
   "id": "d7863336-d1cd-4de6-b87a-8c8da367a913",
   "metadata": {
    "id": "d7863336-d1cd-4de6-b87a-8c8da367a913"
   },
   "source": [
    "### Other debugging strategies\n",
    "- `assert` (the most basic form of testing)\n",
    "- `print`\n",
    "- `break` (terminate loop)\n",
    "- early returns from functions"
   ]
  },
  {
   "cell_type": "markdown",
   "id": "8b5cf4b9-af9b-4ee4-89e8-46b243ea5574",
   "metadata": {
    "id": "8b5cf4b9-af9b-4ee4-89e8-46b243ea5574"
   },
   "source": [
    "## Connecting to Google Drive in Colab\n",
    "\n",
    "If/when you run python on your own computer, you can easily access other files on the computer. This is important if you want to load data from a spreadsheet, for example.\n",
    "\n",
    "The biggest downside to Colab is that this is a bit harder. Because Colab is running on a virtual machine that you don't directly control (free computing!) you need to tell it where to access files in a place you _do_ control. The easiest place to point it to is Google Drive, and they make it fairly straightforward because ... _ahem_ ... it's another Google product.\n",
    "\n",
    "To connect to Google Drive, you need to import a function, `mount`, from the `colab.drive` module in Google's own `google` package.\n",
    "\n",
    "Then you run the function with a string argument showing the directory path within the virtual machine where you want your Google Drive to be mounted."
   ]
  },
  {
   "cell_type": "code",
   "execution_count": 5,
   "id": "3105743d-bf93-42c2-980f-d4e84e0f2dc3",
   "metadata": {
    "colab": {
     "base_uri": "https://localhost:8080/"
    },
    "id": "3105743d-bf93-42c2-980f-d4e84e0f2dc3",
    "outputId": "95f6668c-c346-41bc-8672-6c88d953a471"
   },
   "outputs": [
    {
     "name": "stdout",
     "output_type": "stream",
     "text": [
      "Drive already mounted at /content/drive; to attempt to forcibly remount, call drive.mount(\"/content/drive\", force_remount=True).\n"
     ]
    }
   ],
   "source": [
    "from google.colab import drive\n",
    "drive.mount('/content/drive')"
   ]
  },
  {
   "cell_type": "markdown",
   "id": "H_cuGhOzQHql",
   "metadata": {
    "id": "H_cuGhOzQHql"
   },
   "source": [
    "### Directory structure, paths, and the working directory\n",
    "\n",
    "Now we get to talk a bit about directory structures and the `paths` used to point us to them.\n",
    "\n",
    "You have probably noticed that files on computers tend to be stored in folders, and folders get stored inside of other folders, forming a file tree. 'Directory' just means a system of files and folders. It's a way of storing things and giving the computer directions to find them.\n",
    "\n",
    "'Directory' is often used synonymously with 'folder.'\n",
    "\n",
    "'Paths' are computer-speak for directions to a location in the file system. They are strings, where nesting is denoted with slashes (`/`). There are two types of paths:\n",
    "\n",
    "- **Absolute paths** always start with the 'root' directory:\n",
    "    - `/content/drive/MyDrive/ursp688y_demo_data`\n",
    "    - `/content/drive/MyDrive/ursp688y_demo_data/affordable_housing.csv`\n",
    "\n",
    "- **Relative paths** give directions from the 'place' in the file structure you (or a program) already are. Let's say we are already in `MyDrive`:\n",
    "    - `./ursp688y_demo_data`\n",
    "    - `./ursp688y_demo_data/affordable_housing.csv`\n",
    "\n",
    "Python operates in a 'working directory'. This is where we 'are' for the purpose of relative paths.\n",
    "\n",
    "Let's see where the working directory is located by default in Colab. We need to import a package called `os`, which has tools for interfacing with the computer's operating system, then use its `getcwd` function. (This stands for \"get current working directory\".)"
   ]
  },
  {
   "cell_type": "code",
   "execution_count": 6,
   "id": "mj6m8JzhOcQf",
   "metadata": {
    "colab": {
     "base_uri": "https://localhost:8080/",
     "height": 35
    },
    "id": "mj6m8JzhOcQf",
    "outputId": "faea5403-1961-40c8-e5d1-fe1b99041408"
   },
   "outputs": [
    {
     "data": {
      "application/vnd.google.colaboratory.intrinsic+json": {
       "type": "string"
      },
      "text/plain": [
       "'/content'"
      ]
     },
     "execution_count": 6,
     "metadata": {},
     "output_type": "execute_result"
    }
   ],
   "source": [
    "import os\n",
    "\n",
    "os.getcwd()"
   ]
  },
  {
   "cell_type": "markdown",
   "id": "xTIAI891Vi8H",
   "metadata": {
    "id": "xTIAI891Vi8H"
   },
   "source": [
    "If we want to access the `affordable_housing.csv` spreadsheet, we need to do one of three things:\n",
    "\n",
    "1. Provide an absolute path to it\n",
    "2. Provide a relative path from our current working directory\n",
    "3. Change our current working directory"
   ]
  },
  {
   "cell_type": "code",
   "execution_count": 7,
   "id": "ZPUjp1OpXxzp",
   "metadata": {
    "colab": {
     "base_uri": "https://localhost:8080/"
    },
    "id": "ZPUjp1OpXxzp",
    "outputId": "297e656a-e97b-4eb8-92b2-5adac857061a"
   },
   "outputs": [
    {
     "data": {
      "text/plain": [
       "True"
      ]
     },
     "execution_count": 7,
     "metadata": {},
     "output_type": "execute_result"
    }
   ],
   "source": [
    "# 1) Absolute path\n",
    "abs_path = '/content/drive/MyDrive/ursp688y_shared_data/affordable_housing.csv'\n",
    "os.path.isfile(abs_path)"
   ]
  },
  {
   "cell_type": "code",
   "execution_count": 8,
   "id": "5Cs2GZdwYHJD",
   "metadata": {
    "colab": {
     "base_uri": "https://localhost:8080/"
    },
    "id": "5Cs2GZdwYHJD",
    "outputId": "253c8ca3-5bce-4d5b-c09e-f0c2d31810de"
   },
   "outputs": [
    {
     "data": {
      "text/plain": [
       "True"
      ]
     },
     "execution_count": 8,
     "metadata": {},
     "output_type": "execute_result"
    }
   ],
   "source": [
    "# 2) Relative path\n",
    "rel_path = 'drive/MyDrive/ursp688y_shared_data/affordable_housing.csv'\n",
    "os.path.isfile(rel_path)"
   ]
  },
  {
   "cell_type": "code",
   "execution_count": 9,
   "id": "i9LL3z-CX3D1",
   "metadata": {
    "colab": {
     "base_uri": "https://localhost:8080/"
    },
    "id": "i9LL3z-CX3D1",
    "outputId": "fd1a1866-cda5-4892-cbaf-febe62810500"
   },
   "outputs": [
    {
     "name": "stdout",
     "output_type": "stream",
     "text": [
      "cwd: /content/drive/MyDrive/Teaching/URSP688Y Spring 2024/ursp688y_shared_data\n"
     ]
    },
    {
     "data": {
      "text/plain": [
       "True"
      ]
     },
     "execution_count": 9,
     "metadata": {},
     "output_type": "execute_result"
    }
   ],
   "source": [
    "# 3) Change working directory\n",
    "wd_path = '/content/drive/MyDrive/ursp688y_shared_data'\n",
    "os.chdir(wd_path)\n",
    "\n",
    "print(f'cwd: {os.getcwd()}')\n",
    "\n",
    "os.path.isfile('affordable_housing.csv')"
   ]
  },
  {
   "cell_type": "markdown",
   "id": "_tDNJGWCYk1S",
   "metadata": {
    "id": "_tDNJGWCYk1S"
   },
   "source": [
    "For simplicity, let's set our working directories to the `ursp688y_shared_data` folder I have shared with everyone.\n",
    "\n",
    "**First, let's all make a shortcut to it in the root folder of our Google Drives.** That way, the path will be the same for everyone.\n",
    "\n",
    "Then we can change our the working directory in our notebook.\n",
    "\n"
   ]
  },
  {
   "cell_type": "code",
   "execution_count": 10,
   "id": "NJmkKp7YdO1K",
   "metadata": {
    "colab": {
     "base_uri": "https://localhost:8080/"
    },
    "id": "NJmkKp7YdO1K",
    "outputId": "46c2982c-b196-47af-9b55-dde143ca1f8f"
   },
   "outputs": [
    {
     "name": "stdout",
     "output_type": "stream",
     "text": [
      "cwd: /content/drive/MyDrive/Teaching/URSP688Y Spring 2024/ursp688y_shared_data\n"
     ]
    },
    {
     "data": {
      "text/plain": [
       "True"
      ]
     },
     "execution_count": 10,
     "metadata": {},
     "output_type": "execute_result"
    }
   ],
   "source": [
    "wd_path = '/content/drive/MyDrive/ursp688y_shared_data'\n",
    "os.chdir(wd_path)\n",
    "\n",
    "print(f'cwd: {os.getcwd()}')\n",
    "\n",
    "os.path.isfile('affordable_housing.csv')"
   ]
  },
  {
   "cell_type": "markdown",
   "id": "V87svPVIeDoF",
   "metadata": {
    "id": "V87svPVIeDoF"
   },
   "source": [
    "Now let's check what's in our working directory."
   ]
  },
  {
   "cell_type": "code",
   "execution_count": 11,
   "id": "IxE1gcmgeKPX",
   "metadata": {
    "colab": {
     "base_uri": "https://localhost:8080/"
    },
    "id": "IxE1gcmgeKPX",
    "outputId": "8b6cd6c1-e883-439d-aef6-9fd565c246fe"
   },
   "outputs": [
    {
     "data": {
      "text/plain": [
       "['affordable_housing.csv', 'harvey.py', '.ipynb_checkpoints', '__pycache__']"
      ]
     },
     "execution_count": 11,
     "metadata": {},
     "output_type": "execute_result"
    }
   ],
   "source": [
    "os.listdir()"
   ]
  },
  {
   "cell_type": "markdown",
   "id": "95c8336b-29d6-497c-918e-0c7be32bb1bd",
   "metadata": {
    "id": "95c8336b-29d6-497c-918e-0c7be32bb1bd"
   },
   "source": [
    "## Loading data from files\n",
    "\n",
    "Now that we know about directories and paths, we can load data from files. This really expands our horizons for analyzing larger and more real-world data.\n",
    "\n",
    "We're going to load a table, so we need Pandas."
   ]
  },
  {
   "cell_type": "code",
   "execution_count": 12,
   "id": "b7063339-94b1-4651-bb8b-5086efded3a4",
   "metadata": {
    "id": "b7063339-94b1-4651-bb8b-5086efded3a4"
   },
   "outputs": [],
   "source": [
    "import pandas as pd"
   ]
  },
  {
   "cell_type": "markdown",
   "id": "NNtjK-F3faqY",
   "metadata": {
    "id": "NNtjK-F3faqY"
   },
   "source": [
    "Then we'll use the `read_csv` function, and give it the path to our file.\n",
    "\n",
    "Notice that our path is very short? It's just pointing to the file name. This is because the file is within our current working directory, so it's a relative path.\n",
    "\n",
    "We could also enter an absolute path, but it would be a pain to enter and it wouldn't be as flexible. What if the directory structure changed? A relative path is very easy to update: just change the current working directory, and everything works."
   ]
  },
  {
   "cell_type": "code",
   "execution_count": 13,
   "id": "kQoR34L_1FYo",
   "metadata": {
    "colab": {
     "base_uri": "https://localhost:8080/",
     "height": 568
    },
    "id": "kQoR34L_1FYo",
    "outputId": "34f34e8b-624f-49e1-a79d-8cca7e5172bd"
   },
   "outputs": [
    {
     "data": {
      "application/vnd.google.colaboratory.intrinsic+json": {
       "type": "dataframe",
       "variable_name": "df"
      },
      "text/html": [
       "\n",
       "  <div id=\"df-1303ef9c-2565-4244-8ea2-fb60f6a3a163\" class=\"colab-df-container\">\n",
       "    <div>\n",
       "<style scoped>\n",
       "    .dataframe tbody tr th:only-of-type {\n",
       "        vertical-align: middle;\n",
       "    }\n",
       "\n",
       "    .dataframe tbody tr th {\n",
       "        vertical-align: top;\n",
       "    }\n",
       "\n",
       "    .dataframe thead th {\n",
       "        text-align: right;\n",
       "    }\n",
       "</style>\n",
       "<table border=\"1\" class=\"dataframe\">\n",
       "  <thead>\n",
       "    <tr style=\"text-align: right;\">\n",
       "      <th></th>\n",
       "      <th>X</th>\n",
       "      <th>Y</th>\n",
       "      <th>OBJECTID</th>\n",
       "      <th>MAR_WARD</th>\n",
       "      <th>ADDRESS</th>\n",
       "      <th>PROJECT_NAME</th>\n",
       "      <th>STATUS_PUBLIC</th>\n",
       "      <th>AGENCY_CALCULATED</th>\n",
       "      <th>TOTAL_AFFORDABLE_UNITS</th>\n",
       "      <th>LATITUDE</th>\n",
       "      <th>...</th>\n",
       "      <th>AFFORDABLE_UNITS_AT_31_50_AMI</th>\n",
       "      <th>AFFORDABLE_UNITS_AT_51_60_AMI</th>\n",
       "      <th>AFFORDABLE_UNITS_AT_61_80_AMI</th>\n",
       "      <th>AFFORDABLE_UNITS_AT_81_AMI</th>\n",
       "      <th>CASE_ID</th>\n",
       "      <th>MAR_ID</th>\n",
       "      <th>XCOORD</th>\n",
       "      <th>YCOORD</th>\n",
       "      <th>FULLADDRESS</th>\n",
       "      <th>GIS_LAST_MOD_DTTM</th>\n",
       "    </tr>\n",
       "  </thead>\n",
       "  <tbody>\n",
       "    <tr>\n",
       "      <th>0</th>\n",
       "      <td>-77.009383</td>\n",
       "      <td>38.910255</td>\n",
       "      <td>89281</td>\n",
       "      <td>Ward 6</td>\n",
       "      <td>1520 North Capitol Street Northwest, Washingto...</td>\n",
       "      <td>Cycle House</td>\n",
       "      <td>Under Construction</td>\n",
       "      <td>DMPED DHCD</td>\n",
       "      <td>18</td>\n",
       "      <td>38.910248</td>\n",
       "      <td>...</td>\n",
       "      <td>4</td>\n",
       "      <td>12</td>\n",
       "      <td>0</td>\n",
       "      <td>0</td>\n",
       "      <td>NaN</td>\n",
       "      <td>331764</td>\n",
       "      <td>399186.36</td>\n",
       "      <td>138042.91</td>\n",
       "      <td>1520 NORTH CAPITOL STREET NW</td>\n",
       "      <td>2024/02/05 05:00:27+00</td>\n",
       "    </tr>\n",
       "    <tr>\n",
       "      <th>1</th>\n",
       "      <td>-77.009436</td>\n",
       "      <td>38.906403</td>\n",
       "      <td>89282</td>\n",
       "      <td>Ward 6</td>\n",
       "      <td>1200 North Capitol Street Northwest, Washingto...</td>\n",
       "      <td>Tyler House Apartments</td>\n",
       "      <td>Completed 2015 to Date</td>\n",
       "      <td>DCHFA</td>\n",
       "      <td>284</td>\n",
       "      <td>38.906396</td>\n",
       "      <td>...</td>\n",
       "      <td>0</td>\n",
       "      <td>284</td>\n",
       "      <td>0</td>\n",
       "      <td>0</td>\n",
       "      <td>NaN</td>\n",
       "      <td>237128</td>\n",
       "      <td>399181.75</td>\n",
       "      <td>137615.28</td>\n",
       "      <td>1200 NORTH CAPITOL STREET NW</td>\n",
       "      <td>2024/02/05 05:00:27+00</td>\n",
       "    </tr>\n",
       "    <tr>\n",
       "      <th>2</th>\n",
       "      <td>-77.030061</td>\n",
       "      <td>38.962519</td>\n",
       "      <td>89283</td>\n",
       "      <td>Ward 4</td>\n",
       "      <td>5922 13th Street Northwest, Washington, Distri...</td>\n",
       "      <td>Valencia Apartments</td>\n",
       "      <td>Completed 2015 to Date</td>\n",
       "      <td>DHCD</td>\n",
       "      <td>29</td>\n",
       "      <td>38.962511</td>\n",
       "      <td>...</td>\n",
       "      <td>0</td>\n",
       "      <td>29</td>\n",
       "      <td>0</td>\n",
       "      <td>0</td>\n",
       "      <td>NaN</td>\n",
       "      <td>243483</td>\n",
       "      <td>397394.87</td>\n",
       "      <td>143845.04</td>\n",
       "      <td>5922 13TH STREET NW</td>\n",
       "      <td>2024/02/05 05:00:27+00</td>\n",
       "    </tr>\n",
       "    <tr>\n",
       "      <th>3</th>\n",
       "      <td>-76.950868</td>\n",
       "      <td>38.922332</td>\n",
       "      <td>89284</td>\n",
       "      <td>Ward 5</td>\n",
       "      <td>3814 Fort Lincoln Drive Northeast, Washington,...</td>\n",
       "      <td>Villages at Dakota Crossing Phase III</td>\n",
       "      <td>Completed 2015 to Date</td>\n",
       "      <td>DMPED</td>\n",
       "      <td>24</td>\n",
       "      <td>38.922333</td>\n",
       "      <td>...</td>\n",
       "      <td>0</td>\n",
       "      <td>0</td>\n",
       "      <td>24</td>\n",
       "      <td>0</td>\n",
       "      <td>NaN</td>\n",
       "      <td>310077</td>\n",
       "      <td>404260.75</td>\n",
       "      <td>139384.60</td>\n",
       "      <td>3814 FORT LINCOLN DRIVE NE</td>\n",
       "      <td>2024/02/05 05:00:27+00</td>\n",
       "    </tr>\n",
       "    <tr>\n",
       "      <th>4</th>\n",
       "      <td>-77.033056</td>\n",
       "      <td>38.967357</td>\n",
       "      <td>89285</td>\n",
       "      <td>Ward 4</td>\n",
       "      <td>1388 Tuckerman Street Northwest, Washington, D...</td>\n",
       "      <td>Vizcaya Apartments</td>\n",
       "      <td>Completed 2015 to Date</td>\n",
       "      <td>DHCD</td>\n",
       "      <td>17</td>\n",
       "      <td>38.967349</td>\n",
       "      <td>...</td>\n",
       "      <td>0</td>\n",
       "      <td>17</td>\n",
       "      <td>0</td>\n",
       "      <td>0</td>\n",
       "      <td>NaN</td>\n",
       "      <td>257527</td>\n",
       "      <td>397135.52</td>\n",
       "      <td>144382.12</td>\n",
       "      <td>1388 TUCKERMAN STREET NW</td>\n",
       "      <td>2024/02/05 05:00:27+00</td>\n",
       "    </tr>\n",
       "  </tbody>\n",
       "</table>\n",
       "<p>5 rows × 22 columns</p>\n",
       "</div>\n",
       "    <div class=\"colab-df-buttons\">\n",
       "\n",
       "  <div class=\"colab-df-container\">\n",
       "    <button class=\"colab-df-convert\" onclick=\"convertToInteractive('df-1303ef9c-2565-4244-8ea2-fb60f6a3a163')\"\n",
       "            title=\"Convert this dataframe to an interactive table.\"\n",
       "            style=\"display:none;\">\n",
       "\n",
       "  <svg xmlns=\"http://www.w3.org/2000/svg\" height=\"24px\" viewBox=\"0 -960 960 960\">\n",
       "    <path d=\"M120-120v-720h720v720H120Zm60-500h600v-160H180v160Zm220 220h160v-160H400v160Zm0 220h160v-160H400v160ZM180-400h160v-160H180v160Zm440 0h160v-160H620v160ZM180-180h160v-160H180v160Zm440 0h160v-160H620v160Z\"/>\n",
       "  </svg>\n",
       "    </button>\n",
       "\n",
       "  <style>\n",
       "    .colab-df-container {\n",
       "      display:flex;\n",
       "      gap: 12px;\n",
       "    }\n",
       "\n",
       "    .colab-df-convert {\n",
       "      background-color: #E8F0FE;\n",
       "      border: none;\n",
       "      border-radius: 50%;\n",
       "      cursor: pointer;\n",
       "      display: none;\n",
       "      fill: #1967D2;\n",
       "      height: 32px;\n",
       "      padding: 0 0 0 0;\n",
       "      width: 32px;\n",
       "    }\n",
       "\n",
       "    .colab-df-convert:hover {\n",
       "      background-color: #E2EBFA;\n",
       "      box-shadow: 0px 1px 2px rgba(60, 64, 67, 0.3), 0px 1px 3px 1px rgba(60, 64, 67, 0.15);\n",
       "      fill: #174EA6;\n",
       "    }\n",
       "\n",
       "    .colab-df-buttons div {\n",
       "      margin-bottom: 4px;\n",
       "    }\n",
       "\n",
       "    [theme=dark] .colab-df-convert {\n",
       "      background-color: #3B4455;\n",
       "      fill: #D2E3FC;\n",
       "    }\n",
       "\n",
       "    [theme=dark] .colab-df-convert:hover {\n",
       "      background-color: #434B5C;\n",
       "      box-shadow: 0px 1px 3px 1px rgba(0, 0, 0, 0.15);\n",
       "      filter: drop-shadow(0px 1px 2px rgba(0, 0, 0, 0.3));\n",
       "      fill: #FFFFFF;\n",
       "    }\n",
       "  </style>\n",
       "\n",
       "    <script>\n",
       "      const buttonEl =\n",
       "        document.querySelector('#df-1303ef9c-2565-4244-8ea2-fb60f6a3a163 button.colab-df-convert');\n",
       "      buttonEl.style.display =\n",
       "        google.colab.kernel.accessAllowed ? 'block' : 'none';\n",
       "\n",
       "      async function convertToInteractive(key) {\n",
       "        const element = document.querySelector('#df-1303ef9c-2565-4244-8ea2-fb60f6a3a163');\n",
       "        const dataTable =\n",
       "          await google.colab.kernel.invokeFunction('convertToInteractive',\n",
       "                                                    [key], {});\n",
       "        if (!dataTable) return;\n",
       "\n",
       "        const docLinkHtml = 'Like what you see? Visit the ' +\n",
       "          '<a target=\"_blank\" href=https://colab.research.google.com/notebooks/data_table.ipynb>data table notebook</a>'\n",
       "          + ' to learn more about interactive tables.';\n",
       "        element.innerHTML = '';\n",
       "        dataTable['output_type'] = 'display_data';\n",
       "        await google.colab.output.renderOutput(dataTable, element);\n",
       "        const docLink = document.createElement('div');\n",
       "        docLink.innerHTML = docLinkHtml;\n",
       "        element.appendChild(docLink);\n",
       "      }\n",
       "    </script>\n",
       "  </div>\n",
       "\n",
       "\n",
       "<div id=\"df-27ce0898-1d24-4c41-bb29-625f271915b3\">\n",
       "  <button class=\"colab-df-quickchart\" onclick=\"quickchart('df-27ce0898-1d24-4c41-bb29-625f271915b3')\"\n",
       "            title=\"Suggest charts\"\n",
       "            style=\"display:none;\">\n",
       "\n",
       "<svg xmlns=\"http://www.w3.org/2000/svg\" height=\"24px\"viewBox=\"0 0 24 24\"\n",
       "     width=\"24px\">\n",
       "    <g>\n",
       "        <path d=\"M19 3H5c-1.1 0-2 .9-2 2v14c0 1.1.9 2 2 2h14c1.1 0 2-.9 2-2V5c0-1.1-.9-2-2-2zM9 17H7v-7h2v7zm4 0h-2V7h2v10zm4 0h-2v-4h2v4z\"/>\n",
       "    </g>\n",
       "</svg>\n",
       "  </button>\n",
       "\n",
       "<style>\n",
       "  .colab-df-quickchart {\n",
       "      --bg-color: #E8F0FE;\n",
       "      --fill-color: #1967D2;\n",
       "      --hover-bg-color: #E2EBFA;\n",
       "      --hover-fill-color: #174EA6;\n",
       "      --disabled-fill-color: #AAA;\n",
       "      --disabled-bg-color: #DDD;\n",
       "  }\n",
       "\n",
       "  [theme=dark] .colab-df-quickchart {\n",
       "      --bg-color: #3B4455;\n",
       "      --fill-color: #D2E3FC;\n",
       "      --hover-bg-color: #434B5C;\n",
       "      --hover-fill-color: #FFFFFF;\n",
       "      --disabled-bg-color: #3B4455;\n",
       "      --disabled-fill-color: #666;\n",
       "  }\n",
       "\n",
       "  .colab-df-quickchart {\n",
       "    background-color: var(--bg-color);\n",
       "    border: none;\n",
       "    border-radius: 50%;\n",
       "    cursor: pointer;\n",
       "    display: none;\n",
       "    fill: var(--fill-color);\n",
       "    height: 32px;\n",
       "    padding: 0;\n",
       "    width: 32px;\n",
       "  }\n",
       "\n",
       "  .colab-df-quickchart:hover {\n",
       "    background-color: var(--hover-bg-color);\n",
       "    box-shadow: 0 1px 2px rgba(60, 64, 67, 0.3), 0 1px 3px 1px rgba(60, 64, 67, 0.15);\n",
       "    fill: var(--button-hover-fill-color);\n",
       "  }\n",
       "\n",
       "  .colab-df-quickchart-complete:disabled,\n",
       "  .colab-df-quickchart-complete:disabled:hover {\n",
       "    background-color: var(--disabled-bg-color);\n",
       "    fill: var(--disabled-fill-color);\n",
       "    box-shadow: none;\n",
       "  }\n",
       "\n",
       "  .colab-df-spinner {\n",
       "    border: 2px solid var(--fill-color);\n",
       "    border-color: transparent;\n",
       "    border-bottom-color: var(--fill-color);\n",
       "    animation:\n",
       "      spin 1s steps(1) infinite;\n",
       "  }\n",
       "\n",
       "  @keyframes spin {\n",
       "    0% {\n",
       "      border-color: transparent;\n",
       "      border-bottom-color: var(--fill-color);\n",
       "      border-left-color: var(--fill-color);\n",
       "    }\n",
       "    20% {\n",
       "      border-color: transparent;\n",
       "      border-left-color: var(--fill-color);\n",
       "      border-top-color: var(--fill-color);\n",
       "    }\n",
       "    30% {\n",
       "      border-color: transparent;\n",
       "      border-left-color: var(--fill-color);\n",
       "      border-top-color: var(--fill-color);\n",
       "      border-right-color: var(--fill-color);\n",
       "    }\n",
       "    40% {\n",
       "      border-color: transparent;\n",
       "      border-right-color: var(--fill-color);\n",
       "      border-top-color: var(--fill-color);\n",
       "    }\n",
       "    60% {\n",
       "      border-color: transparent;\n",
       "      border-right-color: var(--fill-color);\n",
       "    }\n",
       "    80% {\n",
       "      border-color: transparent;\n",
       "      border-right-color: var(--fill-color);\n",
       "      border-bottom-color: var(--fill-color);\n",
       "    }\n",
       "    90% {\n",
       "      border-color: transparent;\n",
       "      border-bottom-color: var(--fill-color);\n",
       "    }\n",
       "  }\n",
       "</style>\n",
       "\n",
       "  <script>\n",
       "    async function quickchart(key) {\n",
       "      const quickchartButtonEl =\n",
       "        document.querySelector('#' + key + ' button');\n",
       "      quickchartButtonEl.disabled = true;  // To prevent multiple clicks.\n",
       "      quickchartButtonEl.classList.add('colab-df-spinner');\n",
       "      try {\n",
       "        const charts = await google.colab.kernel.invokeFunction(\n",
       "            'suggestCharts', [key], {});\n",
       "      } catch (error) {\n",
       "        console.error('Error during call to suggestCharts:', error);\n",
       "      }\n",
       "      quickchartButtonEl.classList.remove('colab-df-spinner');\n",
       "      quickchartButtonEl.classList.add('colab-df-quickchart-complete');\n",
       "    }\n",
       "    (() => {\n",
       "      let quickchartButtonEl =\n",
       "        document.querySelector('#df-27ce0898-1d24-4c41-bb29-625f271915b3 button');\n",
       "      quickchartButtonEl.style.display =\n",
       "        google.colab.kernel.accessAllowed ? 'block' : 'none';\n",
       "    })();\n",
       "  </script>\n",
       "</div>\n",
       "    </div>\n",
       "  </div>\n"
      ],
      "text/plain": [
       "           X          Y  OBJECTID MAR_WARD  \\\n",
       "0 -77.009383  38.910255     89281   Ward 6   \n",
       "1 -77.009436  38.906403     89282   Ward 6   \n",
       "2 -77.030061  38.962519     89283   Ward 4   \n",
       "3 -76.950868  38.922332     89284   Ward 5   \n",
       "4 -77.033056  38.967357     89285   Ward 4   \n",
       "\n",
       "                                             ADDRESS  \\\n",
       "0  1520 North Capitol Street Northwest, Washingto...   \n",
       "1  1200 North Capitol Street Northwest, Washingto...   \n",
       "2  5922 13th Street Northwest, Washington, Distri...   \n",
       "3  3814 Fort Lincoln Drive Northeast, Washington,...   \n",
       "4  1388 Tuckerman Street Northwest, Washington, D...   \n",
       "\n",
       "                            PROJECT_NAME           STATUS_PUBLIC  \\\n",
       "0                            Cycle House      Under Construction   \n",
       "1                 Tyler House Apartments  Completed 2015 to Date   \n",
       "2                    Valencia Apartments  Completed 2015 to Date   \n",
       "3  Villages at Dakota Crossing Phase III  Completed 2015 to Date   \n",
       "4                     Vizcaya Apartments  Completed 2015 to Date   \n",
       "\n",
       "  AGENCY_CALCULATED  TOTAL_AFFORDABLE_UNITS   LATITUDE  ...  \\\n",
       "0        DMPED DHCD                      18  38.910248  ...   \n",
       "1             DCHFA                     284  38.906396  ...   \n",
       "2              DHCD                      29  38.962511  ...   \n",
       "3             DMPED                      24  38.922333  ...   \n",
       "4              DHCD                      17  38.967349  ...   \n",
       "\n",
       "   AFFORDABLE_UNITS_AT_31_50_AMI  AFFORDABLE_UNITS_AT_51_60_AMI  \\\n",
       "0                              4                             12   \n",
       "1                              0                            284   \n",
       "2                              0                             29   \n",
       "3                              0                              0   \n",
       "4                              0                             17   \n",
       "\n",
       "   AFFORDABLE_UNITS_AT_61_80_AMI  AFFORDABLE_UNITS_AT_81_AMI  CASE_ID  MAR_ID  \\\n",
       "0                              0                           0      NaN  331764   \n",
       "1                              0                           0      NaN  237128   \n",
       "2                              0                           0      NaN  243483   \n",
       "3                             24                           0      NaN  310077   \n",
       "4                              0                           0      NaN  257527   \n",
       "\n",
       "      XCOORD     YCOORD                   FULLADDRESS       GIS_LAST_MOD_DTTM  \n",
       "0  399186.36  138042.91  1520 NORTH CAPITOL STREET NW  2024/02/05 05:00:27+00  \n",
       "1  399181.75  137615.28  1200 NORTH CAPITOL STREET NW  2024/02/05 05:00:27+00  \n",
       "2  397394.87  143845.04           5922 13TH STREET NW  2024/02/05 05:00:27+00  \n",
       "3  404260.75  139384.60    3814 FORT LINCOLN DRIVE NE  2024/02/05 05:00:27+00  \n",
       "4  397135.52  144382.12      1388 TUCKERMAN STREET NW  2024/02/05 05:00:27+00  \n",
       "\n",
       "[5 rows x 22 columns]"
      ]
     },
     "execution_count": 13,
     "metadata": {},
     "output_type": "execute_result"
    }
   ],
   "source": [
    "# relative path example\n",
    "df = pd.read_csv('affordable_housing.csv')\n",
    "\n",
    "# absolute path example\n",
    "# df = pd.read_csv('/content/drive/MyDrive/ursp688y_shared_data/affordable_housing.csv')\n",
    "\n",
    "# both yield the same thing\n",
    "df.head()"
   ]
  },
  {
   "cell_type": "markdown",
   "id": "H06REXH_76w7",
   "metadata": {
    "id": "H06REXH_76w7"
   },
   "source": [
    "## Saving data to file\n",
    "\n",
    "We can also save a DataFrame back to a file that you can open in Excel or just save for posterity."
   ]
  },
  {
   "cell_type": "code",
   "execution_count": 33,
   "id": "MdlOgiJ5752_",
   "metadata": {
    "id": "MdlOgiJ5752_"
   },
   "outputs": [],
   "source": [
    "df.to_csv('our_tidy_dataframe.csv')"
   ]
  },
  {
   "cell_type": "markdown",
   "id": "arCchVCwhsKA",
   "metadata": {
    "id": "arCchVCwhsKA"
   },
   "source": [
    "## Loading code from files (modules)\n",
    "\n",
    "We just loaded data from a file. Guess what?: You can also load code from a file!\n",
    "\n",
    "So far, we have been loading packages and their subcomponents--modules--that other people have written.\n",
    "\n",
    "A module is just a `.py` file with code that defines variables, functions, classes, etc. that we can import into our own namespace.\n",
    "\n",
    "When you `import` a module, Python looks for it in a few places by default (the exact places and order of search can change depending on the system type and configuration, but you don't have to worry about that too much as long as there aren't naming conflicts).\n",
    "\n",
    "1.  The current working directory\n",
    "2.  The directory containing the executed script file (`.py` or `.ipynb`)\n",
    "3.  The `site-packages` directory where `pip` installs things\n",
    "\n",
    "This is very helpful, because it means you can write your own module, put it in your current working directory OR the same directory as your notebook (i.e., the executed script file), and import them.\n",
    "\n",
    "Writing a module is a great way to automate setup tasks, store functions your're going to use again elsewhere, and keep your notebook tidy.\n",
    "\n",
    "I made a new module called `harvey.py` in the shared data folder. Then I wrote a function in it. Let's load it and use it.\n",
    "\n",
    "\n",
    "\n"
   ]
  },
  {
   "cell_type": "code",
   "execution_count": 25,
   "id": "sQ2K-Nunhxh6",
   "metadata": {
    "colab": {
     "base_uri": "https://localhost:8080/"
    },
    "id": "sQ2K-Nunhxh6",
    "outputId": "b394d24d-2403-4e80-ba57-6f09c87f630d"
   },
   "outputs": [
    {
     "name": "stdout",
     "output_type": "stream",
     "text": [
      "The autoreload extension is already loaded. To reload it, use:\n",
      "  %reload_ext autoreload\n"
     ]
    }
   ],
   "source": [
    "import demo04\n",
    "\n",
    "# These autoreload magic functions are only for notebooks.\n",
    "# They tell the notebook to automatically reload the module\n",
    "# when changes are made to it, which is great for development.\n",
    "\n",
    "# If you define an entirely new name (e.g., a function), you may\n",
    "# still need to restart the kernel/runtime/session for Python to\n",
    "# add it to the namespace.\n",
    "\n",
    "%load_ext autoreload\n",
    "%autoreload 2"
   ]
  },
  {
   "cell_type": "code",
   "execution_count": 32,
   "id": "vEjK6DM7hraP",
   "metadata": {
    "colab": {
     "base_uri": "https://localhost:8080/",
     "height": 300
    },
    "id": "vEjK6DM7hraP",
    "outputId": "d5e2da93-939e-477b-8088-ada0e0cf88a0"
   },
   "outputs": [
    {
     "data": {
      "application/vnd.google.colaboratory.intrinsic+json": {
       "type": "dataframe",
       "variable_name": "df"
      },
      "text/html": [
       "\n",
       "  <div id=\"df-5847fe6f-caa1-4f9a-9bfd-0d74f42f3c70\" class=\"colab-df-container\">\n",
       "    <div>\n",
       "<style scoped>\n",
       "    .dataframe tbody tr th:only-of-type {\n",
       "        vertical-align: middle;\n",
       "    }\n",
       "\n",
       "    .dataframe tbody tr th {\n",
       "        vertical-align: top;\n",
       "    }\n",
       "\n",
       "    .dataframe thead th {\n",
       "        text-align: right;\n",
       "    }\n",
       "</style>\n",
       "<table border=\"1\" class=\"dataframe\">\n",
       "  <thead>\n",
       "    <tr style=\"text-align: right;\">\n",
       "      <th></th>\n",
       "      <th>X</th>\n",
       "      <th>Y</th>\n",
       "      <th>OBJECTID</th>\n",
       "      <th>MAR_WARD</th>\n",
       "      <th>ADDRESS</th>\n",
       "      <th>PROJECT_NAME</th>\n",
       "      <th>STATUS_PUBLIC</th>\n",
       "      <th>AGENCY_CALCULATED</th>\n",
       "      <th>TOTAL_AFFORDABLE_UNITS</th>\n",
       "      <th>LATITUDE</th>\n",
       "      <th>...</th>\n",
       "      <th>AFFORDABLE_UNITS_AT_31_50_AMI</th>\n",
       "      <th>AFFORDABLE_UNITS_AT_51_60_AMI</th>\n",
       "      <th>AFFORDABLE_UNITS_AT_61_80_AMI</th>\n",
       "      <th>AFFORDABLE_UNITS_AT_81_AMI</th>\n",
       "      <th>CASE_ID</th>\n",
       "      <th>MAR_ID</th>\n",
       "      <th>XCOORD</th>\n",
       "      <th>YCOORD</th>\n",
       "      <th>FULLADDRESS</th>\n",
       "      <th>GIS_LAST_MOD_DTTM</th>\n",
       "    </tr>\n",
       "  </thead>\n",
       "  <tbody>\n",
       "    <tr>\n",
       "      <th>0</th>\n",
       "      <td>-77.009383</td>\n",
       "      <td>38.910255</td>\n",
       "      <td>89281</td>\n",
       "      <td>Ward 6</td>\n",
       "      <td>1520 North Capitol Street Northwest, Washingto...</td>\n",
       "      <td>Cycle House</td>\n",
       "      <td>Under Construction</td>\n",
       "      <td>DMPED DHCD</td>\n",
       "      <td>18</td>\n",
       "      <td>38.910248</td>\n",
       "      <td>...</td>\n",
       "      <td>4</td>\n",
       "      <td>12</td>\n",
       "      <td>0</td>\n",
       "      <td>0</td>\n",
       "      <td>NaN</td>\n",
       "      <td>331764</td>\n",
       "      <td>399186.36</td>\n",
       "      <td>138042.91</td>\n",
       "      <td>1520 NORTH CAPITOL STREET NW</td>\n",
       "      <td>2024/02/05 05:00:27+00</td>\n",
       "    </tr>\n",
       "    <tr>\n",
       "      <th>1</th>\n",
       "      <td>-77.009436</td>\n",
       "      <td>38.906403</td>\n",
       "      <td>89282</td>\n",
       "      <td>Ward 6</td>\n",
       "      <td>1200 North Capitol Street Northwest, Washingto...</td>\n",
       "      <td>Tyler House Apartments</td>\n",
       "      <td>Completed 2015 to Date</td>\n",
       "      <td>DCHFA</td>\n",
       "      <td>284</td>\n",
       "      <td>38.906396</td>\n",
       "      <td>...</td>\n",
       "      <td>0</td>\n",
       "      <td>284</td>\n",
       "      <td>0</td>\n",
       "      <td>0</td>\n",
       "      <td>NaN</td>\n",
       "      <td>237128</td>\n",
       "      <td>399181.75</td>\n",
       "      <td>137615.28</td>\n",
       "      <td>1200 NORTH CAPITOL STREET NW</td>\n",
       "      <td>2024/02/05 05:00:27+00</td>\n",
       "    </tr>\n",
       "  </tbody>\n",
       "</table>\n",
       "<p>2 rows × 22 columns</p>\n",
       "</div>\n",
       "    <div class=\"colab-df-buttons\">\n",
       "\n",
       "  <div class=\"colab-df-container\">\n",
       "    <button class=\"colab-df-convert\" onclick=\"convertToInteractive('df-5847fe6f-caa1-4f9a-9bfd-0d74f42f3c70')\"\n",
       "            title=\"Convert this dataframe to an interactive table.\"\n",
       "            style=\"display:none;\">\n",
       "\n",
       "  <svg xmlns=\"http://www.w3.org/2000/svg\" height=\"24px\" viewBox=\"0 -960 960 960\">\n",
       "    <path d=\"M120-120v-720h720v720H120Zm60-500h600v-160H180v160Zm220 220h160v-160H400v160Zm0 220h160v-160H400v160ZM180-400h160v-160H180v160Zm440 0h160v-160H620v160ZM180-180h160v-160H180v160Zm440 0h160v-160H620v160Z\"/>\n",
       "  </svg>\n",
       "    </button>\n",
       "\n",
       "  <style>\n",
       "    .colab-df-container {\n",
       "      display:flex;\n",
       "      gap: 12px;\n",
       "    }\n",
       "\n",
       "    .colab-df-convert {\n",
       "      background-color: #E8F0FE;\n",
       "      border: none;\n",
       "      border-radius: 50%;\n",
       "      cursor: pointer;\n",
       "      display: none;\n",
       "      fill: #1967D2;\n",
       "      height: 32px;\n",
       "      padding: 0 0 0 0;\n",
       "      width: 32px;\n",
       "    }\n",
       "\n",
       "    .colab-df-convert:hover {\n",
       "      background-color: #E2EBFA;\n",
       "      box-shadow: 0px 1px 2px rgba(60, 64, 67, 0.3), 0px 1px 3px 1px rgba(60, 64, 67, 0.15);\n",
       "      fill: #174EA6;\n",
       "    }\n",
       "\n",
       "    .colab-df-buttons div {\n",
       "      margin-bottom: 4px;\n",
       "    }\n",
       "\n",
       "    [theme=dark] .colab-df-convert {\n",
       "      background-color: #3B4455;\n",
       "      fill: #D2E3FC;\n",
       "    }\n",
       "\n",
       "    [theme=dark] .colab-df-convert:hover {\n",
       "      background-color: #434B5C;\n",
       "      box-shadow: 0px 1px 3px 1px rgba(0, 0, 0, 0.15);\n",
       "      filter: drop-shadow(0px 1px 2px rgba(0, 0, 0, 0.3));\n",
       "      fill: #FFFFFF;\n",
       "    }\n",
       "  </style>\n",
       "\n",
       "    <script>\n",
       "      const buttonEl =\n",
       "        document.querySelector('#df-5847fe6f-caa1-4f9a-9bfd-0d74f42f3c70 button.colab-df-convert');\n",
       "      buttonEl.style.display =\n",
       "        google.colab.kernel.accessAllowed ? 'block' : 'none';\n",
       "\n",
       "      async function convertToInteractive(key) {\n",
       "        const element = document.querySelector('#df-5847fe6f-caa1-4f9a-9bfd-0d74f42f3c70');\n",
       "        const dataTable =\n",
       "          await google.colab.kernel.invokeFunction('convertToInteractive',\n",
       "                                                    [key], {});\n",
       "        if (!dataTable) return;\n",
       "\n",
       "        const docLinkHtml = 'Like what you see? Visit the ' +\n",
       "          '<a target=\"_blank\" href=https://colab.research.google.com/notebooks/data_table.ipynb>data table notebook</a>'\n",
       "          + ' to learn more about interactive tables.';\n",
       "        element.innerHTML = '';\n",
       "        dataTable['output_type'] = 'display_data';\n",
       "        await google.colab.output.renderOutput(dataTable, element);\n",
       "        const docLink = document.createElement('div');\n",
       "        docLink.innerHTML = docLinkHtml;\n",
       "        element.appendChild(docLink);\n",
       "      }\n",
       "    </script>\n",
       "  </div>\n",
       "\n",
       "\n",
       "<div id=\"df-d7c1ad31-4653-48e8-9583-8fe18d54895c\">\n",
       "  <button class=\"colab-df-quickchart\" onclick=\"quickchart('df-d7c1ad31-4653-48e8-9583-8fe18d54895c')\"\n",
       "            title=\"Suggest charts\"\n",
       "            style=\"display:none;\">\n",
       "\n",
       "<svg xmlns=\"http://www.w3.org/2000/svg\" height=\"24px\"viewBox=\"0 0 24 24\"\n",
       "     width=\"24px\">\n",
       "    <g>\n",
       "        <path d=\"M19 3H5c-1.1 0-2 .9-2 2v14c0 1.1.9 2 2 2h14c1.1 0 2-.9 2-2V5c0-1.1-.9-2-2-2zM9 17H7v-7h2v7zm4 0h-2V7h2v10zm4 0h-2v-4h2v4z\"/>\n",
       "    </g>\n",
       "</svg>\n",
       "  </button>\n",
       "\n",
       "<style>\n",
       "  .colab-df-quickchart {\n",
       "      --bg-color: #E8F0FE;\n",
       "      --fill-color: #1967D2;\n",
       "      --hover-bg-color: #E2EBFA;\n",
       "      --hover-fill-color: #174EA6;\n",
       "      --disabled-fill-color: #AAA;\n",
       "      --disabled-bg-color: #DDD;\n",
       "  }\n",
       "\n",
       "  [theme=dark] .colab-df-quickchart {\n",
       "      --bg-color: #3B4455;\n",
       "      --fill-color: #D2E3FC;\n",
       "      --hover-bg-color: #434B5C;\n",
       "      --hover-fill-color: #FFFFFF;\n",
       "      --disabled-bg-color: #3B4455;\n",
       "      --disabled-fill-color: #666;\n",
       "  }\n",
       "\n",
       "  .colab-df-quickchart {\n",
       "    background-color: var(--bg-color);\n",
       "    border: none;\n",
       "    border-radius: 50%;\n",
       "    cursor: pointer;\n",
       "    display: none;\n",
       "    fill: var(--fill-color);\n",
       "    height: 32px;\n",
       "    padding: 0;\n",
       "    width: 32px;\n",
       "  }\n",
       "\n",
       "  .colab-df-quickchart:hover {\n",
       "    background-color: var(--hover-bg-color);\n",
       "    box-shadow: 0 1px 2px rgba(60, 64, 67, 0.3), 0 1px 3px 1px rgba(60, 64, 67, 0.15);\n",
       "    fill: var(--button-hover-fill-color);\n",
       "  }\n",
       "\n",
       "  .colab-df-quickchart-complete:disabled,\n",
       "  .colab-df-quickchart-complete:disabled:hover {\n",
       "    background-color: var(--disabled-bg-color);\n",
       "    fill: var(--disabled-fill-color);\n",
       "    box-shadow: none;\n",
       "  }\n",
       "\n",
       "  .colab-df-spinner {\n",
       "    border: 2px solid var(--fill-color);\n",
       "    border-color: transparent;\n",
       "    border-bottom-color: var(--fill-color);\n",
       "    animation:\n",
       "      spin 1s steps(1) infinite;\n",
       "  }\n",
       "\n",
       "  @keyframes spin {\n",
       "    0% {\n",
       "      border-color: transparent;\n",
       "      border-bottom-color: var(--fill-color);\n",
       "      border-left-color: var(--fill-color);\n",
       "    }\n",
       "    20% {\n",
       "      border-color: transparent;\n",
       "      border-left-color: var(--fill-color);\n",
       "      border-top-color: var(--fill-color);\n",
       "    }\n",
       "    30% {\n",
       "      border-color: transparent;\n",
       "      border-left-color: var(--fill-color);\n",
       "      border-top-color: var(--fill-color);\n",
       "      border-right-color: var(--fill-color);\n",
       "    }\n",
       "    40% {\n",
       "      border-color: transparent;\n",
       "      border-right-color: var(--fill-color);\n",
       "      border-top-color: var(--fill-color);\n",
       "    }\n",
       "    60% {\n",
       "      border-color: transparent;\n",
       "      border-right-color: var(--fill-color);\n",
       "    }\n",
       "    80% {\n",
       "      border-color: transparent;\n",
       "      border-right-color: var(--fill-color);\n",
       "      border-bottom-color: var(--fill-color);\n",
       "    }\n",
       "    90% {\n",
       "      border-color: transparent;\n",
       "      border-bottom-color: var(--fill-color);\n",
       "    }\n",
       "  }\n",
       "</style>\n",
       "\n",
       "  <script>\n",
       "    async function quickchart(key) {\n",
       "      const quickchartButtonEl =\n",
       "        document.querySelector('#' + key + ' button');\n",
       "      quickchartButtonEl.disabled = true;  // To prevent multiple clicks.\n",
       "      quickchartButtonEl.classList.add('colab-df-spinner');\n",
       "      try {\n",
       "        const charts = await google.colab.kernel.invokeFunction(\n",
       "            'suggestCharts', [key], {});\n",
       "      } catch (error) {\n",
       "        console.error('Error during call to suggestCharts:', error);\n",
       "      }\n",
       "      quickchartButtonEl.classList.remove('colab-df-spinner');\n",
       "      quickchartButtonEl.classList.add('colab-df-quickchart-complete');\n",
       "    }\n",
       "    (() => {\n",
       "      let quickchartButtonEl =\n",
       "        document.querySelector('#df-d7c1ad31-4653-48e8-9583-8fe18d54895c button');\n",
       "      quickchartButtonEl.style.display =\n",
       "        google.colab.kernel.accessAllowed ? 'block' : 'none';\n",
       "    })();\n",
       "  </script>\n",
       "</div>\n",
       "    </div>\n",
       "  </div>\n"
      ],
      "text/plain": [
       "           X          Y  OBJECTID MAR_WARD  \\\n",
       "0 -77.009383  38.910255     89281   Ward 6   \n",
       "1 -77.009436  38.906403     89282   Ward 6   \n",
       "\n",
       "                                             ADDRESS            PROJECT_NAME  \\\n",
       "0  1520 North Capitol Street Northwest, Washingto...             Cycle House   \n",
       "1  1200 North Capitol Street Northwest, Washingto...  Tyler House Apartments   \n",
       "\n",
       "            STATUS_PUBLIC AGENCY_CALCULATED  TOTAL_AFFORDABLE_UNITS  \\\n",
       "0      Under Construction        DMPED DHCD                      18   \n",
       "1  Completed 2015 to Date             DCHFA                     284   \n",
       "\n",
       "    LATITUDE  ...  AFFORDABLE_UNITS_AT_31_50_AMI  \\\n",
       "0  38.910248  ...                              4   \n",
       "1  38.906396  ...                              0   \n",
       "\n",
       "   AFFORDABLE_UNITS_AT_51_60_AMI  AFFORDABLE_UNITS_AT_61_80_AMI  \\\n",
       "0                             12                              0   \n",
       "1                            284                              0   \n",
       "\n",
       "   AFFORDABLE_UNITS_AT_81_AMI  CASE_ID  MAR_ID     XCOORD     YCOORD  \\\n",
       "0                           0      NaN  331764  399186.36  138042.91   \n",
       "1                           0      NaN  237128  399181.75  137615.28   \n",
       "\n",
       "                    FULLADDRESS       GIS_LAST_MOD_DTTM  \n",
       "0  1520 NORTH CAPITOL STREET NW  2024/02/05 05:00:27+00  \n",
       "1  1200 NORTH CAPITOL STREET NW  2024/02/05 05:00:27+00  \n",
       "\n",
       "[2 rows x 22 columns]"
      ]
     },
     "execution_count": 32,
     "metadata": {},
     "output_type": "execute_result"
    }
   ],
   "source": [
    "df = demo04.load_affordable_housing()\n",
    "df.head(2)"
   ]
  },
  {
   "cell_type": "markdown",
   "id": "e65afe70-d1ea-4948-9a46-291964abde3d",
   "metadata": {
    "id": "e65afe70-d1ea-4948-9a46-291964abde3d"
   },
   "source": [
    "## Repository structure\n",
    "\n",
    "Once we start having lots of separate files and modules for our project, we start needing some structure to organize them.\n",
    "\n",
    "There is no one right structure for a data science project, but there are some good examples to draw on.\n",
    "\n",
    "[Cookiecutter Data Science](https://drivendata.github.io/cookiecutter-data-science/) is a popular one.\n",
    "\n",
    "Here's the repository structure they suggest:\n",
    "```\n",
    "├── LICENSE\n",
    "├── Makefile           <- Makefile with commands like `make data` or `make train`\n",
    "├── README.md          <- The top-level README for developers using this project.\n",
    "├── data\n",
    "│   ├── external       <- Data from third party sources.\n",
    "│   ├── interim        <- Intermediate data that has been transformed.\n",
    "│   ├── processed      <- The final, canonical data sets for modeling.\n",
    "│   └── raw            <- The original, immutable data dump.\n",
    "│\n",
    "├── docs               <- A default Sphinx project; see sphinx-doc.org for details\n",
    "│\n",
    "├── models             <- Trained and serialized models, model predictions, or model summaries\n",
    "│\n",
    "├── notebooks          <- Jupyter notebooks. Naming convention is a number (for ordering),\n",
    "│                         the creator's initials, and a short `-` delimited description, e.g.\n",
    "│                         `1.0-jqp-initial-data-exploration`.\n",
    "│\n",
    "├── references         <- Data dictionaries, manuals, and all other explanatory materials.\n",
    "│\n",
    "├── reports            <- Generated analysis as HTML, PDF, LaTeX, etc.\n",
    "│   └── figures        <- Generated graphics and figures to be used in reporting\n",
    "│\n",
    "├── requirements.txt   <- The requirements file for reproducing the analysis environment, e.g.\n",
    "│                         generated with `pip freeze > requirements.txt`\n",
    "│\n",
    "├── setup.py           <- Make this project pip installable with `pip install -e`\n",
    "├── src                <- Source code for use in this project.\n",
    "│   ├── __init__.py    <- Makes src a Python module\n",
    "│   │\n",
    "│   ├── data           <- Scripts to download or generate data\n",
    "│   │   └── make_dataset.py\n",
    "│   │\n",
    "│   ├── features       <- Scripts to turn raw data into features for modeling\n",
    "│   │   └── build_features.py\n",
    "│   │\n",
    "│   ├── models         <- Scripts to train models and then use trained models to make\n",
    "│   │   │                 predictions\n",
    "│   │   ├── predict_model.py\n",
    "│   │   └── train_model.py\n",
    "│   │\n",
    "│   └── visualization  <- Scripts to create exploratory and results oriented visualizations\n",
    "│       └── visualize.py\n",
    "│\n",
    "└── tox.ini            <- tox file with settings for running tox; see tox.readthedocs.io\n",
    "```"
   ]
  },
  {
   "cell_type": "markdown",
   "id": "K5q1nRHcp9Ul",
   "metadata": {
    "id": "K5q1nRHcp9Ul"
   },
   "source": [
    "For now, let's stay basic and just use a single folder to add some structure for our exercises. Rather than making a pull request with a single file, you'll add a folder with your name, and in that folder put your notebook, also named after you, along with any data or custom modules it depends on. It will look like this:\n",
    "```\n",
    "└── harvey\n",
    "    ├── exercise04_harvey.ipynb\n",
    "    ├── affordable_housing.csv\n",
    "    ├── affordable_housing_calcs.py\n",
    "    ├── ...\n",
    "    └── ...\n",
    "```"
   ]
  },
  {
   "cell_type": "markdown",
   "id": "a8170a3c-7dfc-468d-8924-09997dea678e",
   "metadata": {
    "id": "a8170a3c-7dfc-468d-8924-09997dea678e"
   },
   "source": [
    "## [Introducing the final project](https://github.com/ncsg/ursp688y_sp2024/tree/main?tab=readme-ov-file#final-project-50-of-grade)"
   ]
  }
 ],
 "metadata": {
  "colab": {
   "provenance": []
  },
  "kernelspec": {
   "display_name": "Python 3 (ipykernel)",
   "language": "python",
   "name": "python3"
  },
  "language_info": {
   "codemirror_mode": {
    "name": "ipython",
    "version": 3
   },
   "file_extension": ".py",
   "mimetype": "text/x-python",
   "name": "python",
   "nbconvert_exporter": "python",
   "pygments_lexer": "ipython3",
   "version": "3.10.12"
  }
 },
 "nbformat": 4,
 "nbformat_minor": 5
}
