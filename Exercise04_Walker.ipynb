{
  "cells": [
    {
      "cell_type": "markdown",
      "metadata": {
        "id": "view-in-github",
        "colab_type": "text"
      },
      "source": [
        "<a href=\"https://colab.research.google.com/github/EmmaWalker8/ursp688y_sp2024/blob/main/Exercise04_Walker.ipynb\" target=\"_parent\"><img src=\"https://colab.research.google.com/assets/colab-badge.svg\" alt=\"Open In Colab\"/></a>"
      ]
    },
    {
      "cell_type": "markdown",
      "id": "64cfc94b-7f4c-44d0-a738-dcf75ca56307",
      "metadata": {
        "id": "64cfc94b-7f4c-44d0-a738-dcf75ca56307"
      },
      "source": [
        "Urban Data Science & Smart Cities <br>\n",
        "URSP688Y <br>\n",
        "Instructor: Chester Harvey <br>\n",
        "Urban Studies & Planning <br>\n",
        "National Center for Smart Growth <br>\n",
        "University of Maryland"
      ]
    },
    {
      "cell_type": "markdown",
      "id": "40140710-dbbb-4249-99bb-bb317297a1cd",
      "metadata": {
        "id": "40140710-dbbb-4249-99bb-bb317297a1cd"
      },
      "source": [
        "[<img src=\"https://colab.research.google.com/assets/colab-badge.svg\">](https://colab.research.google.com/github/ncsg/ursp688y_sp2024/blob/main/exercises/exercise03/exercise03.ipynb)"
      ]
    },
    {
      "cell_type": "markdown",
      "id": "4dbe22dc-a58d-4a1b-a106-dd923f988e5b",
      "metadata": {
        "id": "4dbe22dc-a58d-4a1b-a106-dd923f988e5b"
      },
      "source": [
        "# Exercise 4 (in Two Parts)\n",
        "\n",
        "# The Data Viz Part\n",
        "\n",
        "Next week is Data Visualization week. This is one of my favorite topics, in part because we get to look at lots of pictures, and in part because it provides an excuse for some very lighthearted competition.\n",
        "\n",
        "In prep for next week, part of your exercise is to find an example of either an _excellent_ or _terrible_ data visualization. We will vote on the best (and worst) in each category, and the winner gets a small (tasty) prize.\n",
        "\n",
        "Please find an example of a data visualization that is either _very effective_ or _terribly ineffective_ in communicating an interesting finding from data. Here are a few ground rules:\n",
        "- One figure only: We should be able to see the whole thing at once on a projector screen.\n",
        "- Static images only: If you find something dynamic or interactive that you _must_ submit, please take a screenshot.\n",
        "- Do the reading first: Tufte will give you some ideas for what makes visualizations good or bad\n",
        "- No examples from Tufte. Gotta work a little bit.\n",
        "\n",
        "Please either paste a link to your image in the text cell below (can you figure out how to get markdown to display the image?) or add an image file to your PR.\n",
        "- Please label it clearly as \"good\" or \"bad\" so we know which race you're in.\n",
        "- Please write a couple bullets about why it's good or bad. This is your pitch (we can haggle about it in class, too.)"
      ]
    },
    {
      "cell_type": "markdown",
      "id": "0a728881-d6ad-43de-a173-9ef8724e0997",
      "metadata": {
        "id": "0a728881-d6ad-43de-a173-9ef8724e0997"
      },
      "source": [
        "## Good/Bad (please choose one and delete the other)\n",
        "- Why\n",
        "- Some more why\n",
        "- Any more?\n",
        "\n",
        "***** Put image link or insert image here *****"
      ]
    },
    {
      "cell_type": "markdown",
      "id": "c1181b6f-7d2f-4c59-98bf-6940085bc1e6",
      "metadata": {
        "id": "c1181b6f-7d2f-4c59-98bf-6940085bc1e6"
      },
      "source": [
        "# The Programming Part\n",
        "\n",
        "## Problem\n",
        "\n",
        "In [Exercise 3](https://github.com/ncsg/ursp688y_sp2024/blob/main/exercises/exercise03/exercise03.ipynb), you examined how many affordable housing units available to households up to 60% AMI were planned within each ward in Washington, D.C.\n",
        "\n",
        "The bonus problem was to calculate which wards were producing a _disproportionately_ large and small number of housing units given their populations.\n",
        "\n",
        "This week, please reproduce this analysis, <ins>including</ins> the bonus part, using some of your new data loading, joining, and module-building skills.\n",
        "\n",
        "Please write a program that:\n",
        "\n",
        "- Loads the affordable housing project data from `affordable_housing.csv`\n",
        "- Loads the ward populations from `wards_from_2022.csv`\n",
        "- Joins the population data to the affordable housing data\n",
        "- Calculates which wards are producing disproportionately large and small number of housing units given their populations\n",
        "- Completes all of this data loading and processing within a function (or a series of functions called by a single main function)\n",
        "- Stores that function (and any related functions) in a module\n",
        "- Calls the main function in the exercise notebook to return table or other summary or results\n",
        "\n",
        "## Data\n",
        "\n",
        "CSVs for both required data tables are included on GitHub at `exercises/exercise04`.\n",
        "\n",
        "Please consult the city's database of [affordable housing](https://opendata.dc.gov/datasets/DCGIS::affordable-housing/about) projects and [ward demographic](https://opendata.dc.gov/datasets/DCGIS::wards-from-2022/about) data.\n",
        "\n",
        "Bonus: find, download, and use more recent ward population data. (Remember to include it in your PR.) My cursory search found data as late as 2022.\n",
        "\n",
        "## New instructions for submitting a PR with multiple files\n",
        "\n",
        "Because you'll be working with multiple files, PRs become _slightly_ more complicated, so we're graduating to a new 'mini-repository' pattern:\n",
        "- Make a new folder in `exercises/exercise04` with your last name (just like the suffix for your notebook file)\n",
        "- Upload your notebook file, also appropriately named, into that folder\n",
        "- Upload any other files you make/use, including `.py` and `.csv` files, into that folder, so everything is together in the same place\n",
        "\n",
        "Ultimately, this will look a bit like this:\n",
        "```\n",
        "── exercises\n",
        "    ├── exercise04\n",
        "        ├── harvey\n",
        "            ├── exercise04_harvey.ipynb\n",
        "            ├── affordable_housing_calcs.py\n",
        "            ├── affordable_housing.csv\n",
        "            └── wards_from_2022.csv\n",
        "```\n",
        "\n",
        "**NOTE:** Yes, I realize this is a bit redundant because everyone will have copies of the same CSV files. This would never be a good idea for production coding--we would have one `data` directory, and everyone would draw from the same data. However, there are two reasons for all these copies in this case:\n",
        "1. It's good practice to build a repository with all the parts your code needs to run.\n",
        "    - In later weeks, when you  _don't_ all have the same data, it won't seem as redundant.\n",
        "3. Having everything in one folder will make it easy for me to run your code on my computer.\n",
        "\n",
        "## Hints\n",
        "- You may want to join the population data _after_ summarizing the affordable housing data (i.e., join populations to sums of units). However, I could also see an approach where you join at the beginning, then aggregate the population column with a method called `first`\n",
        "\n"
      ]
    },
    {
      "cell_type": "code",
      "source": [
        "# Here is my bad visualization image! I am shocked that I got the url to work!\n",
        "\n",
        "from IPython.display import Image\n",
        "\n",
        "Image(url='https://assets-global.website-files.com/61488f4f65be16b5ebbd450b/65ccf42ff14d759a662a3de3_87kXu1UB4eaCyl7vVrrOs0_5yd1aXuNe-HI3fliU-7sLCzYOOB6hDzgQRcQgirS3lingbHROwLEshVy-5R8aNT-GnbtWJhF-fCLqQ7nyHPXcYrpYKStch5HJSzoTD4lLgsf_FWDm.webp')  # Replace with the actual URL\n",
        "\n",
        "\n",
        "\n",
        "\n"
      ],
      "metadata": {
        "colab": {
          "base_uri": "https://localhost:8080/",
          "height": 501
        },
        "id": "7TKnKGQdHSvg",
        "outputId": "c58f8ec1-fb69-4ca4-b5c9-3ef6400987bb"
      },
      "id": "7TKnKGQdHSvg",
      "execution_count": null,
      "outputs": [
        {
          "output_type": "execute_result",
          "data": {
            "text/html": [
              "<img src=\"https://assets-global.website-files.com/61488f4f65be16b5ebbd450b/65ccf42ff14d759a662a3de3_87kXu1UB4eaCyl7vVrrOs0_5yd1aXuNe-HI3fliU-7sLCzYOOB6hDzgQRcQgirS3lingbHROwLEshVy-5R8aNT-GnbtWJhF-fCLqQ7nyHPXcYrpYKStch5HJSzoTD4lLgsf_FWDm.webp\"/>"
            ],
            "text/plain": [
              "<IPython.core.display.Image object>"
            ]
          },
          "metadata": {},
          "execution_count": 5
        }
      ]
    },
    {
      "cell_type": "code",
      "source": [
        "# Use mount method to mount data from Google Drive\n",
        "from google.colab import drive\n",
        "drive.mount('/content/drive')"
      ],
      "metadata": {
        "colab": {
          "base_uri": "https://localhost:8080/"
        },
        "id": "yhjv7QwGJNCi",
        "outputId": "1cacd7bc-0685-4eb6-9f22-663e74c4912e"
      },
      "id": "yhjv7QwGJNCi",
      "execution_count": 12,
      "outputs": [
        {
          "output_type": "stream",
          "name": "stdout",
          "text": [
            "Drive already mounted at /content/drive; to attempt to forcibly remount, call drive.mount(\"/content/drive\", force_remount=True).\n"
          ]
        }
      ]
    },
    {
      "cell_type": "code",
      "source": [
        "# Use os to set the directory\n",
        "import os\n",
        "wd_path = '/content/drive/MyDrive/Colab Notebooks/Walker'\n",
        "os.chdir(wd_path)"
      ],
      "metadata": {
        "id": "v0CQqreEKA97"
      },
      "id": "v0CQqreEKA97",
      "execution_count": 13,
      "outputs": []
    },
    {
      "cell_type": "code",
      "source": [
        "# Use this to finally insert the two files that are needed!!!\n",
        "import pandas as pd\n",
        "\n",
        "affordable_housing_data = pd.read_csv('Affordable_Housing_Data.csv')\n",
        "ward_population_data = pd.read_csv('Wards_from_2022.csv')"
      ],
      "metadata": {
        "id": "RdpLn7YrLKx-"
      },
      "id": "RdpLn7YrLKx-",
      "execution_count": 14,
      "outputs": []
    },
    {
      "cell_type": "code",
      "source": [
        "# Import your data from processing module: 'Housing'\n",
        "from Housing import main\n",
        "main()"
      ],
      "metadata": {
        "id": "E6bDzqcggDvk",
        "colab": {
          "base_uri": "https://localhost:8080/"
        },
        "outputId": "168696dc-0d18-4e95-9d30-bb3013e72910"
      },
      "id": "E6bDzqcggDvk",
      "execution_count": 20,
      "outputs": [
        {
          "output_type": "stream",
          "name": "stdout",
          "text": [
            "    X   Y  OBJECTID_x  MAR_WARD ADDRESS PROJECT_NAME STATUS_PUBLIC  \\\n",
            "0 NaN NaN         NaN       NaN     NaN          NaN           NaN   \n",
            "1 NaN NaN         NaN       NaN     NaN          NaN           NaN   \n",
            "2 NaN NaN         NaN       NaN     NaN          NaN           NaN   \n",
            "3 NaN NaN         NaN       NaN     NaN          NaN           NaN   \n",
            "4 NaN NaN         NaN       NaN     NaN          NaN           NaN   \n",
            "5 NaN NaN         NaN       NaN     NaN          NaN           NaN   \n",
            "6 NaN NaN         NaN       NaN     NaN          NaN           NaN   \n",
            "7 NaN NaN         NaN       NaN     NaN          NaN           NaN   \n",
            "\n",
            "  AGENCY_CALCULATED  TOTAL_AFFORDABLE_UNITS  LATITUDE  ...  P0050010  \\\n",
            "0               NaN                     NaN       NaN  ...      1745   \n",
            "1               NaN                     NaN       NaN  ...       887   \n",
            "2               NaN                     NaN       NaN  ...      1971   \n",
            "3               NaN                     NaN       NaN  ...      1543   \n",
            "4               NaN                     NaN       NaN  ...       752   \n",
            "5               NaN                     NaN       NaN  ...      2699   \n",
            "6               NaN                     NaN       NaN  ...       114   \n",
            "7               NaN                     NaN       NaN  ...       745   \n",
            "\n",
            "   OBJECTID_y                                GLOBALID  CREATED_USER  \\\n",
            "0           1  {E31550AE-6FAE-4B74-909F-52B283BFAF68}           NaN   \n",
            "1           2  {765C4F49-9292-4BDB-AA24-39F4EE43359F}           NaN   \n",
            "2           3  {73F07042-7D7F-452B-9BB3-0F87B0EC5418}           NaN   \n",
            "3           4  {7F8C2A51-427C-45FC-91EB-9693656AED9C}           NaN   \n",
            "4           5  {C3C6E2E7-E68D-49B2-970C-D60675EA7B4B}           NaN   \n",
            "5           6  {6C10DD95-DE70-4F26-94BA-79F378FA74E0}           NaN   \n",
            "6           7  {1185DA9F-91FF-43F8-B7B8-02C8B8F18770}           NaN   \n",
            "7           8  {AEF97B21-5F96-49F6-8C58-0D41FF95B471}           NaN   \n",
            "\n",
            "   CREATED_DATE  LAST_EDITED_USER        LAST_EDITED_DATE  SHAPEAREA  \\\n",
            "0           NaN               NaN                     NaN          0   \n",
            "1           NaN              JLAY  2023/12/07 20:08:04+00          0   \n",
            "2           NaN               NaN                     NaN          0   \n",
            "3           NaN               NaN                     NaN          0   \n",
            "4           NaN              JLAY  2023/12/07 20:08:04+00          0   \n",
            "5           NaN              JLAY  2023/12/07 20:08:04+00          0   \n",
            "6           NaN              JLAY  2023/12/07 20:08:04+00          0   \n",
            "7           NaN               NaN                     NaN          0   \n",
            "\n",
            "   SHAPELEN  housing_units_per_capita  \n",
            "0         0                       NaN  \n",
            "1         0                       NaN  \n",
            "2         0                       NaN  \n",
            "3         0                       NaN  \n",
            "4         0                       NaN  \n",
            "5         0                       NaN  \n",
            "6         0                       NaN  \n",
            "7         0                       NaN  \n",
            "\n",
            "[8 rows x 348 columns]\n",
            "Wards with highest housing_units_per_capita:\n",
            "   MAR_WARD  housing_units_per_capita\n",
            "0       NaN                       NaN\n",
            "1       NaN                       NaN\n",
            "2       NaN                       NaN\n",
            "3       NaN                       NaN\n",
            "4       NaN                       NaN\n",
            "5       NaN                       NaN\n",
            "6       NaN                       NaN\n",
            "7       NaN                       NaN\n",
            "Wards with lowest housing_units_per_capita:\n",
            "   MAR_WARD  housing_units_per_capita\n",
            "0       NaN                       NaN\n",
            "1       NaN                       NaN\n",
            "2       NaN                       NaN\n",
            "3       NaN                       NaN\n",
            "4       NaN                       NaN\n",
            "5       NaN                       NaN\n",
            "6       NaN                       NaN\n",
            "7       NaN                       NaN\n"
          ]
        }
      ]
    },
    {
      "cell_type": "code",
      "source": [
        "affordable_housing_path = '/content/drive/MyDrive/Colab Notebooks/Walker/Affordable_Housing_Data.csv'\n",
        "ward_populations_path = '/content/drive/MyDrive/Colab Notebooks/Walker/Wards_from_2022.csv'\n",
        "\n",
        "df_affordable_housing = load_data(affordable_housing_path)\n",
        "df_ward_populations = load_data(ward_populations_path)"
      ],
      "metadata": {
        "id": "AI2wBS7nQ8tx"
      },
      "id": "AI2wBS7nQ8tx",
      "execution_count": 17,
      "outputs": []
    },
    {
      "cell_type": "code",
      "source": [
        "df_ward_populations.columns"
      ],
      "metadata": {
        "colab": {
          "base_uri": "https://localhost:8080/"
        },
        "id": "10nRuwsRRLoK",
        "outputId": "8debd666-8743-4173-e390-51cfc2cd79ef"
      },
      "id": "10nRuwsRRLoK",
      "execution_count": null,
      "outputs": [
        {
          "output_type": "execute_result",
          "data": {
            "text/plain": [
              "Index(['WARD', 'NAME', 'REP_NAME', 'WEB_URL', 'REP_PHONE', 'REP_EMAIL',\n",
              "       'REP_OFFICE', 'WARD_ID', 'LABEL', 'STUSAB',\n",
              "       ...\n",
              "       'P0050009', 'P0050010', 'OBJECTID', 'GLOBALID', 'CREATED_USER',\n",
              "       'CREATED_DATE', 'LAST_EDITED_USER', 'LAST_EDITED_DATE', 'SHAPEAREA',\n",
              "       'SHAPELEN'],\n",
              "      dtype='object', length=325)"
            ]
          },
          "metadata": {},
          "execution_count": 23
        }
      ]
    },
    {
      "cell_type": "code",
      "source": [
        "df_affordable_housing.columns"
      ],
      "metadata": {
        "colab": {
          "base_uri": "https://localhost:8080/"
        },
        "id": "qRl5R61nRoHW",
        "outputId": "d273f6d4-580f-43c0-abd0-10172b934117"
      },
      "id": "qRl5R61nRoHW",
      "execution_count": null,
      "outputs": [
        {
          "output_type": "execute_result",
          "data": {
            "text/plain": [
              "Index(['X', 'Y', 'OBJECTID', 'MAR_WARD', 'ADDRESS', 'PROJECT_NAME',\n",
              "       'STATUS_PUBLIC', 'AGENCY_CALCULATED', 'TOTAL_AFFORDABLE_UNITS',\n",
              "       'LATITUDE', 'LONGITUDE', 'AFFORDABLE_UNITS_AT_0_30_AMI',\n",
              "       'AFFORDABLE_UNITS_AT_31_50_AMI', 'AFFORDABLE_UNITS_AT_51_60_AMI',\n",
              "       'AFFORDABLE_UNITS_AT_61_80_AMI', 'AFFORDABLE_UNITS_AT_81_AMI',\n",
              "       'CASE_ID', 'MAR_ID', 'XCOORD', 'YCOORD', 'FULLADDRESS',\n",
              "       'GIS_LAST_MOD_DTTM'],\n",
              "      dtype='object')"
            ]
          },
          "metadata": {},
          "execution_count": 24
        }
      ]
    }
  ],
  "metadata": {
    "kernelspec": {
      "display_name": "Python 3 (ipykernel)",
      "language": "python",
      "name": "python3"
    },
    "language_info": {
      "codemirror_mode": {
        "name": "ipython",
        "version": 3
      },
      "file_extension": ".py",
      "mimetype": "text/x-python",
      "name": "python",
      "nbconvert_exporter": "python",
      "pygments_lexer": "ipython3",
      "version": "3.10.12"
    },
    "colab": {
      "provenance": [],
      "include_colab_link": true
    }
  },
  "nbformat": 4,
  "nbformat_minor": 5
}