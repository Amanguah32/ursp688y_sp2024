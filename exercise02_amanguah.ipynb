# Question 1
# pseudocode
# First off I will surf through using a for loop to get the service type requested
# create a list of the service requests made
# use a simple count to determine the number of service requested

request_made = []
# request_made.append(service_requests)[request_type]["Request Type"]

from collections import Counter

# using for loop to select request type made from the dictionary poll
for request_type in service_requests:
  #print(service_requests[request_type]["Request Type"])
# Adding the created or extracted requests type to the empty request_made list created
  request_made.append(service_requests[request_type]["Request Type"])

# using a count to determing the number of each requests type made
ebenezer = Counter(request_made)
ebenezer
